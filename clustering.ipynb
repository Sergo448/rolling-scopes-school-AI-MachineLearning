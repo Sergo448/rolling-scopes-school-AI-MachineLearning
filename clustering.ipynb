{
 "cells": [
  {
   "cell_type": "markdown",
   "metadata": {},
   "source": [
    "Each task that is proposed to be completed as part of the homework has a declared \"price\" in points. The maximum possible amount is 10 points, and together with the bonus assignment - 12 points. It is not necessary to complete all the tasks, only a part can be done. Most of the points expect you to write working Python code; sometimes you will need to write comments - for example, to compare several approaches to solve the same problem. Also you can add more cells for your convenience if you need."
   ]
  },
  {
   "cell_type": "markdown",
   "metadata": {},
   "source": [
    "This homework focuses on clustering. We will work with images of handwritten digits, learn how to cluster them using two different methods (hierarchical clustering and the 𝐾-means algorithm), evaluate the quality of the partition and choose the optimal number of clusters, as well as visualize intermediate results."
   ]
  },
  {
   "cell_type": "markdown",
   "metadata": {},
   "source": [
    "## 1. Loading data\n",
    "The data we will be working with is available in the scikit-learn library (`sklearn` module) in the `datasets` submodule via the `load_digits` function. The data contains 1,797 observations, each of which is 8×8 pixel image of a handwritten digit from 0 to 9. This is about the same amount of each digit (about 180).\n",
    "\n",
    "For convenience, every image expands to a 64 (8×8) row, so entire numpy array is 1797×64. The color intensity in each pixel is encoded with an integer from 0 to 16.\n",
    "\n",
    "In addition to images, their labels are also known. In this task, we will assume that the labels (as well as their amount) are unknown and try to group the data in such a way that the resulting clusters 'better match' the original ones. Possible options for determining the 'better match' are presented later."
   ]
  },
  {
   "cell_type": "markdown",
   "metadata": {},
   "source": [
    "**(0.25 points)** Load the images into `X` variable, and their labels into `y` variable."
   ]
  },
  {
   "cell_type": "code",
   "execution_count": 1,
   "metadata": {},
   "outputs": [
    {
     "name": "stdout",
     "output_type": "stream",
     "text": [
      "(1797, 64)\n"
     ]
    }
   ],
   "source": [
    "from sklearn.datasets import load_digits\n",
    "import matplotlib.pyplot as plt\n",
    "digits = load_digits()\n",
    "print(digits.data.shape)"
   ]
  },
  {
   "cell_type": "code",
   "execution_count": 2,
   "metadata": {},
   "outputs": [],
   "source": [
    "X, y = digits.data, digits.target"
   ]
  },
  {
   "cell_type": "code",
   "execution_count": 3,
   "metadata": {},
   "outputs": [],
   "source": [
    "assert X.shape == (1797, 64)\n",
    "assert y.shape == (1797,)"
   ]
  },
  {
   "cell_type": "markdown",
   "metadata": {},
   "source": [
    "**(0.5 points)** Visualize the first 10 images.\n",
    "\n",
    "- Arrange images on a grid rather than in a row. You may need the `subplot` and `imshow` functions from the `pyplot` module in the `matplotlib` library.\n",
    "- You will also need to reshape the images to 8×8.\n",
    "- Remove ticks and labels from both axes. The `xticks` and `yticks` functions or the `tick_params` function from `pyplot` can help you with this.\n",
    "- Make the output good sized with the `figure` function from `pyplot`."
   ]
  },
  {
   "cell_type": "code",
   "execution_count": 4,
   "metadata": {},
   "outputs": [
    {
     "data": {
      "image/png": "[encoded data removed]",
      "text/plain": [
       "<Figure size 720x720 with 10 Axes>"
      ]
     },
     "metadata": {},
     "output_type": "display_data"
    }
   ],
   "source": [
    "import matplotlib.pyplot as plt\n",
    "# Figure size (width, height) in inches\n",
    "fig = plt.figure(figsize=(10, 10))\n",
    "\n",
    "# Adjust the subplots \n",
    "fig.subplots_adjust(left=0, right=1, bottom=0, top=1, hspace=0.05, wspace=0.05)\n",
    "\n",
    "# For each of the 64 images\n",
    "for i in range(10):\n",
    "    # Initialize the subplots: add a subplot in the grid of 8 by 8, at the i+1-th position\n",
    "    ax = fig.add_subplot(5, 5, i + 1, xticks=[], yticks=[])\n",
    "    # Display an image at the i-th position\n",
    "    ax.imshow(digits.images[i], cmap=plt.cm.binary, interpolation='nearest')\n",
    "    # label the image with the target value\n",
    "    ax.set_title(f'Digit: {i}')\n",
    "\n",
    "# Show the plot\n",
    "plt.show()"
   ]
  },
  {
   "cell_type": "markdown",
   "metadata": {},
   "source": [
    "## 2. Clustering and quality evaluation"
   ]
  },
  {
   "cell_type": "markdown",
   "metadata": {},
   "source": [
    "**(2 points)** Implement the the KMeans algorithm. Use objective function $L = \\sum_{i=1}^{n}|x_{i}-Z_{A(x_{i})}|^{2}$, where $Z_{A(x_{i})}$ is the center of the cluster corresponding to $x_{i}$ object."
   ]
  },
  {
   "cell_type": "code",
   "execution_count": 5,
   "metadata": {},
   "outputs": [],
   "source": [
    "from sklearn.exceptions import NotFittedError\n",
    "from numpy.random import RandomState\n",
    "import sklearn \n",
    "import numpy as np"
   ]
  },
  {
   "cell_type": "code",
   "execution_count": 6,
   "metadata": {},
   "outputs": [],
   "source": [
    "from sklearn.metrics.pairwise import pairwise_distances\n",
    "from sklearn.cluster import KMeans"
   ]
  },
  {
   "cell_type": "raw",
   "metadata": {},
   "source": [
    "=============================================\n",
    "=============================================\n",
    "\n",
    "               Don't working\n",
    "\n",
    "=============================================\n",
    "=============================================\n",
    "\n",
    "class CustomKMeans:\n",
    "    def __init__(self, n_clusters=2, max_iter=30, n_init=10, random_state=42):\n",
    "        '''K-Means clustering.\n",
    "        \n",
    "        Args:\n",
    "            n_clusters: int, default=2\n",
    "                The number of clusters to be formed is also \n",
    "                the number of centroids to generate. \n",
    "            max_iter: int, default=300\n",
    "                Maximum number of iterations of the k-means algorithm for a\n",
    "                single run.\n",
    "            n_init: int, default=10\n",
    "                Number of time the k-means algorithm will be run with different\n",
    "                centroid seeds. The final results will be the best output of\n",
    "                n_init consecutive runs in terms of objective function.\n",
    "            random_state: int, default=42\n",
    "                Random state.\n",
    "        '''\n",
    "        self.n_clusters = n_clusters\n",
    "        self.n_init = n_init\n",
    "        self.max_iter = max_iter\n",
    "        self.random_state = RandomState(seed=random_state)\n",
    "        \n",
    "    def calculate_distances_to_centroids(self, X, cluster_centers):\n",
    "        \"\"\"\n",
    "        Returns (n, c) matrix where the element at position (i, j) \n",
    "        is the distance from i-th object to j-th centroid.\"\"\"\n",
    "        calculate_distances_to_centroids = sklearn.metrics.pairwise.pairwise_distances(X, metric='euclidean', n_jobs=1)\n",
    "        return calculate_distances_to_centroids\n",
    "        \n",
    "    def update_centroids(self, X, nearest_clusters):\n",
    "        \"\"\"\n",
    "        Returns numpy array of shape (n_clusters, n_features) - \n",
    "        new clusters that are found by averaging objects belonging \n",
    "        to the corresponding cluster.\"\"\"\n",
    "        centroids = np.zeros((self.n_clusters, X.shape[0]))\n",
    "        for k in range (self.n_clusters):\n",
    "            centroids[k, :] = np.mean(X[nearest_clusters == k, :])\n",
    "        return centroids\n",
    "    \n",
    "    #===================================\n",
    "    #===================================\n",
    "    #       CUSTOM CUSTOM\n",
    "    #===================================\n",
    "    #===================================\n",
    "        \n",
    "    \n",
    "    def fit(self, X):\n",
    "        \"\"\"Fit the model.\n",
    "        \n",
    "        Args:\n",
    "            X: numpy array of shape (n_samples, n_features)\n",
    "        \"\"\"\n",
    "        assert X.shape[0] >= self.n_clusters\n",
    "        self.cluster_centers_ = None\n",
    "        curr_l2_norm = 1_000_000_000\n",
    "        \n",
    "        for i in range(self.n_init):\n",
    "            row, col = X.shape\n",
    "            cluster_centers = np.zeros((self.n_clusters, X.shape[1]))\n",
    "            \n",
    "            for j in range(self.n_clusters):\n",
    "                RIndex = self.random_state.randint(row)\n",
    "                cluster_centers[i] = X[RIndex]\n",
    "                \n",
    "            for jj in range(self.max_iter):\n",
    "                nearest_clusters = self.calculate_distances_to_centroids(X, cluster_centers)\n",
    "                clusters_centers = self.update_centroids(X, np.argmin(nearest_clusters, axis=0))\n",
    "            l2_norm_pred = curr_l2_norm\n",
    "            nearest_clusters = self.calculate_distances_to_centroids(X, cluster_centers)\n",
    "            curr_l2_norm = np.linalg.norm(np.min(nearest_clusters, axis=1)**2)\n",
    "            \n",
    "            if curr_l2_norm < l2_norm_pred:\n",
    "                self.cluster_centers_ = cluster_centers\n",
    "                \n",
    "        return self\n",
    "                \n",
    "                          \n",
    "    \n",
    "    def predict(self, X):\n",
    "        \"\"\"Predict classes.\n",
    "        \n",
    "        Args:\n",
    "            X: numpy array of shape (n_samples, n_features)\n",
    "        Returns:\n",
    "            y: numpy array of shape (n_samples,)\n",
    "                Vector containing predicted cluster labels.\n",
    "        \"\"\"\n",
    "        if hasattr(self, 'cluster_centers_'):\n",
    "            dists = self.calculate_distances_to_centroids(X, self.clusters_centers_)\n",
    "            clusters - np.argmin(dists, axis=1)\n",
    "            return clusters\n",
    "        else: \n",
    "            raise NotFittedError(\"CustomKMeans instance is not fitted yet\")"
   ]
  },
  {
   "cell_type": "code",
   "execution_count": 7,
   "metadata": {},
   "outputs": [],
   "source": [
    "class CustomKMeans:\n",
    "    def __init__(self, n_clusters=2, max_iter=30, n_init=10, random_state=42):\n",
    "        '''K-Means clustering.\n",
    "\n",
    "        Args:\n",
    "            n_clusters: int, default=2\n",
    "                The number of clusters to be formed is also \n",
    "                the number of centroids to generate. \n",
    "            max_iter: int, default=300\n",
    "                Maximum number of iterations of the k-means algorithm for a\n",
    "                single run.\n",
    "            n_init: int, default=10\n",
    "                Number of time the k-means algorithm will be run with different\n",
    "                centroid seeds. The final results will be the best output of\n",
    "                n_init consecutive runs in terms of objective function.\n",
    "            random_state: int, default=42\n",
    "                Random state.\n",
    "        '''\n",
    "        self.n_clusters = n_clusters\n",
    "        self.n_init = n_init\n",
    "        self.max_iter = max_iter\n",
    "        self.random_state = RandomState(seed=random_state)\n",
    "        self.histoty = []\n",
    "\n",
    "    def calculate_distances_to_centroids(self, X, cluster_centers):\n",
    "        \"\"\"\n",
    "        Returns (n, c) matrix where the element at position (i, j) \n",
    "        is the distance from i-th object to j-th centroid.\"\"\"\n",
    "        calculate_distances_to_centroids = pairwise_distances(X, cluster_centers, metric='euclidean', n_jobs=1)\n",
    "        return calculate_distances_to_centroids\n",
    "\n",
    "    def update_centroids(self, X, nearest_clusters):\n",
    "        \"\"\"\n",
    "        Returns numpy array of shape (n_clusters, n_features) - \n",
    "        new clusters that are found by averaging objects belonging \n",
    "        to the corresponding cluster.\"\"\"\n",
    "        new_centroids = []\n",
    "        #print(nearest_clusters.shape)\n",
    "        for i in range(self.n_clusters):\n",
    "            centroids = X[np.where(nearest_clusters == i)].mean(axis = 0)\n",
    "            new_centroids.append(centroids)# <your code>\n",
    "        return np.array(new_centroids)\n",
    "        #centroids = np.zeros((self.n_clusters, X.shape[0]))\n",
    "        #for k in range (self.n_clusters):\n",
    "        #    centroids[k, :] = np.mean(X[nearest_clusters == k, :], axis=1)\n",
    "        #return centroids\n",
    "\n",
    "    def fit(self, X):\n",
    "             \n",
    "        \"\"\"Fit the model.\n",
    "\n",
    "        Args:\n",
    "            X: numpy array of shape (n_samples, n_features)\n",
    "        \"\"\"\n",
    "        assert X.shape[0] >= self.n_clusters\n",
    "        # <your code>\n",
    "        row, col = X.shape\n",
    "        old_centroids = []\n",
    "        #while True:\n",
    "        #    if len(old_centroids) == self.n_clusters:\n",
    "        #        break\n",
    "        #    else:\n",
    "        #        number = np.random.randint(0, len(X),1)\n",
    "        #        old_centroids.add(number[0])\n",
    "                #print(old_centroids)\n",
    "                #if not(number not in old_centroids):\n",
    "                #    old_centroids.append(number[0])\n",
    "                #    print(old_centroids)\n",
    "        #cluster_centers_ = None        \n",
    "        for j in range(self.n_clusters):\n",
    "            RIndex = self.random_state.randint(row)\n",
    "            old_centroids.append(X[RIndex]) \n",
    "    \n",
    "        iteration = 0\n",
    "        cluster_centers = old_centroids\n",
    "        optimized = True\n",
    "        distances_to_centroids_SUM = 0\n",
    "        while optimized:\n",
    "            old_cluster_centers = cluster_centers\n",
    "            old_distances_to_centroids_SUM = distances_to_centroids_SUM\n",
    "            #print(distances_to_centroids.shape)\n",
    "            distances_to_centroids = self.calculate_distances_to_centroids(X, old_cluster_centers)\n",
    "            #print(distances_to_centroids.shape)\n",
    "            distances_to_centroids_SUM = np.sum(np.power(distances_to_centroids,2))\n",
    "            classification = distances_to_centroids.argmin(axis = 1)\n",
    "            #print(classification)\n",
    "            #print(np.unique(classification))\n",
    "            #print(len(np.unique(classification)))\n",
    "            cluster_centers = self.update_centroids(X, classification)\n",
    "            #print(old_distances_to_centroids_SUM - distances_to_centroids_SUM)\n",
    "            self.histoty.append(old_distances_to_centroids_SUM - distances_to_centroids_SUM)\n",
    "            if abs(old_distances_to_centroids_SUM - distances_to_centroids_SUM)<0.1:\n",
    "                optimized = False\n",
    "            iteration +=1\n",
    "            if iteration == self.max_iter:\n",
    "                optimized = False\n",
    "        self.iteration = iteration\n",
    "        self.cluster_centers_ = cluster_centers\n",
    "        return classification\n",
    "\n",
    "    def predict(self, X):\n",
    "        \"\"\"Predict classes.\n",
    "\n",
    "        Args:\n",
    "            X: numpy array of shape (n_samples, n_features)\n",
    "        Returns:\n",
    "            y: numpy array of shape (n_samples,)\n",
    "                Vector containing predicted cluster labels.\n",
    "        \"\"\"\n",
    "        if hasattr(self, 'cluster_centers_'):\n",
    "            distances_to_centroids = self.calculate_distances_to_centroids(X, self.cluster_centers_)\n",
    "            classification = distances_to_centroids.argmin(axis = 1)\n",
    "            return classification\n",
    "            # <your code>\n",
    "            #pass\n",
    "        else:\n",
    "            raise NotFittedError(\"CustomKMeans instance is not fitted yet\")"
   ]
  },
  {
   "cell_type": "markdown",
   "metadata": {},
   "source": [
    "**(1 points)** Get the `X` array partition into 10 clusters. Visualize the centers of clusters.\n",
    "- We will assume that the center of the cluster is average value of all observations belonging to the cluster.\n",
    "- The cluster centers should have the same shape as our observations (64). So you have to average the points across the rows."
   ]
  },
  {
   "cell_type": "code",
   "execution_count": 8,
   "metadata": {},
   "outputs": [],
   "source": [
    "C_KM = CustomKMeans(n_clusters=10,  max_iter=30, n_init=10)"
   ]
  },
  {
   "cell_type": "code",
   "execution_count": 9,
   "metadata": {},
   "outputs": [
    {
     "data": {
      "text/plain": [
       "array([8, 0, 0, ..., 2, 4, 2], dtype=int64)"
      ]
     },
     "execution_count": 9,
     "metadata": {},
     "output_type": "execute_result"
    }
   ],
   "source": [
    "C_KM.fit(X)"
   ]
  },
  {
   "cell_type": "code",
   "execution_count": 10,
   "metadata": {},
   "outputs": [
    {
     "data": {
      "image/png": "[encoded data removed]",
      "text/plain": [
       "<Figure size 576x216 with 10 Axes>"
      ]
     },
     "metadata": {},
     "output_type": "display_data"
    }
   ],
   "source": [
    "fig, ax = plt.subplots(2, 5, figsize=(8, 3))\n",
    "centers = C_KM.cluster_centers_.reshape(10, 8, 8)\n",
    "\n",
    "for axi, center in zip(ax.flat, centers):\n",
    "    axi.set(xticks=[], yticks=[])\n",
    "    axi.imshow(center, interpolation='nearest', cmap=plt.cm.binary)"
   ]
  },
  {
   "cell_type": "code",
   "execution_count": 11,
   "metadata": {},
   "outputs": [
    {
     "data": {
      "text/plain": [
       "<matplotlib.collections.PathCollection at 0x1f59b5c0790>"
      ]
     },
     "execution_count": 11,
     "metadata": {},
     "output_type": "execute_result"
    },
    {
     "data": {
      "image/png": "[encoded data removed]",
      "text/plain": [
       "<Figure size 432x288 with 1 Axes>"
      ]
     },
     "metadata": {
      "needs_background": "light"
     },
     "output_type": "display_data"
    }
   ],
   "source": [
    "plt.xlabel('Количество итераций')\n",
    "plt.ylabel('Ошибка')\n",
    "plt.scatter([i for i in range(C_KM.iteration)],C_KM.histoty)"
   ]
  },
  {
   "cell_type": "markdown",
   "metadata": {},
   "source": [
    "**(0.5 points)** Experiment with `max_iter` and `n_init` parameters. Look at the range of values of the objective function, it's best values, at what parameters and how often they are achieved."
   ]
  },
  {
   "cell_type": "code",
   "execution_count": 12,
   "metadata": {},
   "outputs": [],
   "source": [
    "# Оригинальный\n",
    "# C_KM = CustomKMeans(n_clusters=10,  max_iter=30, n_init=10)\n",
    "\n",
    "# Меняем max_iter c 30 на 20 n_init не трогаем\n",
    "C_KM_2_1 = CustomKMeans(n_clusters=10,  max_iter=20, n_init=10)\n",
    "\n",
    "# Меняем max_iter c 30 на 20 n_init с 10 на 20\n",
    "C_KM_2_2 = CustomKMeans(n_clusters=10,  max_iter=20, n_init=20)\n",
    "\n",
    "# Меняем max_iter c 30 на 40 n_init не трогаем\n",
    "C_KM_2_3 = CustomKMeans(n_clusters=10,  max_iter=40, n_init=10)\n",
    "\n",
    "# Меняем max_iter c 30 на 40 n_init с 10 на 20\n",
    "C_KM_2_4 = CustomKMeans(n_clusters=10,  max_iter=40, n_init=20)\n",
    "\n",
    "# ============================================================\n",
    "# ============================================================\n",
    "\n",
    "#                       Part with changing n_init\n",
    "\n",
    "# ============================================================\n",
    "# ============================================================\n",
    "\n",
    "\n",
    "# max_iter не трогаем n_init с 10 на 20\n",
    "C_KM_3_1 = CustomKMeans(n_clusters=10,  max_iter=30, n_init=20)\n",
    "\n",
    "# max_iter c 30 до 20 n_init с 10 на 20\n",
    "C_KM_3_2 = CustomKMeans(n_clusters=10,  max_iter=20 , n_init=20)\n",
    "\n",
    "# max_iter c 30 до 40 n_init с 10 на 20\n",
    "C_KM_3_3 = CustomKMeans(n_clusters=10,  max_iter=40 , n_init=20)\n",
    "\n",
    "# max_iter не трогаем  n_init с 10 на 30\n",
    "C_KM_3_4 = CustomKMeans(n_clusters=10,  max_iter=30, n_init=30)\n",
    "\n",
    "# max_iter c 30 до 20 n_init с 10 на 30\n",
    "C_KM_3_5 = CustomKMeans(n_clusters=10,  max_iter=20 , n_init=30)\n",
    "\n",
    "# max_iter c 30 до 40 n_init с 10 на 30\n",
    "C_KM_3_6 = CustomKMeans(n_clusters=10,  max_iter=40 , n_init=30)"
   ]
  },
  {
   "cell_type": "code",
   "execution_count": 13,
   "metadata": {},
   "outputs": [
    {
     "data": {
      "text/plain": [
       "array([8, 0, 0, ..., 2, 4, 2], dtype=int64)"
      ]
     },
     "execution_count": 13,
     "metadata": {},
     "output_type": "execute_result"
    }
   ],
   "source": [
    "# Обучаем каждый \n",
    "C_KM_2_1.fit(X)"
   ]
  },
  {
   "cell_type": "code",
   "execution_count": 14,
   "metadata": {},
   "outputs": [
    {
     "data": {
      "text/plain": [
       "array([8, 0, 0, ..., 2, 4, 2], dtype=int64)"
      ]
     },
     "execution_count": 14,
     "metadata": {},
     "output_type": "execute_result"
    }
   ],
   "source": [
    "C_KM_2_2.fit(X)"
   ]
  },
  {
   "cell_type": "code",
   "execution_count": 15,
   "metadata": {},
   "outputs": [
    {
     "data": {
      "text/plain": [
       "array([8, 0, 0, ..., 2, 4, 2], dtype=int64)"
      ]
     },
     "execution_count": 15,
     "metadata": {},
     "output_type": "execute_result"
    }
   ],
   "source": [
    "C_KM_2_3.fit(X)"
   ]
  },
  {
   "cell_type": "code",
   "execution_count": 16,
   "metadata": {},
   "outputs": [
    {
     "data": {
      "text/plain": [
       "array([8, 0, 0, ..., 2, 4, 2], dtype=int64)"
      ]
     },
     "execution_count": 16,
     "metadata": {},
     "output_type": "execute_result"
    }
   ],
   "source": [
    "C_KM_2_4.fit(X)"
   ]
  },
  {
   "cell_type": "code",
   "execution_count": 17,
   "metadata": {},
   "outputs": [
    {
     "data": {
      "text/plain": [
       "array([8, 0, 0, ..., 2, 4, 2], dtype=int64)"
      ]
     },
     "execution_count": 17,
     "metadata": {},
     "output_type": "execute_result"
    }
   ],
   "source": [
    "C_KM_3_1.fit(X)\n"
   ]
  },
  {
   "cell_type": "code",
   "execution_count": 18,
   "metadata": {},
   "outputs": [
    {
     "data": {
      "text/plain": [
       "array([8, 0, 0, ..., 2, 4, 2], dtype=int64)"
      ]
     },
     "execution_count": 18,
     "metadata": {},
     "output_type": "execute_result"
    }
   ],
   "source": [
    "C_KM_3_2.fit(X)"
   ]
  },
  {
   "cell_type": "code",
   "execution_count": 19,
   "metadata": {},
   "outputs": [
    {
     "data": {
      "text/plain": [
       "array([8, 0, 0, ..., 2, 4, 2], dtype=int64)"
      ]
     },
     "execution_count": 19,
     "metadata": {},
     "output_type": "execute_result"
    }
   ],
   "source": [
    "C_KM_3_3.fit(X)"
   ]
  },
  {
   "cell_type": "code",
   "execution_count": 20,
   "metadata": {},
   "outputs": [
    {
     "data": {
      "text/plain": [
       "array([8, 0, 0, ..., 2, 4, 2], dtype=int64)"
      ]
     },
     "execution_count": 20,
     "metadata": {},
     "output_type": "execute_result"
    }
   ],
   "source": [
    "C_KM_3_4.fit(X)"
   ]
  },
  {
   "cell_type": "code",
   "execution_count": 21,
   "metadata": {},
   "outputs": [
    {
     "data": {
      "text/plain": [
       "array([8, 0, 0, ..., 2, 4, 2], dtype=int64)"
      ]
     },
     "execution_count": 21,
     "metadata": {},
     "output_type": "execute_result"
    }
   ],
   "source": [
    "C_KM_3_5.fit(X)"
   ]
  },
  {
   "cell_type": "code",
   "execution_count": 22,
   "metadata": {},
   "outputs": [
    {
     "data": {
      "text/plain": [
       "array([8, 0, 0, ..., 2, 4, 2], dtype=int64)"
      ]
     },
     "execution_count": 22,
     "metadata": {},
     "output_type": "execute_result"
    }
   ],
   "source": [
    "C_KM_3_6.fit(X)"
   ]
  },
  {
   "cell_type": "markdown",
   "metadata": {},
   "source": [
    "ВЫВЕДЕМ ВСЕ КАРТИНКИ"
   ]
  },
  {
   "cell_type": "code",
   "execution_count": 23,
   "metadata": {},
   "outputs": [
    {
     "data": {
      "image/png": "[encoded data removed]",
      "text/plain": [
       "<Figure size 576x216 with 10 Axes>"
      ]
     },
     "metadata": {},
     "output_type": "display_data"
    }
   ],
   "source": [
    "fig, ax = plt.subplots(2, 5, figsize=(8, 3))\n",
    "centers = C_KM_2_1.cluster_centers_.reshape(10, 8, 8)\n",
    "\n",
    "for axi, center in zip(ax.flat, centers):\n",
    "    axi.set(xticks=[], yticks=[])\n",
    "    axi.imshow(center, interpolation='nearest', cmap=plt.cm.binary)"
   ]
  },
  {
   "cell_type": "code",
   "execution_count": 24,
   "metadata": {},
   "outputs": [
    {
     "data": {
      "image/png": "[encoded data removed]",
      "text/plain": [
       "<Figure size 576x216 with 10 Axes>"
      ]
     },
     "metadata": {},
     "output_type": "display_data"
    }
   ],
   "source": [
    "fig, ax = plt.subplots(2, 5, figsize=(8, 3))\n",
    "centers = C_KM_2_2.cluster_centers_.reshape(10, 8, 8)\n",
    "\n",
    "for axi, center in zip(ax.flat, centers):\n",
    "    axi.set(xticks=[], yticks=[])\n",
    "    axi.imshow(center, interpolation='nearest', cmap=plt.cm.binary)"
   ]
  },
  {
   "cell_type": "code",
   "execution_count": 25,
   "metadata": {},
   "outputs": [
    {
     "data": {
      "image/png": "[encoded data removed]",
      "text/plain": [
       "<Figure size 576x216 with 10 Axes>"
      ]
     },
     "metadata": {},
     "output_type": "display_data"
    }
   ],
   "source": [
    "fig, ax = plt.subplots(2, 5, figsize=(8, 3))\n",
    "centers = C_KM_2_3.cluster_centers_.reshape(10, 8, 8)\n",
    "\n",
    "for axi, center in zip(ax.flat, centers):\n",
    "    axi.set(xticks=[], yticks=[])\n",
    "    axi.imshow(center, interpolation='nearest', cmap=plt.cm.binary)"
   ]
  },
  {
   "cell_type": "code",
   "execution_count": 26,
   "metadata": {},
   "outputs": [
    {
     "data": {
      "image/png": "[encoded data removed]",
      "text/plain": [
       "<Figure size 576x216 with 10 Axes>"
      ]
     },
     "metadata": {},
     "output_type": "display_data"
    }
   ],
   "source": [
    "fig, ax = plt.subplots(2, 5, figsize=(8, 3))\n",
    "centers = C_KM_2_4.cluster_centers_.reshape(10, 8, 8)\n",
    "\n",
    "for axi, center in zip(ax.flat, centers):\n",
    "    axi.set(xticks=[], yticks=[])\n",
    "    axi.imshow(center, interpolation='nearest', cmap=plt.cm.binary)"
   ]
  },
  {
   "cell_type": "code",
   "execution_count": 27,
   "metadata": {},
   "outputs": [
    {
     "data": {
      "image/png": "[encoded data removed]",
      "text/plain": [
       "<Figure size 576x216 with 10 Axes>"
      ]
     },
     "metadata": {},
     "output_type": "display_data"
    }
   ],
   "source": [
    "fig, ax = plt.subplots(2, 5, figsize=(8, 3))\n",
    "centers = C_KM_3_1.cluster_centers_.reshape(10, 8, 8)\n",
    "\n",
    "for axi, center in zip(ax.flat, centers):\n",
    "    axi.set(xticks=[], yticks=[])\n",
    "    axi.imshow(center, interpolation='nearest', cmap=plt.cm.binary)"
   ]
  },
  {
   "cell_type": "code",
   "execution_count": 28,
   "metadata": {},
   "outputs": [
    {
     "data": {
      "image/png": "[encoded data removed]",
      "text/plain": [
       "<Figure size 576x216 with 10 Axes>"
      ]
     },
     "metadata": {},
     "output_type": "display_data"
    }
   ],
   "source": [
    "fig, ax = plt.subplots(2, 5, figsize=(8, 3))\n",
    "centers = C_KM_3_2.cluster_centers_.reshape(10, 8, 8)\n",
    "\n",
    "for axi, center in zip(ax.flat, centers):\n",
    "    axi.set(xticks=[], yticks=[])\n",
    "    axi.imshow(center, interpolation='nearest', cmap=plt.cm.binary)"
   ]
  },
  {
   "cell_type": "code",
   "execution_count": 29,
   "metadata": {},
   "outputs": [
    {
     "data": {
      "image/png": "[encoded data removed]",
      "text/plain": [
       "<Figure size 576x216 with 10 Axes>"
      ]
     },
     "metadata": {},
     "output_type": "display_data"
    }
   ],
   "source": [
    "fig, ax = plt.subplots(2, 5, figsize=(8, 3))\n",
    "centers = C_KM_3_3.cluster_centers_.reshape(10, 8, 8)\n",
    "\n",
    "for axi, center in zip(ax.flat, centers):\n",
    "    axi.set(xticks=[], yticks=[])\n",
    "    axi.imshow(center, interpolation='nearest', cmap=plt.cm.binary)"
   ]
  },
  {
   "cell_type": "code",
   "execution_count": 30,
   "metadata": {},
   "outputs": [
    {
     "data": {
      "image/png": "[encoded data removed]",
      "text/plain": [
       "<Figure size 576x216 with 10 Axes>"
      ]
     },
     "metadata": {},
     "output_type": "display_data"
    }
   ],
   "source": [
    "fig, ax = plt.subplots(2, 5, figsize=(8, 3))\n",
    "centers = C_KM_3_4.cluster_centers_.reshape(10, 8, 8)\n",
    "\n",
    "for axi, center in zip(ax.flat, centers):\n",
    "    axi.set(xticks=[], yticks=[])\n",
    "    axi.imshow(center, interpolation='nearest', cmap=plt.cm.binary)"
   ]
  },
  {
   "cell_type": "code",
   "execution_count": 31,
   "metadata": {},
   "outputs": [
    {
     "data": {
      "image/png": "[encoded data removed]",
      "text/plain": [
       "<Figure size 576x216 with 10 Axes>"
      ]
     },
     "metadata": {},
     "output_type": "display_data"
    }
   ],
   "source": [
    "fig, ax = plt.subplots(2, 5, figsize=(8, 3))\n",
    "centers = C_KM_3_5.cluster_centers_.reshape(10, 8, 8)\n",
    "\n",
    "for axi, center in zip(ax.flat, centers):\n",
    "    axi.set(xticks=[], yticks=[])\n",
    "    axi.imshow(center, interpolation='nearest', cmap=plt.cm.binary)"
   ]
  },
  {
   "cell_type": "code",
   "execution_count": 32,
   "metadata": {},
   "outputs": [
    {
     "data": {
      "image/png": "[encoded data removed]",
      "text/plain": [
       "<Figure size 576x216 with 10 Axes>"
      ]
     },
     "metadata": {},
     "output_type": "display_data"
    }
   ],
   "source": [
    "fig, ax = plt.subplots(2, 5, figsize=(8, 3))\n",
    "centers = C_KM_3_6.cluster_centers_.reshape(10, 8, 8)\n",
    "\n",
    "for axi, center in zip(ax.flat, centers):\n",
    "    axi.set(xticks=[], yticks=[])\n",
    "    axi.imshow(center, interpolation='nearest', cmap=plt.cm.binary)"
   ]
  },
  {
   "cell_type": "markdown",
   "metadata": {},
   "source": [
    "Лично я не увидел большой разности в изменении параметров"
   ]
  },
  {
   "cell_type": "markdown",
   "metadata": {},
   "source": [
    "Now we will use two popular algorithms: hierarchical clustering and $K$-means clustering. These and other algorithms are available in the `scikit-learn` module in the `cluster` submodule. Hierarchical clustering is called `AgglomerativeClustering`, and the $K$-means method is called `KMeans`.\n",
    "\n",
    "**(0.5 points)** Use each of the two methods: hierarchical clustering and KMeans. Get the `X` array partition into 10 clusters.\n",
    "\n",
    "- Note that `AgglomerativeClustering` does not have a `predict` method, so you can either use the `fit_predict` method or use the `fit` method and then look at the `labels_` attribute of the class instance.\n",
    "- Kmeans performs multiple runs (default 10) with random centers and then returns the best partition in terms of average distance within the clusters. You can increase the number of runs to improve the quality of predictions in the `i_init` parameter."
   ]
  },
  {
   "cell_type": "code",
   "execution_count": 33,
   "metadata": {},
   "outputs": [],
   "source": [
    "from sklearn.cluster import AgglomerativeClustering, KMeans\n",
    "from sklearn.model_selection import train_test_split\n",
    "from sklearn.metrics import accuracy_score"
   ]
  },
  {
   "cell_type": "markdown",
   "metadata": {},
   "source": [
    "Here is realised Hierarchical clustering"
   ]
  },
  {
   "cell_type": "code",
   "execution_count": 34,
   "metadata": {},
   "outputs": [
    {
     "data": {
      "text/plain": [
       "array([1, 0, 0, ..., 0, 0, 0], dtype=int64)"
      ]
     },
     "execution_count": 34,
     "metadata": {},
     "output_type": "execute_result"
    }
   ],
   "source": [
    "clustering = AgglomerativeClustering().fit(X)\n",
    "clustering.fit_predict(X, y)"
   ]
  },
  {
   "cell_type": "code",
   "execution_count": 35,
   "metadata": {},
   "outputs": [
    {
     "data": {
      "text/plain": [
       "array([1, 0, 0, ..., 0, 0, 0], dtype=int64)"
      ]
     },
     "execution_count": 35,
     "metadata": {},
     "output_type": "execute_result"
    }
   ],
   "source": [
    "clustering.labels_"
   ]
  },
  {
   "cell_type": "code",
   "execution_count": 36,
   "metadata": {},
   "outputs": [
    {
     "data": {
      "text/plain": [
       "(1797,)"
      ]
     },
     "execution_count": 36,
     "metadata": {},
     "output_type": "execute_result"
    }
   ],
   "source": [
    "clustering.labels_.shape"
   ]
  },
  {
   "cell_type": "markdown",
   "metadata": {},
   "source": [
    "Here is realised KMeans clustering"
   ]
  },
  {
   "cell_type": "code",
   "execution_count": 37,
   "metadata": {},
   "outputs": [],
   "source": [
    "kmeans = KMeans(n_clusters=10, random_state=0).fit(X)"
   ]
  },
  {
   "cell_type": "code",
   "execution_count": 38,
   "metadata": {},
   "outputs": [
    {
     "name": "stdout",
     "output_type": "stream",
     "text": [
      "[5 7 7 ... 7 3 3]\n"
     ]
    }
   ],
   "source": [
    "print(kmeans.labels_)"
   ]
  },
  {
   "cell_type": "code",
   "execution_count": 39,
   "metadata": {},
   "outputs": [
    {
     "data": {
      "text/plain": [
       "(1797,)"
      ]
     },
     "execution_count": 39,
     "metadata": {},
     "output_type": "execute_result"
    }
   ],
   "source": [
    "kmeans.labels_.shape"
   ]
  },
  {
   "cell_type": "code",
   "execution_count": 40,
   "metadata": {},
   "outputs": [],
   "source": [
    "hierarchical_labels = clustering.labels_\n",
    "kmeans_labels = kmeans.labels_"
   ]
  },
  {
   "cell_type": "code",
   "execution_count": 41,
   "metadata": {},
   "outputs": [],
   "source": [
    "assert hierarchical_labels.shape == (1797,)\n",
    "assert kmeans_labels.shape == (1797,)"
   ]
  },
  {
   "cell_type": "markdown",
   "metadata": {},
   "source": [
    "**(0.5 points)** Visualize the centers of clusters obtained by both methods."
   ]
  },
  {
   "cell_type": "code",
   "execution_count": 42,
   "metadata": {},
   "outputs": [
    {
     "data": {
      "image/png": "[encoded data removed]",
      "text/plain": [
       "<Figure size 576x216 with 10 Axes>"
      ]
     },
     "metadata": {},
     "output_type": "display_data"
    }
   ],
   "source": [
    "# For KMeans\n",
    "\n",
    "fig, ax = plt.subplots(2, 5, figsize=(8, 3))\n",
    "centers = kmeans.cluster_centers_.reshape(10, 8, 8)\n",
    "\n",
    "for axi, center in zip(ax.flat, centers):\n",
    "    axi.set(xticks=[], yticks=[])\n",
    "    axi.imshow(center, interpolation='nearest', cmap=plt.cm.binary)"
   ]
  },
  {
   "cell_type": "code",
   "execution_count": 43,
   "metadata": {},
   "outputs": [
    {
     "data": {
      "text/plain": [
       "(1797,)"
      ]
     },
     "execution_count": 43,
     "metadata": {},
     "output_type": "execute_result"
    }
   ],
   "source": [
    "hierarchical_labels.shape"
   ]
  },
  {
   "cell_type": "raw",
   "metadata": {},
   "source": [
    "# For AgglomerativeClustering\n",
    "\n",
    "fig, ax = plt.subplots(2, 5, figsize=(8, 3))\n",
    "centers = clustering.labels_.reshape(10, 8, 8)\n",
    "\n",
    "for axi, center in zip(ax.flat, centers):\n",
    "    axi.set(xticks=[], yticks=[])\n",
    "    axi.imshow(center, interpolation='nearest', cmap=plt.cm.binary)"
   ]
  },
  {
   "cell_type": "markdown",
   "metadata": {},
   "source": [
    "In a situation where the true number of classes is unknown, we can select it by maximazing some metric.\n",
    "\n",
    "When we can set some distance function between our observations, we can consider the `silhouette` distance as a function of measuring the quality of the clustering. Let's show how it is calculated:"
   ]
  },
  {
   "cell_type": "markdown",
   "metadata": {},
   "source": [
    "Let $X$ – set of observations, $M \\subset X$ – one of the clusters obtained as a result of clustering process, $\\rho$ – some metric on $X$. Let's choose one observation $x \\in M$. Denote $a(x)$ as the average distance from $x$ to  $x'$ points from the same cluster:\n",
    "$$\n",
    "a(x) = \\frac{1}{|M| - 1} \\sum_{x' \\in M,\\, x' \\ne x} \\rho(x,\\, x')\n",
    "$$\n",
    "\n",
    "Denote $b(x)$ as minimun of average distances from $x$ to $x''$ from some other cluster $N$:\n",
    "$$\n",
    "b(x) = \\min_{N \\ne M} \\frac{1}{|N|} \\sum_{x'' \\in N} \\rho(x,\\, x'')\n",
    "$$\n",
    "\n",
    "The silhouette is difference between a(x) and b(x), normalized to $[-1, \\, 1]$ and averaged over all observations:\n",
    "$$\n",
    "\\frac{1}{|X|} \\sum_{x \\in X} \\frac{b(x) - a(x)}{\\max(a(x),\\, b(x))}\n",
    "$$\n",
    "\n",
    "The implementation of this metric in the `scikit-learn` is the `silhouette_score` function from the `metrics` submidule."
   ]
  },
  {
   "cell_type": "markdown",
   "metadata": {
    "collapsed": true
   },
   "source": [
    "**(0.75 point)** For each $K$ between 2 and 20 inclusive, partition of the array $X$ into $K$ clusters using both methods. Calculate the silhouette score and visualize it for both methods on the same plot ($K$ on the $x$ axis and silhouette score on the $y$ axis). Sign the axes and make a legend."
   ]
  },
  {
   "cell_type": "code",
   "execution_count": 44,
   "metadata": {},
   "outputs": [],
   "source": [
    "from sklearn.metrics import silhouette_score"
   ]
  },
  {
   "cell_type": "code",
   "execution_count": 45,
   "metadata": {},
   "outputs": [
    {
     "name": "stdout",
     "output_type": "stream",
     "text": [
      "For n_clusters = 2, silhouette score is 0.11832841100655983)\n",
      "For n_clusters = 3, silhouette score is 0.12647646995440193)\n",
      "For n_clusters = 4, silhouette score is 0.12288741903297072)\n",
      "For n_clusters = 5, silhouette score is 0.1356803376403225)\n",
      "For n_clusters = 6, silhouette score is 0.15115491877067683)\n",
      "For n_clusters = 7, silhouette score is 0.1633151065638491)\n",
      "For n_clusters = 8, silhouette score is 0.17862393980349686)\n",
      "For n_clusters = 9, silhouette score is 0.18936706094178796)\n",
      "For n_clusters = 10, silhouette score is 0.1821410927369893)\n",
      "For n_clusters = 11, silhouette score is 0.18054351326023219)\n",
      "For n_clusters = 12, silhouette score is 0.1852210322650683)\n",
      "For n_clusters = 13, silhouette score is 0.18537586727598085)\n",
      "For n_clusters = 14, silhouette score is 0.17092218618779817)\n",
      "For n_clusters = 15, silhouette score is 0.19115752643682563)\n",
      "For n_clusters = 16, silhouette score is 0.1774560130714036)\n",
      "For n_clusters = 17, silhouette score is 0.15117841659659315)\n",
      "For n_clusters = 18, silhouette score is 0.18703125730191086)\n",
      "For n_clusters = 19, silhouette score is 0.17484260475250527)\n",
      "For n_clusters = 20, silhouette score is 0.17083742779369113)\n"
     ]
    }
   ],
   "source": [
    "score_ = []\n",
    "N = []\n",
    "for n_clusters in range(2, 21):\n",
    "    clusterer = KMeans(n_clusters=n_clusters).fit(X)\n",
    "    preds = clusterer.predict(X)\n",
    "    centers = clusterer.cluster_centers_\n",
    "\n",
    "    score = silhouette_score (X, preds, metric='euclidean')\n",
    "    print (\"For n_clusters = {}, silhouette score is {})\".format(n_clusters, score))\n",
    "    score_.append(score)\n",
    "    N.append(n_clusters)"
   ]
  },
  {
   "cell_type": "code",
   "execution_count": 46,
   "metadata": {},
   "outputs": [
    {
     "data": {
      "text/plain": [
       "<matplotlib.collections.PathCollection at 0x1f59b4eb190>"
      ]
     },
     "execution_count": 46,
     "metadata": {},
     "output_type": "execute_result"
    },
    {
     "data": {
      "image/png": "[encoded data removed]",
      "text/plain": [
       "<Figure size 432x288 with 1 Axes>"
      ]
     },
     "metadata": {
      "needs_background": "light"
     },
     "output_type": "display_data"
    }
   ],
   "source": [
    "plt.xlabel('Количество кластеров')\n",
    "plt.ylabel('score')\n",
    "plt.scatter(x=N, y=score_)"
   ]
  },
  {
   "cell_type": "raw",
   "metadata": {},
   "source": [
    "Можно заменить что наивысшее значение силуэта достигается при колличестве кластеров = 9"
   ]
  },
  {
   "cell_type": "code",
   "execution_count": 47,
   "metadata": {},
   "outputs": [
    {
     "name": "stdout",
     "output_type": "stream",
     "text": [
      "For n_clusters = 2, silhouette score is 0.11674033985112256)\n",
      "For n_clusters = 3, silhouette score is 0.11188954666963648)\n",
      "For n_clusters = 4, silhouette score is 0.10895989445239453)\n",
      "For n_clusters = 5, silhouette score is 0.11888125787404626)\n",
      "For n_clusters = 6, silhouette score is 0.13701122727669246)\n",
      "For n_clusters = 7, silhouette score is 0.15368571066948947)\n",
      "For n_clusters = 8, silhouette score is 0.17056308645095428)\n",
      "For n_clusters = 9, silhouette score is 0.18061975703867697)\n",
      "For n_clusters = 10, silhouette score is 0.17849659940596496)\n",
      "For n_clusters = 11, silhouette score is 0.17637337987696772)\n",
      "For n_clusters = 12, silhouette score is 0.17362319379744087)\n",
      "For n_clusters = 13, silhouette score is 0.1726407155529682)\n",
      "For n_clusters = 14, silhouette score is 0.17670992249010575)\n",
      "For n_clusters = 15, silhouette score is 0.17633457435967023)\n",
      "For n_clusters = 16, silhouette score is 0.17695214651125427)\n",
      "For n_clusters = 17, silhouette score is 0.17953047348045556)\n",
      "For n_clusters = 18, silhouette score is 0.1669829287095671)\n",
      "For n_clusters = 19, silhouette score is 0.16585394177607718)\n",
      "For n_clusters = 20, silhouette score is 0.1686039123227311)\n"
     ]
    }
   ],
   "source": [
    "score_ = []\n",
    "N = []\n",
    "for n_clusters in range(2, 21):\n",
    "    preds = AgglomerativeClustering(n_clusters=n_clusters).fit_predict(X)\n",
    "    centers = clusterer.cluster_centers_\n",
    "\n",
    "    score = silhouette_score (X, preds, metric='euclidean')\n",
    "    print (\"For n_clusters = {}, silhouette score is {})\".format(n_clusters, score))\n",
    "    score_.append(score)\n",
    "    N.append(n_clusters)"
   ]
  },
  {
   "cell_type": "code",
   "execution_count": 48,
   "metadata": {},
   "outputs": [
    {
     "data": {
      "text/plain": [
       "<matplotlib.collections.PathCollection at 0x1f598cf31c0>"
      ]
     },
     "execution_count": 48,
     "metadata": {},
     "output_type": "execute_result"
    },
    {
     "data": {
      "image/png": "[encoded data removed]",
      "text/plain": [
       "<Figure size 432x288 with 1 Axes>"
      ]
     },
     "metadata": {
      "needs_background": "light"
     },
     "output_type": "display_data"
    }
   ],
   "source": [
    "plt.xlabel('Количество кластеров')\n",
    "plt.ylabel('score')\n",
    "plt.scatter(x=N, y=score_)"
   ]
  },
  {
   "cell_type": "markdown",
   "metadata": {},
   "source": [
    "Тут же достигается 2 максимума, на 9 и 17 кластерах"
   ]
  },
  {
   "cell_type": "markdown",
   "metadata": {},
   "source": [
    "When we know the true clustering labels, the clustering result can be compared to them using measures such as `homogeneity`, `completeness` and their harmonic mean - $V$-score. The definitions of these quantities are rather bulky and are based on the [entropy of the probability distribution](https://ru.wikipedia.org/wiki/Информационная_энтропия). Details are given in [this article](http://aclweb.org/anthology/D/D07/D07-1043.pdf). In practice, it's enough to know that `homogeneity`, `completeness` and $V$-score are in the range from 0 and 1, and the more, the better.\n",
    "\n",
    "Since we know what digit each image is (`y` array), we can compare the clustering results to it using the measures listed above."
   ]
  },
  {
   "cell_type": "markdown",
   "metadata": {},
   "source": [
    "**(0.5 points)** Repeat the previous task using $V$-measure instead of silhouette."
   ]
  },
  {
   "cell_type": "code",
   "execution_count": 49,
   "metadata": {},
   "outputs": [],
   "source": [
    "from sklearn.metrics import v_measure_score as VV"
   ]
  },
  {
   "cell_type": "code",
   "execution_count": 50,
   "metadata": {},
   "outputs": [
    {
     "name": "stdout",
     "output_type": "stream",
     "text": [
      "For n_clusters = 2, VV score is 0.36001205373704537)\n",
      "For n_clusters = 3, VV score is 0.40401655029571565)\n",
      "For n_clusters = 4, VV score is 0.4913219311943653)\n",
      "For n_clusters = 5, VV score is 0.5531898029574921)\n",
      "For n_clusters = 6, VV score is 0.5982614608933692)\n",
      "For n_clusters = 7, VV score is 0.622132565765076)\n",
      "For n_clusters = 8, VV score is 0.7117333271224073)\n",
      "For n_clusters = 9, VV score is 0.7204325388203946)\n",
      "For n_clusters = 10, VV score is 0.7469903020935199)\n",
      "For n_clusters = 11, VV score is 0.7665683721342149)\n",
      "For n_clusters = 12, VV score is 0.7524330081450293)\n",
      "For n_clusters = 13, VV score is 0.7693505252892404)\n",
      "For n_clusters = 14, VV score is 0.7829284876353217)\n",
      "For n_clusters = 15, VV score is 0.7893326666836309)\n",
      "For n_clusters = 16, VV score is 0.7768707262599303)\n",
      "For n_clusters = 17, VV score is 0.7684570605494209)\n",
      "For n_clusters = 18, VV score is 0.7726123388907356)\n",
      "For n_clusters = 19, VV score is 0.7826771995933891)\n",
      "For n_clusters = 20, VV score is 0.7552955287277221)\n"
     ]
    }
   ],
   "source": [
    "VV_ = []\n",
    "N = []\n",
    "for n_clusters in range(2, 21):\n",
    "    clusterer = KMeans(n_clusters=n_clusters).fit(X)\n",
    "    preds = clusterer.predict(X)\n",
    "    centers = clusterer.cluster_centers_\n",
    "\n",
    "    score = VV(preds, y)\n",
    "    print (\"For n_clusters = {}, VV score is {})\".format(n_clusters, score))\n",
    "    VV_.append(score)\n",
    "    N.append(n_clusters)"
   ]
  },
  {
   "cell_type": "code",
   "execution_count": 51,
   "metadata": {},
   "outputs": [
    {
     "data": {
      "text/plain": [
       "<matplotlib.collections.PathCollection at 0x1f59b43c610>"
      ]
     },
     "execution_count": 51,
     "metadata": {},
     "output_type": "execute_result"
    },
    {
     "data": {
      "image/png": "[encoded data removed]",
      "text/plain": [
       "<Figure size 432x288 with 1 Axes>"
      ]
     },
     "metadata": {
      "needs_background": "light"
     },
     "output_type": "display_data"
    }
   ],
   "source": [
    "plt.xlabel('Количество кластеров')\n",
    "plt.ylabel('score')\n",
    "plt.scatter(x=N, y=score_)"
   ]
  },
  {
   "cell_type": "markdown",
   "metadata": {},
   "source": [
    "Наибольшее значение достигается при количестве класеров = 9 и 17"
   ]
  },
  {
   "cell_type": "code",
   "execution_count": 52,
   "metadata": {},
   "outputs": [
    {
     "name": "stdout",
     "output_type": "stream",
     "text": [
      "For n_clusters = 2, VV score is 0.40824218623422054)\n",
      "For n_clusters = 3, VV score is 0.5440613747462535)\n",
      "For n_clusters = 4, VV score is 0.6211638409365546)\n",
      "For n_clusters = 5, VV score is 0.709653527412938)\n",
      "For n_clusters = 6, VV score is 0.7566664944734937)\n",
      "For n_clusters = 7, VV score is 0.7983006479287973)\n",
      "For n_clusters = 8, VV score is 0.8457771039270545)\n",
      "For n_clusters = 9, VV score is 0.8446597933958961)\n",
      "For n_clusters = 10, VV score is 0.8681701126909083)\n",
      "For n_clusters = 11, VV score is 0.8553799643497675)\n",
      "For n_clusters = 12, VV score is 0.86854875186737)\n",
      "For n_clusters = 13, VV score is 0.8571580830709692)\n",
      "For n_clusters = 14, VV score is 0.8517473904948195)\n",
      "For n_clusters = 15, VV score is 0.8401879606185283)\n",
      "For n_clusters = 16, VV score is 0.8321252325100416)\n",
      "For n_clusters = 17, VV score is 0.8383091399615094)\n",
      "For n_clusters = 18, VV score is 0.8271076710894292)\n",
      "For n_clusters = 19, VV score is 0.826280611466587)\n",
      "For n_clusters = 20, VV score is 0.8250943463532207)\n"
     ]
    }
   ],
   "source": [
    "VV_ = []\n",
    "N = []\n",
    "for n_clusters in range(2, 21):\n",
    "    preds = AgglomerativeClustering(n_clusters=n_clusters).fit_predict(X)\n",
    "    centers = clusterer.cluster_centers_\n",
    "\n",
    "    score = VV(preds, y)\n",
    "    print (\"For n_clusters = {}, VV score is {})\".format(n_clusters, score))\n",
    "    VV_.append(score)\n",
    "    N.append(n_clusters)"
   ]
  },
  {
   "cell_type": "code",
   "execution_count": 53,
   "metadata": {},
   "outputs": [
    {
     "data": {
      "text/plain": [
       "<matplotlib.collections.PathCollection at 0x1f59b4ac250>"
      ]
     },
     "execution_count": 53,
     "metadata": {},
     "output_type": "execute_result"
    },
    {
     "data": {
      "image/png": "[encoded data removed]",
      "text/plain": [
       "<Figure size 432x288 with 1 Axes>"
      ]
     },
     "metadata": {
      "needs_background": "light"
     },
     "output_type": "display_data"
    }
   ],
   "source": [
    "plt.xlabel('Количество кластеров')\n",
    "plt.ylabel('score')\n",
    "plt.scatter(x=N, y=score_)"
   ]
  },
  {
   "cell_type": "markdown",
   "metadata": {},
   "source": [
    "Также при 9 и 17 кластерах будет наибольшее значение"
   ]
  },
  {
   "cell_type": "markdown",
   "metadata": {},
   "source": [
    "## 3. Feature space dimensionality reduction\n",
    "\n",
    "In some cases, especially when there are a large number of features, when not all of them are informative, and some of them are correlated, it can be useful to reduce the dimension of the feature space. This mean that instead of $d$ original features, we will go to $d'\\ll d$ new ones. And if earlier our data were presented in the form of an $n×d$ matrix, then it will presented as a $n×d'$.\n",
    "\n",
    "There are two popular dimensionality reduction approaches:\n",
    "- select new features from existing features;\n",
    "- extract the new features by transforming old ones, for example, by making $d'$ different linear combinations of columns of an $n×d$ matrix.\n",
    "\n",
    "One widely used dimensionality reduction technique is the Singular Value Decomposition (SVD). This method allows you to construct any number $d'\\leq d$ of new features in such a way that they are the most informative (in some sense).\n",
    "\n",
    "The `scikit-learn` module has several implementations of singular value decomposition. We will use the `TruncatedSVD` class from the `decomposition` submodule.\n",
    "\n",
    "**Note:** The singular value decomposition of the matrix $M$ is usually written as $M=U \\Sigma V^{*}$. `TruncatedSVD`, in turn, returns only the $d'$ first columns of the matrix $U$."
   ]
  },
  {
   "cell_type": "markdown",
   "metadata": {},
   "source": [
    "**(0.75 point)** Perform a singular value decomposition of the $X$ matrix, leaving 2, 5, 10, 20 features. In each case, perform hierarchical clustering and $K$-Means clustering (take the number of clusters equal to 10). Calculate the silhouette and $V$-score and compare them to corresponding values obtained from the original data.\n",
    "\n",
    "**Note**: It is not valid to compare the silhouette calculated with different metrics. Even if we use the same metric function when calculating the distance between points in the data, after applying dimensionality reduction or other data transformations, we will (not always) get different silhouette scores. Therefore, after training the clustering algorithm, to compare the result of clustering, you need to calculate the silhouette on the original data."
   ]
  },
  {
   "cell_type": "code",
   "execution_count": 54,
   "metadata": {},
   "outputs": [],
   "source": [
    "from sklearn.decomposition import TruncatedSVD\n",
    "import numpy as np"
   ]
  },
  {
   "cell_type": "code",
   "execution_count": 55,
   "metadata": {},
   "outputs": [],
   "source": [
    "TSVD_1 = TruncatedSVD(n_components=2, n_iter=7, random_state=42)\n",
    "TSVD_2 = TruncatedSVD(n_components=5, n_iter=7, random_state=42)\n",
    "TSVD_3 = TruncatedSVD(n_components=10, n_iter=7, random_state=42)\n",
    "TSVD_4 = TruncatedSVD(n_components=20, n_iter=7, random_state=42)"
   ]
  },
  {
   "cell_type": "raw",
   "metadata": {},
   "source": [
    "X_transformed = svd_1.fit_transform(X)\n",
    "\n",
    "\n",
    "U = svd_1.transform(X) / svd_1.singular_values_\n",
    "Sigma_matrix = np.diag(svd_1.singular_values_)\n",
    "VT = svd_1.components_"
   ]
  },
  {
   "cell_type": "code",
   "execution_count": 56,
   "metadata": {},
   "outputs": [],
   "source": [
    "from sklearn.cluster import KMeans\n",
    "from sklearn.metrics import silhouette_score\n",
    "from sklearn.metrics import accuracy_score"
   ]
  },
  {
   "cell_type": "markdown",
   "metadata": {},
   "source": [
    "Начальные значения для сравнения"
   ]
  },
  {
   "cell_type": "code",
   "execution_count": 57,
   "metadata": {},
   "outputs": [
    {
     "name": "stdout",
     "output_type": "stream",
     "text": [
      "silhouette = 0.18274783144072745\n"
     ]
    },
    {
     "data": {
      "text/plain": [
       "<Figure size 1440x720 with 0 Axes>"
      ]
     },
     "metadata": {},
     "output_type": "display_data"
    },
    {
     "data": {
      "image/png": "[encoded data removed]",
      "text/plain": [
       "<Figure size 288x288 with 1 Axes>"
      ]
     },
     "metadata": {
      "needs_background": "light"
     },
     "output_type": "display_data"
    }
   ],
   "source": [
    "clusterer = KMeans(n_clusters=10)\n",
    "preds = clusterer.fit_predict(X)\n",
    "centers = clusterer.cluster_centers_\n",
    "\n",
    "score = silhouette_score(X, preds)\n",
    "\n",
    "TSVD = TruncatedSVD()\n",
    "X_transformed = TSVD.fit_transform(X)\n",
    "VT = TSVD.components_\n",
    "print(f'silhouette = {score}')\n",
    "\n",
    "plt.figure(figsize=(20, 10))\n",
    "x = VT[0]\n",
    "y = VT[1]\n",
    "fig, ax = plt.subplots()\n",
    "ax.scatter(x, y,\n",
    "           c = 'deeppink')    #  цвет точек\n",
    "ax.set_facecolor('white')     #  цвет области Axes\n",
    "ax.set_title('VT')     #  заголовок для Axes\n",
    "fig.set_figwidth(4)     #  ширина и\n",
    "fig.set_figheight(4)    #  высота \"Figure\"\n",
    "plt.show()"
   ]
  },
  {
   "cell_type": "code",
   "execution_count": 58,
   "metadata": {},
   "outputs": [
    {
     "ename": "NameError",
     "evalue": "name 'X_transformed_2' is not defined",
     "output_type": "error",
     "traceback": [
      "\u001b[1;31m---------------------------------------------------------------------------\u001b[0m",
      "\u001b[1;31mNameError\u001b[0m                                 Traceback (most recent call last)",
      "Input \u001b[1;32mIn [58]\u001b[0m, in \u001b[0;36m<module>\u001b[1;34m\u001b[0m\n\u001b[0;32m      5\u001b[0m preds_1 \u001b[38;5;241m=\u001b[39m clusterer_1\u001b[38;5;241m.\u001b[39mfit_predict(X_transformed_1)\n\u001b[0;32m      6\u001b[0m centers_1 \u001b[38;5;241m=\u001b[39m clusterer_1\u001b[38;5;241m.\u001b[39mcluster_centers_\n\u001b[1;32m----> 8\u001b[0m score_1 \u001b[38;5;241m=\u001b[39m silhouette_score(\u001b[43mX_transformed_2\u001b[49m, preds)\n\u001b[0;32m     11\u001b[0m \u001b[38;5;28mprint\u001b[39m(\u001b[38;5;124mf\u001b[39m\u001b[38;5;124m'\u001b[39m\u001b[38;5;124msilhouette = \u001b[39m\u001b[38;5;132;01m{\u001b[39;00mscore_1\u001b[38;5;132;01m}\u001b[39;00m\u001b[38;5;124m'\u001b[39m)\n\u001b[0;32m     13\u001b[0m plt\u001b[38;5;241m.\u001b[39mfigure(figsize\u001b[38;5;241m=\u001b[39m(\u001b[38;5;241m20\u001b[39m, \u001b[38;5;241m10\u001b[39m))\n",
      "\u001b[1;31mNameError\u001b[0m: name 'X_transformed_2' is not defined"
     ]
    }
   ],
   "source": [
    "X_transformed_1 = TSVD_1.fit_transform(X)\n",
    "VT_1 = TSVD.components_\n",
    "\n",
    "clusterer_1 = KMeans(n_clusters=10)\n",
    "preds_1 = clusterer_1.fit_predict(X_transformed_1)\n",
    "centers_1 = clusterer_1.cluster_centers_\n",
    "\n",
    "score_1 = silhouette_score(X_transformed_2, preds)\n",
    "\n",
    "\n",
    "print(f'silhouette = {score_1}')\n",
    "\n",
    "plt.figure(figsize=(20, 10))\n",
    "x = VT_1[0]\n",
    "y = VT_1[1]\n",
    "fig, ax = plt.subplots()\n",
    "ax.scatter(x, y,\n",
    "           c = 'deeppink')    #  цвет точек\n",
    "ax.set_facecolor('white')     #  цвет области Axes\n",
    "ax.set_title('VT')     #  заголовок для Axes\n",
    "fig.set_figwidth(4)     #  ширина и\n",
    "fig.set_figheight(4)    #  высота \"Figure\"\n",
    "plt.show()"
   ]
  },
  {
   "cell_type": "code",
   "execution_count": 74,
   "metadata": {},
   "outputs": [
    {
     "ename": "NameError",
     "evalue": "name 'score_1' is not defined",
     "output_type": "error",
     "traceback": [
      "\u001b[1;31m---------------------------------------------------------------------------\u001b[0m",
      "\u001b[1;31mNameError\u001b[0m                                 Traceback (most recent call last)",
      "Input \u001b[1;32mIn [74]\u001b[0m, in \u001b[0;36m<module>\u001b[1;34m\u001b[0m\n\u001b[0;32m      6\u001b[0m centers_2 \u001b[38;5;241m=\u001b[39m clusterer_2\u001b[38;5;241m.\u001b[39mcluster_centers_\n\u001b[0;32m      8\u001b[0m score_2 \u001b[38;5;241m=\u001b[39m silhouette_score(X_transformed_2, preds)\n\u001b[1;32m---> 11\u001b[0m \u001b[38;5;28mprint\u001b[39m(\u001b[38;5;124mf\u001b[39m\u001b[38;5;124m'\u001b[39m\u001b[38;5;124msilhouette = \u001b[39m\u001b[38;5;132;01m{\u001b[39;00mscore_1\u001b[38;5;132;01m}\u001b[39;00m\u001b[38;5;124m'\u001b[39m)\n\u001b[0;32m     13\u001b[0m plt\u001b[38;5;241m.\u001b[39mfigure(figsize\u001b[38;5;241m=\u001b[39m(\u001b[38;5;241m20\u001b[39m, \u001b[38;5;241m10\u001b[39m))\n\u001b[0;32m     14\u001b[0m x \u001b[38;5;241m=\u001b[39m VT_2[\u001b[38;5;241m0\u001b[39m]\n",
      "\u001b[1;31mNameError\u001b[0m: name 'score_1' is not defined"
     ]
    }
   ],
   "source": [
    "X_transformed_2 = TSVD_2.fit_transform(X)\n",
    "VT_2 = TSVD.components_\n",
    "\n",
    "clusterer_2 = KMeans(n_clusters=10)\n",
    "preds_2 = clusterer_2.fit_predict(X_transformed_2)\n",
    "centers_2 = clusterer_2.cluster_centers_\n",
    "\n",
    "score_2 = silhouette_score(X_transformed_2, preds)\n",
    "\n",
    "\n",
    "print(f'silhouette = {score_1}')\n",
    "\n",
    "plt.figure(figsize=(20, 10))\n",
    "x = VT_2[0]\n",
    "y = VT_2[1]\n",
    "fig, ax = plt.subplots()\n",
    "ax.scatter(x, y,\n",
    "           c = 'deeppink')    #  цвет точек\n",
    "ax.set_facecolor('white')     #  цвет области Axes\n",
    "ax.set_title('VT')     #  заголовок для Axes\n",
    "fig.set_figwidth(4)     #  ширина и\n",
    "fig.set_figheight(4)    #  высота \"Figure\"\n",
    "plt.show()"
   ]
  },
  {
   "cell_type": "code",
   "execution_count": null,
   "metadata": {},
   "outputs": [],
   "source": []
  },
  {
   "cell_type": "code",
   "execution_count": null,
   "metadata": {},
   "outputs": [],
   "source": []
  },
  {
   "cell_type": "markdown",
   "metadata": {},
   "source": [
    "Another popular dimensionality reduction approach that is useful for working with images is t-distributed stochastic neighbor embeddings, abbreviated `tSNE`. Unlike singular value decomposition, this it is non-linear transformation. It's main idea is to map points from a space of dimension `d` to another space of dimension 2 or 3 in such a way that the distances between points are mostly preserved. Mathematical details can be found, for example, [here](https://en.wikipedia.org/wiki/T-distributed_stochastic_neighbor_embedding).\n",
    "\n",
    "The implementation of `tSNE` in the `scikit-learn` library is the `TSNE` class in the `manifold` submodule.\n",
    "\n",
    "**Note:** In recent years [UMAP](https://github.com/lmcinnes/umap) is often used istead of `tSNE`. It is a faster algorithm with similar properties. We don't ask you to use `UMAP` because it requires you to install another dependency, the `umap-learn` library. Those who wish can perform the following task using `UMAP`."
   ]
  },
  {
   "cell_type": "markdown",
   "metadata": {},
   "source": [
    "**(0.5 points)** Perform a tSNE-transform of the `X` matrix, leaving 2 features. Visualize the obtained data in the form of a scatter plot form: the first feature on the horizontal axis, and the second one the vertical axis. Color the points according to the digits they belong to.\n",
    "\n",
    "- The `c` parameter in the plt.scatter function is responsible for the color of the points. Pass the true labels to it."
   ]
  },
  {
   "cell_type": "code",
   "execution_count": 59,
   "metadata": {},
   "outputs": [
    {
     "name": "stderr",
     "output_type": "stream",
     "text": [
      "p:\\python projects\\ai_curces\\venv\\lib\\site-packages\\sklearn\\manifold\\_t_sne.py:780: FutureWarning: The default initialization in TSNE will change from 'random' to 'pca' in 1.2.\n",
      "  warnings.warn(\n",
      "p:\\python projects\\ai_curces\\venv\\lib\\site-packages\\sklearn\\manifold\\_t_sne.py:790: FutureWarning: The default learning rate in TSNE will change from 200.0 to 'auto' in 1.2.\n",
      "  warnings.warn(\n"
     ]
    },
    {
     "data": {
      "image/png": "[encoded data removed]",
      "text/plain": [
       "<Figure size 1152x432 with 1 Axes>"
      ]
     },
     "metadata": {
      "needs_background": "light"
     },
     "output_type": "display_data"
    }
   ],
   "source": [
    "from sklearn.manifold import TSNE\n",
    "\n",
    "X, y = digits.data, digits.target\n",
    "X_tsne_transformed = TSNE(n_components=2, random_state=15).fit_transform(X)\n",
    "\n",
    "plt.figure(figsize=(16, 6))\n",
    "\n",
    "xdata, ydata = [], []\n",
    "\n",
    "for i in range(X_tsne_transformed.shape[0]):\n",
    "    xdata.append(X_tsne_transformed[i][0])\n",
    "    ydata.append(X_tsne_transformed[i][1])\n",
    "plt.scatter(x=xdata, y=ydata, c=y);"
   ]
  },
  {
   "cell_type": "markdown",
   "metadata": {},
   "source": [
    "**(0.5 points)** From the data transformed using the tSNE, perform hierarchical clustering and $K$-means clustering (take the number of clusters equal to 10). Calculate the silhouette and the $V$-score and compare them to corresponding values obtained from the original data."
   ]
  },
  {
   "cell_type": "code",
   "execution_count": 61,
   "metadata": {},
   "outputs": [
    {
     "ename": "NameError",
     "evalue": "name 'X_tsnetransformed' is not defined",
     "output_type": "error",
     "traceback": [
      "\u001b[1;31m---------------------------------------------------------------------------\u001b[0m",
      "\u001b[1;31mNameError\u001b[0m                                 Traceback (most recent call last)",
      "Input \u001b[1;32mIn [61]\u001b[0m, in \u001b[0;36m<module>\u001b[1;34m\u001b[0m\n\u001b[0;32m      1\u001b[0m clustering \u001b[38;5;241m=\u001b[39m AgglomerativeClustering(n_clusters\u001b[38;5;241m=\u001b[39m\u001b[38;5;241m10\u001b[39m)\u001b[38;5;241m.\u001b[39mfit(X_tsne_transformed)\n\u001b[0;32m      2\u001b[0m kmeans \u001b[38;5;241m=\u001b[39m KMeans(n_clusters\u001b[38;5;241m=\u001b[39m\u001b[38;5;241m10\u001b[39m, random_state\u001b[38;5;241m=\u001b[39m\u001b[38;5;241m42\u001b[39m)\u001b[38;5;241m.\u001b[39mfit(X_tsne_transformed)\n\u001b[1;32m----> 4\u001b[0m \u001b[38;5;28mprint\u001b[39m(\u001b[38;5;124m'\u001b[39m\u001b[38;5;124mKMeans: \u001b[39m\u001b[38;5;124m'\u001b[39m, silhouette_score(\u001b[43mX_tsnetransformed\u001b[49m, kmeans\u001b[38;5;241m.\u001b[39mlabels))\n\u001b[0;32m      5\u001b[0m \u001b[38;5;28mprint\u001b[39m(\u001b[38;5;124m'\u001b[39m\u001b[38;5;124mHierarhical clustering: \u001b[39m\u001b[38;5;124m'\u001b[39m, silhouette_score(X_tsnetransformed, clustering\u001b[38;5;241m.\u001b[39mlabels))\n\u001b[0;32m      6\u001b[0m \u001b[38;5;66;03m#Силуэт\u001b[39;00m\n",
      "\u001b[1;31mNameError\u001b[0m: name 'X_tsnetransformed' is not defined"
     ]
    }
   ],
   "source": [
    "clustering = AgglomerativeClustering(n_clusters=10).fit(X_tsne_transformed)\n",
    "kmeans = KMeans(n_clusters=10, random_state=42).fit(X_tsne_transformed)\n",
    "\n",
    "print('KMeans: ', silhouette_score(X_tsnetransformed, kmeans.labels))\n",
    "print('Hierarhical clustering: ', silhouette_score(X_tsnetransformed, clustering.labels))\n",
    "#Силуэт\n",
    "clustering = AgglomerativeClustering(n_clusters=10).fit(X)\n",
    "kmeans = KMeans(n_clusters=10, random_state=42).fit(X)\n",
    "\n",
    "print('Kmeans: ', silhouettescore(X, kmeans.labels))\n",
    "print('Hierarhical clustering: ', silhouettescore(X, clustering.labels))"
   ]
  },
  {
   "cell_type": "markdown",
   "metadata": {},
   "source": [
    "**(0.25 points)** Choose the best partition (in terms of silhouette or $V$-score) and visualize the centers of clusters with images. Did you managed to make each digit correspond to one center of the cluster?"
   ]
  },
  {
   "cell_type": "code",
   "execution_count": null,
   "metadata": {},
   "outputs": [],
   "source": []
  },
  {
   "cell_type": "markdown",
   "metadata": {},
   "source": [
    "## 4. Results and bonus part"
   ]
  },
  {
   "cell_type": "markdown",
   "metadata": {},
   "source": [
    "Write in free form what conclusions you made after completing this assignment. Answer the following questions:\n",
    "\n",
    "**(0.5 points)** Which algorithm gives more meaningful results - hierarchical clustering or $K$- means clustering. Does it depend on the algorithm settings or on the quality evaluation method?"
   ]
  },
  {
   "cell_type": "markdown",
   "metadata": {},
   "source": [
    "Мне кажется при иерархической, т.к. глядя на графики из 2 зажания, эфективнее работала иераръическая кластеризация"
   ]
  },
  {
   "cell_type": "markdown",
   "metadata": {},
   "source": [
    "**(0.5 points)** Imagine the situation where after hierarchical clustering, you need to cluster new data in the same way without retraining the model. Suggest a method how you will do it and how you will measure the quality of clustering of new data."
   ]
  },
  {
   "cell_type": "markdown",
   "metadata": {},
   "source": [
    "1) стандартизировать новые данные под размерности и параметры предыдущих наборов данных\n",
    "2) не пробовал до, но мб имеет смысл разделить на 2 выборки, тренироваочную и тестовую и по ним смотреть,\n",
    "и результаты новой кластеризации по старым данным и старую кластеризацию и потом сравнивать значения предсказаний "
   ]
  },
  {
   "cell_type": "markdown",
   "metadata": {
    "collapsed": true
   },
   "source": [
    "**(0.5 points)** Does dimensionality reduction improve clustering results?"
   ]
  },
  {
   "cell_type": "code",
   "execution_count": null,
   "metadata": {},
   "outputs": [],
   "source": []
  },
  {
   "cell_type": "markdown",
   "metadata": {},
   "source": [
    "**(0.5 points)** How to evaluate the quality of dimensional reduction? Suggest at least 2 options."
   ]
  },
  {
   "cell_type": "code",
   "execution_count": null,
   "metadata": {},
   "outputs": [],
   "source": []
  },
  {
   "cell_type": "markdown",
   "metadata": {},
   "source": [
    "**(Bonus 2 points)** Load the [MNIST Handwritten Digits](http://yann.lecun.com/exdb/mnist) dataset. You can also do it with `scikit-learn` as explained [here](https://stackoverflow.com/a/60450028). Explore the data and try to cluster it using different approaches. Compare results of these approaches using the silhouette and the $V$-score."
   ]
  },
  {
   "cell_type": "code",
   "execution_count": 62,
   "metadata": {},
   "outputs": [],
   "source": [
    "from sklearn.datasets import fetch_openml\n",
    "raw_data, raw_labels = fetch_openml('mnist_784', version=1, return_X_y=True)"
   ]
  },
  {
   "cell_type": "code",
   "execution_count": 63,
   "metadata": {},
   "outputs": [
    {
     "name": "stdout",
     "output_type": "stream",
     "text": [
      "(70000, 784)\n",
      "pixel1       0.0\n",
      "pixel2       0.0\n",
      "pixel3       0.0\n",
      "pixel4       0.0\n",
      "pixel5       0.0\n",
      "            ... \n",
      "pixel780    62.0\n",
      "pixel781     0.0\n",
      "pixel782     0.0\n",
      "pixel783     0.0\n",
      "pixel784     0.0\n",
      "Length: 784, dtype: float64\n",
      "['0' '1' '2' '3' '4' '5' '6' '7' '8' '9']\n"
     ]
    },
    {
     "name": "stderr",
     "output_type": "stream",
     "text": [
      "p:\\python projects\\ai_curces\\venv\\lib\\site-packages\\numpy\\core\\fromnumeric.py:84: FutureWarning: In a future version, DataFrame.max(axis=None) will return a scalar max over the entire DataFrame. To retain the old behavior, use 'frame.max(axis=0)' or just 'frame.max()'\n",
      "  return reduction(axis=axis, out=out, **passkwargs)\n"
     ]
    }
   ],
   "source": [
    "print(raw_data.shape)\n",
    "print(np.max(raw_data))\n",
    "print(np.unique(raw_labels))"
   ]
  },
  {
   "cell_type": "code",
   "execution_count": 64,
   "metadata": {},
   "outputs": [],
   "source": [
    "nsamples = 15_000\n",
    "data = raw_data[:nsamples]\n",
    "labels = raw_labels[:nsamples]"
   ]
  },
  {
   "cell_type": "code",
   "execution_count": 65,
   "metadata": {},
   "outputs": [],
   "source": [
    "data = data / 255.\n",
    "labels = labels.astype('int')\n",
    "images = data.values.reshape(data.shape[0], 28, 28)"
   ]
  },
  {
   "cell_type": "code",
   "execution_count": 66,
   "metadata": {},
   "outputs": [
    {
     "data": {
      "image/png": "[encoded data removed]",
      "text/plain": [
       "<Figure size 576x576 with 4 Axes>"
      ]
     },
     "metadata": {
      "needs_background": "light"
     },
     "output_type": "display_data"
    }
   ],
   "source": [
    "plt.figure(figsize=(8,8))\n",
    "for i in range(4):\n",
    "    plt.subplot(2,2,i+1)\n",
    "    plt.imshow(images[i])\n",
    "    plt.title('truth: {}'.format(labels[i]))"
   ]
  },
  {
   "cell_type": "markdown",
   "metadata": {},
   "source": [
    "Here try to do KMeans and hierarchical clustering"
   ]
  },
  {
   "cell_type": "code",
   "execution_count": 67,
   "metadata": {},
   "outputs": [
    {
     "name": "stdout",
     "output_type": "stream",
     "text": [
      "For n_clusters = 2, silhouette score is 0.09101366248657478)\n",
      "For n_clusters = 3, silhouette score is 0.058449120393607217)\n",
      "For n_clusters = 4, silhouette score is 0.0631110680816063)\n",
      "For n_clusters = 5, silhouette score is 0.06997026395795905)\n",
      "For n_clusters = 6, silhouette score is 0.06978806517203387)\n",
      "For n_clusters = 7, silhouette score is 0.07355072776742647)\n",
      "For n_clusters = 8, silhouette score is 0.07661577759031671)\n",
      "For n_clusters = 9, silhouette score is 0.05977801108695089)\n",
      "For n_clusters = 10, silhouette score is 0.05958005415721595)\n",
      "For n_clusters = 11, silhouette score is 0.06150728171392287)\n",
      "For n_clusters = 12, silhouette score is 0.061299345785080214)\n",
      "For n_clusters = 13, silhouette score is 0.06279811561663912)\n",
      "For n_clusters = 14, silhouette score is 0.06554569226417022)\n",
      "For n_clusters = 15, silhouette score is 0.06618489919044532)\n",
      "For n_clusters = 16, silhouette score is 0.06720789172046486)\n",
      "For n_clusters = 17, silhouette score is 0.06976522190164201)\n",
      "For n_clusters = 18, silhouette score is 0.06930229058065622)\n",
      "For n_clusters = 19, silhouette score is 0.07105284398638508)\n",
      "For n_clusters = 20, silhouette score is 0.07210144996125994)\n"
     ]
    }
   ],
   "source": [
    "score_VV_1 = []\n",
    "N = []\n",
    "for n_clusters in range(2, 21):\n",
    "    clusterer = KMeans(n_clusters=n_clusters).fit(data)\n",
    "    preds = clusterer.predict(data)\n",
    "    centers = clusterer.cluster_centers_\n",
    "\n",
    "    score = silhouette_score (data, preds, metric='euclidean')\n",
    "    print (\"For n_clusters = {}, silhouette score is {})\".format(n_clusters, score))\n",
    "    score_VV_1.append(score)\n",
    "    N.append(n_clusters)"
   ]
  },
  {
   "cell_type": "code",
   "execution_count": 68,
   "metadata": {},
   "outputs": [],
   "source": [
    "XX = score_VV_1"
   ]
  },
  {
   "cell_type": "code",
   "execution_count": 69,
   "metadata": {},
   "outputs": [
    {
     "data": {
      "text/plain": [
       "<matplotlib.collections.PathCollection at 0x1f5a42396a0>"
      ]
     },
     "execution_count": 69,
     "metadata": {},
     "output_type": "execute_result"
    },
    {
     "data": {
      "image/png": "[encoded data removed]",
      "text/plain": [
       "<Figure size 432x288 with 1 Axes>"
      ]
     },
     "metadata": {
      "needs_background": "light"
     },
     "output_type": "display_data"
    }
   ],
   "source": [
    "plt.xlabel('Количество кластеров')\n",
    "plt.ylabel('score')\n",
    "plt.scatter(x=N, y=score_)"
   ]
  },
  {
   "cell_type": "code",
   "execution_count": 70,
   "metadata": {},
   "outputs": [
    {
     "name": "stdout",
     "output_type": "stream",
     "text": [
      "For n_clusters = 2, VV score is 0.40824218623422054)\n",
      "For n_clusters = 3, VV score is 0.5440613747462535)\n",
      "For n_clusters = 4, VV score is 0.6211638409365546)\n",
      "For n_clusters = 5, VV score is 0.709653527412938)\n",
      "For n_clusters = 6, VV score is 0.7566664944734937)\n",
      "For n_clusters = 7, VV score is 0.7983006479287973)\n",
      "For n_clusters = 8, VV score is 0.8457771039270545)\n",
      "For n_clusters = 9, VV score is 0.8446597933958961)\n",
      "For n_clusters = 10, VV score is 0.8681701126909083)\n",
      "For n_clusters = 11, VV score is 0.8553799643497675)\n",
      "For n_clusters = 12, VV score is 0.86854875186737)\n",
      "For n_clusters = 13, VV score is 0.8571580830709692)\n",
      "For n_clusters = 14, VV score is 0.8517473904948195)\n",
      "For n_clusters = 15, VV score is 0.8401879606185283)\n",
      "For n_clusters = 16, VV score is 0.8321252325100416)\n",
      "For n_clusters = 17, VV score is 0.8383091399615094)\n",
      "For n_clusters = 18, VV score is 0.8271076710894292)\n",
      "For n_clusters = 19, VV score is 0.826280611466587)\n",
      "For n_clusters = 20, VV score is 0.8250943463532207)\n"
     ]
    }
   ],
   "source": [
    "score_VV_2 = []\n",
    "N = []\n",
    "for n_clusters in range(2, 21):\n",
    "    preds = AgglomerativeClustering(n_clusters=n_clusters).fit_predict(X)\n",
    "    centers = clusterer.cluster_centers_\n",
    "\n",
    "    score = VV(preds, y)\n",
    "    print (\"For n_clusters = {}, VV score is {})\".format(n_clusters, score))\n",
    "    score_VV_2.append(score)\n",
    "    N.append(n_clusters)"
   ]
  },
  {
   "cell_type": "code",
   "execution_count": 71,
   "metadata": {},
   "outputs": [],
   "source": [
    "YY = score_VV_2"
   ]
  },
  {
   "cell_type": "code",
   "execution_count": 72,
   "metadata": {},
   "outputs": [
    {
     "data": {
      "text/plain": [
       "<matplotlib.collections.PathCollection at 0x1f5a43161f0>"
      ]
     },
     "execution_count": 72,
     "metadata": {},
     "output_type": "execute_result"
    },
    {
     "data": {
      "image/png": "[encoded data removed]",
      "text/plain": [
       "<Figure size 432x288 with 1 Axes>"
      ]
     },
     "metadata": {
      "needs_background": "light"
     },
     "output_type": "display_data"
    }
   ],
   "source": [
    "plt.xlabel('Количество кластеров')\n",
    "plt.ylabel('score')\n",
    "plt.scatter(x=N, y=score_)"
   ]
  },
  {
   "cell_type": "code",
   "execution_count": 73,
   "metadata": {},
   "outputs": [
    {
     "data": {
      "image/png": "[encoded data removed]",
      "text/plain": [
       "<Figure size 432x288 with 1 Axes>"
      ]
     },
     "metadata": {
      "needs_background": "light"
     },
     "output_type": "display_data"
    }
   ],
   "source": [
    "plt.scatter(XX, N, marker='^')\n",
    "plt.scatter(YY, N, marker='x')\n",
    "\n",
    "plt.show()"
   ]
  },
  {
   "cell_type": "markdown",
   "metadata": {},
   "source": [
    "Лучше себя ведет иерархическая кластеризация"
   ]
  },
  {
   "cell_type": "code",
   "execution_count": null,
   "metadata": {},
   "outputs": [],
   "source": []
  }
 ],
 "metadata": {
  "kernelspec": {
   "display_name": "Python 3 (ipykernel)",
   "language": "python",
   "name": "python3"
  },
  "language_info": {
   "codemirror_mode": {
    "name": "ipython",
    "version": 3
   },
   "file_extension": ".py",
   "mimetype": "text/x-python",
   "name": "python",
   "nbconvert_exporter": "python",
   "pygments_lexer": "ipython3",
   "version": "3.8.0"
  }
 },
 "nbformat": 4,
 "nbformat_minor": 2
}
