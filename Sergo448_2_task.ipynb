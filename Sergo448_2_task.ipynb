{
 "cells": [
  {
   "cell_type": "code",
   "execution_count": 17,
   "id": "e7bda364",
   "metadata": {},
   "outputs": [],
   "source": [
    "import pandas as pd\n",
    "import numpy as np\n",
    "import seaborn as snc\n",
    "import sqlite3\n",
    "import matplotlib.pyplot as plt\n"
   ]
  },
  {
   "cell_type": "code",
   "execution_count": 18,
   "id": "9ed8b9d1",
   "metadata": {},
   "outputs": [],
   "source": [
    "data_1 = pd.read_csv('train.csv')"
   ]
  },
  {
   "cell_type": "code",
   "execution_count": 19,
   "id": "7de88648",
   "metadata": {},
   "outputs": [
    {
     "data": {
      "text/html": [
       "<div>\n",
       "<style scoped>\n",
       "    .dataframe tbody tr th:only-of-type {\n",
       "        vertical-align: middle;\n",
       "    }\n",
       "\n",
       "    .dataframe tbody tr th {\n",
       "        vertical-align: top;\n",
       "    }\n",
       "\n",
       "    .dataframe thead th {\n",
       "        text-align: right;\n",
       "    }\n",
       "</style>\n",
       "<table border=\"1\" class=\"dataframe\">\n",
       "  <thead>\n",
       "    <tr style=\"text-align: right;\">\n",
       "      <th></th>\n",
       "      <th>PassengerId</th>\n",
       "      <th>Survived</th>\n",
       "      <th>Pclass</th>\n",
       "      <th>Name</th>\n",
       "      <th>Sex</th>\n",
       "      <th>Age</th>\n",
       "      <th>SibSp</th>\n",
       "      <th>Parch</th>\n",
       "      <th>Ticket</th>\n",
       "      <th>Fare</th>\n",
       "      <th>Cabin</th>\n",
       "      <th>Embarked</th>\n",
       "    </tr>\n",
       "  </thead>\n",
       "  <tbody>\n",
       "    <tr>\n",
       "      <th>0</th>\n",
       "      <td>0</td>\n",
       "      <td>1</td>\n",
       "      <td>1</td>\n",
       "      <td>Oconnor, Frankie</td>\n",
       "      <td>male</td>\n",
       "      <td>NaN</td>\n",
       "      <td>2</td>\n",
       "      <td>0</td>\n",
       "      <td>209245</td>\n",
       "      <td>27.14</td>\n",
       "      <td>C12239</td>\n",
       "      <td>S</td>\n",
       "    </tr>\n",
       "    <tr>\n",
       "      <th>1</th>\n",
       "      <td>1</td>\n",
       "      <td>0</td>\n",
       "      <td>3</td>\n",
       "      <td>Bryan, Drew</td>\n",
       "      <td>male</td>\n",
       "      <td>NaN</td>\n",
       "      <td>0</td>\n",
       "      <td>0</td>\n",
       "      <td>27323</td>\n",
       "      <td>13.35</td>\n",
       "      <td>NaN</td>\n",
       "      <td>S</td>\n",
       "    </tr>\n",
       "    <tr>\n",
       "      <th>2</th>\n",
       "      <td>2</td>\n",
       "      <td>0</td>\n",
       "      <td>3</td>\n",
       "      <td>Owens, Kenneth</td>\n",
       "      <td>male</td>\n",
       "      <td>0.33</td>\n",
       "      <td>1</td>\n",
       "      <td>2</td>\n",
       "      <td>CA 457703</td>\n",
       "      <td>71.29</td>\n",
       "      <td>NaN</td>\n",
       "      <td>S</td>\n",
       "    </tr>\n",
       "    <tr>\n",
       "      <th>3</th>\n",
       "      <td>3</td>\n",
       "      <td>0</td>\n",
       "      <td>3</td>\n",
       "      <td>Kramer, James</td>\n",
       "      <td>male</td>\n",
       "      <td>19.00</td>\n",
       "      <td>0</td>\n",
       "      <td>0</td>\n",
       "      <td>A. 10866</td>\n",
       "      <td>13.04</td>\n",
       "      <td>NaN</td>\n",
       "      <td>S</td>\n",
       "    </tr>\n",
       "    <tr>\n",
       "      <th>4</th>\n",
       "      <td>4</td>\n",
       "      <td>1</td>\n",
       "      <td>3</td>\n",
       "      <td>Bond, Michael</td>\n",
       "      <td>male</td>\n",
       "      <td>25.00</td>\n",
       "      <td>0</td>\n",
       "      <td>0</td>\n",
       "      <td>427635</td>\n",
       "      <td>7.76</td>\n",
       "      <td>NaN</td>\n",
       "      <td>S</td>\n",
       "    </tr>\n",
       "  </tbody>\n",
       "</table>\n",
       "</div>"
      ],
      "text/plain": [
       "   PassengerId  Survived  Pclass              Name   Sex    Age  SibSp  Parch  \\\n",
       "0            0         1       1  Oconnor, Frankie  male    NaN      2      0   \n",
       "1            1         0       3       Bryan, Drew  male    NaN      0      0   \n",
       "2            2         0       3    Owens, Kenneth  male   0.33      1      2   \n",
       "3            3         0       3     Kramer, James  male  19.00      0      0   \n",
       "4            4         1       3     Bond, Michael  male  25.00      0      0   \n",
       "\n",
       "      Ticket   Fare   Cabin Embarked  \n",
       "0     209245  27.14  C12239        S  \n",
       "1      27323  13.35     NaN        S  \n",
       "2  CA 457703  71.29     NaN        S  \n",
       "3   A. 10866  13.04     NaN        S  \n",
       "4     427635   7.76     NaN        S  "
      ]
     },
     "execution_count": 19,
     "metadata": {},
     "output_type": "execute_result"
    }
   ],
   "source": [
    "data_1.head()"
   ]
  },
  {
   "cell_type": "code",
   "execution_count": 20,
   "id": "1440531b",
   "metadata": {},
   "outputs": [
    {
     "name": "stdout",
     "output_type": "stream",
     "text": [
      "56114 , 43886\n"
     ]
    }
   ],
   "source": [
    "# счет женщин и мужчин\n",
    "guy=0\n",
    "women=0\n",
    "for index, row in data_1.iterrows(): \n",
    "    row[4]=str(row[4])\n",
    "    if row[4]== \"male\":\n",
    "        guy=guy+1\n",
    "    else:\n",
    "        women=women+1\n",
    "print(guy,',',women) #males / females"
   ]
  },
  {
   "cell_type": "code",
   "execution_count": 21,
   "id": "4630a151",
   "metadata": {},
   "outputs": [
    {
     "name": "stdout",
     "output_type": "stream",
     "text": [
      "43\n"
     ]
    }
   ],
   "source": [
    "# счет выживших\n",
    "servived=0\n",
    "non_servived=0\n",
    "doly=0\n",
    "for index, row in data_1.iterrows(): \n",
    "    row[1]=str(row[1])\n",
    "    if row[1]== \"1\":\n",
    "        servived=servived+1\n",
    "    else:\n",
    "        non_servived=non_servived+1\n",
    "sum=servived+non_servived      \n",
    "percent=round((servived*100)/sum)\n",
    "print(percent) \n"
   ]
  },
  {
   "cell_type": "code",
   "execution_count": 23,
   "id": "fd4d6c60",
   "metadata": {},
   "outputs": [
    {
     "name": "stdout",
     "output_type": "stream",
     "text": [
      "30.32\n"
     ]
    }
   ],
   "source": [
    "# счетт пассажиров различного класса\n",
    "class1=0\n",
    "class2=0\n",
    "class3=0\n",
    "class4=0\n",
    "sum=0\n",
    "doly=0\n",
    "\n",
    "for index, row in data_1.iterrows(): \n",
    "    row[2]=str(row[2])\n",
    "    \n",
    "    if row[2]== \"1\":\n",
    "        class1=class1+1 \n",
    "    if row[2]== \"2\":\n",
    "        class2=class2+1\n",
    "    if row[2]== \"3\":\n",
    "        class3=class3+1\n",
    "    if row[2]== \"4\":\n",
    "        class4=class4+1\n",
    "    \n",
    "sum=class1+class2+class3+class4\n",
    "doly= round(class1*(100/sum),2)\n",
    "print(doly)  #доля первого класса"
   ]
  },
  {
   "cell_type": "code",
   "execution_count": 24,
   "id": "6b46c3ce",
   "metadata": {},
   "outputs": [
    {
     "data": {
      "image/png": "[encoded data removed]",
      "text/plain": [
       "<Figure size 432x288 with 1 Axes>"
      ]
     },
     "metadata": {
      "needs_background": "light"
     },
     "output_type": "display_data"
    },
    {
     "name": "stdout",
     "output_type": "stream",
     "text": [
      "Выжило =  42.774 % Кол-во 42774\n",
      "Не выжило =  57.226 % Кол-во 57226\n"
     ]
    }
   ],
   "source": [
    "survived=0\n",
    "notsurvived=0\n",
    "import matplotlib\n",
    "from matplotlib.lines import Line2D \n",
    "\n",
    "data_2 = pd.read_csv('train.csv')\n",
    "for index, row in data_1.iterrows(): \n",
    "    \n",
    "    plt.plot(row[5], row[6], 'ro')\n",
    "    \n",
    "    row[1]=str(row[1])\n",
    "    if row[1]== \"1\":\n",
    "        survived=survived+1\n",
    "    else:\n",
    "        notsurvived=notsurvived+1\n",
    "    \n",
    "plt.grid(True)\n",
    "plt.xlabel(u'Возраст')\n",
    "plt.ylabel(u'Шлюпка')\n",
    "plt.title(u'Рассадка пассажиров по шлюпкам')\n",
    "plt.show()\n",
    "sum=survived+notsurvived      \n",
    "percent1=((survived*100)/sum)\n",
    "percent2=100-percent1\n",
    "print(\"Выжило = \",percent1,\"%\", \"Кол-во\", survived)\n",
    "print(\"Не выжило = \",percent2,\"%\", \"Кол-во\",notsurvived)"
   ]
  },
  {
   "cell_type": "code",
   "execution_count": 27,
   "id": "c85f0a7f",
   "metadata": {},
   "outputs": [
    {
     "name": "stdout",
     "output_type": "stream",
     "text": [
      "38.36 39.0\n",
      "Среднее значение: 38.3555\n",
      "Медиана: 39.0\n"
     ]
    }
   ],
   "source": [
    "b=data_1['Age'].mean()  #среднее\n",
    "m=data_1['Age'].median()   #медиана\n",
    "print(round(b,2), m)\n",
    "print('Среднее значение:', round(b,4))\n",
    "print('Медиана:', m)"
   ]
  },
  {
   "cell_type": "code",
   "execution_count": null,
   "id": "6ecdc182",
   "metadata": {},
   "outputs": [],
   "source": []
  }
 ],
 "metadata": {
  "kernelspec": {
   "display_name": "Python 3 (ipykernel)",
   "language": "python",
   "name": "python3"
  },
  "language_info": {
   "codemirror_mode": {
    "name": "ipython",
    "version": 3
   },
   "file_extension": ".py",
   "mimetype": "text/x-python",
   "name": "python",
   "nbconvert_exporter": "python",
   "pygments_lexer": "ipython3",
   "version": "3.9.5"
  }
 },
 "nbformat": 4,
 "nbformat_minor": 5
}
