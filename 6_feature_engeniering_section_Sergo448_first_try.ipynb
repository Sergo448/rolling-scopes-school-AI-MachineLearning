{
 "cells": [
  {
   "cell_type": "code",
   "execution_count": 1,
   "metadata": {},
   "outputs": [],
   "source": [
    "import numpy as np\n",
    "import pandas as pd\n",
    "import seaborn as sns\n",
    "import matplotlib.pyplot as plt\n",
    "\n",
    "from sklearn.impute import SimpleImputer\n",
    "from sklearn.preprocessing import StandardScaler, MinMaxScaler, OrdinalEncoder, OneHotEncoder\n",
    "from sklearn.decomposition import PCA\n",
    "\n",
    "from sklearn.feature_selection import VarianceThreshold, SelectFromModel, RFECV, SequentialFeatureSelector\n",
    "\n",
    "from sklearn.ensemble import RandomForestClassifier, RandomForestRegressor\n",
    "from sklearn.linear_model import LogisticRegression\n",
    "\n",
    "from sklearn.model_selection import KFold, cross_val_score, train_test_split\n",
    "from sklearn.pipeline import Pipeline, make_pipeline\n",
    "from sklearn.metrics import accuracy_score\n",
    "\n",
    "from sklearn.datasets import make_classification, load_wine, load_breast_cancer, load_diabetes, load_digits"
   ]
  },
  {
   "cell_type": "code",
   "execution_count": 2,
   "metadata": {},
   "outputs": [],
   "source": [
    "plt.style.use('seaborn-darkgrid')"
   ]
  },
  {
   "cell_type": "code",
   "execution_count": 3,
   "metadata": {},
   "outputs": [],
   "source": [
    "def plot_scatter(x, y, auto_scaled=True, title=None, clusters=None):\n",
    "    plt.figure(figsize=(4, 4))\n",
    "    plt.scatter(x, y, c=clusters, cmap='bwr')\n",
    "    \n",
    "    if not auto_scaled:\n",
    "        plt.axis('square')\n",
    "    \n",
    "    plt.grid(True)\n",
    "    plt.title(title)\n",
    "    \n",
    "    plt.show()\n",
    "    \n",
    "def return_X_y(data, target_column):\n",
    "    return data.drop(target_column, axis=1), data[target_column]"
   ]
  },
  {
   "cell_type": "code",
   "execution_count": 4,
   "metadata": {},
   "outputs": [],
   "source": [
    "wine_sklearn = load_wine(as_frame=True)\n",
    "wine_data, wine_labels = wine_sklearn['data'], wine_sklearn['target']"
   ]
  },
  {
   "cell_type": "markdown",
   "metadata": {},
   "source": [
    "# Homework"
   ]
  },
  {
   "cell_type": "markdown",
   "metadata": {},
   "source": [
    "## Exercise  1 - Scaling (2 points)"
   ]
  },
  {
   "cell_type": "markdown",
   "metadata": {},
   "source": [
    "Perform standardization for wine dataset (`wine_data`) using only basic python, numpy and pandas (without using `StandardScaler` and sklearn at all). Implementation of function (or class) that can get dataset as input and return standardized dataset as output is preferrable, but not necessary.\n",
    "\n",
    "Compare you results (output) with `StandardScaler`.\n",
    "\n",
    "**NOTE:**\n",
    "\n",
    "- 1 point for functional version, 2 points for implementing scaling as sklearn pipeline compartible class. \n",
    "- Maximum for the exercise is 2 points.\n"
   ]
  },
  {
   "cell_type": "markdown",
   "metadata": {},
   "source": [
    "### Simple version (1 point)"
   ]
  },
  {
   "cell_type": "code",
   "execution_count": 5,
   "metadata": {},
   "outputs": [
    {
     "data": {
      "text/html": [
       "<div>\n",
       "<style scoped>\n",
       "    .dataframe tbody tr th:only-of-type {\n",
       "        vertical-align: middle;\n",
       "    }\n",
       "\n",
       "    .dataframe tbody tr th {\n",
       "        vertical-align: top;\n",
       "    }\n",
       "\n",
       "    .dataframe thead th {\n",
       "        text-align: right;\n",
       "    }\n",
       "</style>\n",
       "<table border=\"1\" class=\"dataframe\">\n",
       "  <thead>\n",
       "    <tr style=\"text-align: right;\">\n",
       "      <th></th>\n",
       "      <th>alcohol</th>\n",
       "      <th>malic_acid</th>\n",
       "      <th>ash</th>\n",
       "      <th>alcalinity_of_ash</th>\n",
       "      <th>magnesium</th>\n",
       "      <th>total_phenols</th>\n",
       "      <th>flavanoids</th>\n",
       "      <th>nonflavanoid_phenols</th>\n",
       "      <th>proanthocyanins</th>\n",
       "      <th>color_intensity</th>\n",
       "      <th>hue</th>\n",
       "      <th>od280/od315_of_diluted_wines</th>\n",
       "      <th>proline</th>\n",
       "    </tr>\n",
       "  </thead>\n",
       "  <tbody>\n",
       "    <tr>\n",
       "      <th>0</th>\n",
       "      <td>14.23</td>\n",
       "      <td>1.71</td>\n",
       "      <td>2.43</td>\n",
       "      <td>15.6</td>\n",
       "      <td>127.0</td>\n",
       "      <td>2.80</td>\n",
       "      <td>3.06</td>\n",
       "      <td>0.28</td>\n",
       "      <td>2.29</td>\n",
       "      <td>5.64</td>\n",
       "      <td>1.04</td>\n",
       "      <td>3.92</td>\n",
       "      <td>1065.0</td>\n",
       "    </tr>\n",
       "    <tr>\n",
       "      <th>1</th>\n",
       "      <td>13.20</td>\n",
       "      <td>1.78</td>\n",
       "      <td>2.14</td>\n",
       "      <td>11.2</td>\n",
       "      <td>100.0</td>\n",
       "      <td>2.65</td>\n",
       "      <td>2.76</td>\n",
       "      <td>0.26</td>\n",
       "      <td>1.28</td>\n",
       "      <td>4.38</td>\n",
       "      <td>1.05</td>\n",
       "      <td>3.40</td>\n",
       "      <td>1050.0</td>\n",
       "    </tr>\n",
       "    <tr>\n",
       "      <th>2</th>\n",
       "      <td>13.16</td>\n",
       "      <td>2.36</td>\n",
       "      <td>2.67</td>\n",
       "      <td>18.6</td>\n",
       "      <td>101.0</td>\n",
       "      <td>2.80</td>\n",
       "      <td>3.24</td>\n",
       "      <td>0.30</td>\n",
       "      <td>2.81</td>\n",
       "      <td>5.68</td>\n",
       "      <td>1.03</td>\n",
       "      <td>3.17</td>\n",
       "      <td>1185.0</td>\n",
       "    </tr>\n",
       "    <tr>\n",
       "      <th>3</th>\n",
       "      <td>14.37</td>\n",
       "      <td>1.95</td>\n",
       "      <td>2.50</td>\n",
       "      <td>16.8</td>\n",
       "      <td>113.0</td>\n",
       "      <td>3.85</td>\n",
       "      <td>3.49</td>\n",
       "      <td>0.24</td>\n",
       "      <td>2.18</td>\n",
       "      <td>7.80</td>\n",
       "      <td>0.86</td>\n",
       "      <td>3.45</td>\n",
       "      <td>1480.0</td>\n",
       "    </tr>\n",
       "    <tr>\n",
       "      <th>4</th>\n",
       "      <td>13.24</td>\n",
       "      <td>2.59</td>\n",
       "      <td>2.87</td>\n",
       "      <td>21.0</td>\n",
       "      <td>118.0</td>\n",
       "      <td>2.80</td>\n",
       "      <td>2.69</td>\n",
       "      <td>0.39</td>\n",
       "      <td>1.82</td>\n",
       "      <td>4.32</td>\n",
       "      <td>1.04</td>\n",
       "      <td>2.93</td>\n",
       "      <td>735.0</td>\n",
       "    </tr>\n",
       "    <tr>\n",
       "      <th>...</th>\n",
       "      <td>...</td>\n",
       "      <td>...</td>\n",
       "      <td>...</td>\n",
       "      <td>...</td>\n",
       "      <td>...</td>\n",
       "      <td>...</td>\n",
       "      <td>...</td>\n",
       "      <td>...</td>\n",
       "      <td>...</td>\n",
       "      <td>...</td>\n",
       "      <td>...</td>\n",
       "      <td>...</td>\n",
       "      <td>...</td>\n",
       "    </tr>\n",
       "    <tr>\n",
       "      <th>173</th>\n",
       "      <td>13.71</td>\n",
       "      <td>5.65</td>\n",
       "      <td>2.45</td>\n",
       "      <td>20.5</td>\n",
       "      <td>95.0</td>\n",
       "      <td>1.68</td>\n",
       "      <td>0.61</td>\n",
       "      <td>0.52</td>\n",
       "      <td>1.06</td>\n",
       "      <td>7.70</td>\n",
       "      <td>0.64</td>\n",
       "      <td>1.74</td>\n",
       "      <td>740.0</td>\n",
       "    </tr>\n",
       "    <tr>\n",
       "      <th>174</th>\n",
       "      <td>13.40</td>\n",
       "      <td>3.91</td>\n",
       "      <td>2.48</td>\n",
       "      <td>23.0</td>\n",
       "      <td>102.0</td>\n",
       "      <td>1.80</td>\n",
       "      <td>0.75</td>\n",
       "      <td>0.43</td>\n",
       "      <td>1.41</td>\n",
       "      <td>7.30</td>\n",
       "      <td>0.70</td>\n",
       "      <td>1.56</td>\n",
       "      <td>750.0</td>\n",
       "    </tr>\n",
       "    <tr>\n",
       "      <th>175</th>\n",
       "      <td>13.27</td>\n",
       "      <td>4.28</td>\n",
       "      <td>2.26</td>\n",
       "      <td>20.0</td>\n",
       "      <td>120.0</td>\n",
       "      <td>1.59</td>\n",
       "      <td>0.69</td>\n",
       "      <td>0.43</td>\n",
       "      <td>1.35</td>\n",
       "      <td>10.20</td>\n",
       "      <td>0.59</td>\n",
       "      <td>1.56</td>\n",
       "      <td>835.0</td>\n",
       "    </tr>\n",
       "    <tr>\n",
       "      <th>176</th>\n",
       "      <td>13.17</td>\n",
       "      <td>2.59</td>\n",
       "      <td>2.37</td>\n",
       "      <td>20.0</td>\n",
       "      <td>120.0</td>\n",
       "      <td>1.65</td>\n",
       "      <td>0.68</td>\n",
       "      <td>0.53</td>\n",
       "      <td>1.46</td>\n",
       "      <td>9.30</td>\n",
       "      <td>0.60</td>\n",
       "      <td>1.62</td>\n",
       "      <td>840.0</td>\n",
       "    </tr>\n",
       "    <tr>\n",
       "      <th>177</th>\n",
       "      <td>14.13</td>\n",
       "      <td>4.10</td>\n",
       "      <td>2.74</td>\n",
       "      <td>24.5</td>\n",
       "      <td>96.0</td>\n",
       "      <td>2.05</td>\n",
       "      <td>0.76</td>\n",
       "      <td>0.56</td>\n",
       "      <td>1.35</td>\n",
       "      <td>9.20</td>\n",
       "      <td>0.61</td>\n",
       "      <td>1.60</td>\n",
       "      <td>560.0</td>\n",
       "    </tr>\n",
       "  </tbody>\n",
       "</table>\n",
       "<p>178 rows × 13 columns</p>\n",
       "</div>"
      ],
      "text/plain": [
       "     alcohol  malic_acid   ash  alcalinity_of_ash  magnesium  total_phenols  \\\n",
       "0      14.23        1.71  2.43               15.6      127.0           2.80   \n",
       "1      13.20        1.78  2.14               11.2      100.0           2.65   \n",
       "2      13.16        2.36  2.67               18.6      101.0           2.80   \n",
       "3      14.37        1.95  2.50               16.8      113.0           3.85   \n",
       "4      13.24        2.59  2.87               21.0      118.0           2.80   \n",
       "..       ...         ...   ...                ...        ...            ...   \n",
       "173    13.71        5.65  2.45               20.5       95.0           1.68   \n",
       "174    13.40        3.91  2.48               23.0      102.0           1.80   \n",
       "175    13.27        4.28  2.26               20.0      120.0           1.59   \n",
       "176    13.17        2.59  2.37               20.0      120.0           1.65   \n",
       "177    14.13        4.10  2.74               24.5       96.0           2.05   \n",
       "\n",
       "     flavanoids  nonflavanoid_phenols  proanthocyanins  color_intensity   hue  \\\n",
       "0          3.06                  0.28             2.29             5.64  1.04   \n",
       "1          2.76                  0.26             1.28             4.38  1.05   \n",
       "2          3.24                  0.30             2.81             5.68  1.03   \n",
       "3          3.49                  0.24             2.18             7.80  0.86   \n",
       "4          2.69                  0.39             1.82             4.32  1.04   \n",
       "..          ...                   ...              ...              ...   ...   \n",
       "173        0.61                  0.52             1.06             7.70  0.64   \n",
       "174        0.75                  0.43             1.41             7.30  0.70   \n",
       "175        0.69                  0.43             1.35            10.20  0.59   \n",
       "176        0.68                  0.53             1.46             9.30  0.60   \n",
       "177        0.76                  0.56             1.35             9.20  0.61   \n",
       "\n",
       "     od280/od315_of_diluted_wines  proline  \n",
       "0                            3.92   1065.0  \n",
       "1                            3.40   1050.0  \n",
       "2                            3.17   1185.0  \n",
       "3                            3.45   1480.0  \n",
       "4                            2.93    735.0  \n",
       "..                            ...      ...  \n",
       "173                          1.74    740.0  \n",
       "174                          1.56    750.0  \n",
       "175                          1.56    835.0  \n",
       "176                          1.62    840.0  \n",
       "177                          1.60    560.0  \n",
       "\n",
       "[178 rows x 13 columns]"
      ]
     },
     "execution_count": 5,
     "metadata": {},
     "output_type": "execute_result"
    }
   ],
   "source": [
    "wine_data"
   ]
  },
  {
   "cell_type": "code",
   "execution_count": 6,
   "metadata": {},
   "outputs": [
    {
     "name": "stdout",
     "output_type": "stream",
     "text": [
      "<class 'pandas.core.frame.DataFrame'>\n",
      "RangeIndex: 178 entries, 0 to 177\n",
      "Data columns (total 13 columns):\n",
      " #   Column                        Non-Null Count  Dtype  \n",
      "---  ------                        --------------  -----  \n",
      " 0   alcohol                       178 non-null    float64\n",
      " 1   malic_acid                    178 non-null    float64\n",
      " 2   ash                           178 non-null    float64\n",
      " 3   alcalinity_of_ash             178 non-null    float64\n",
      " 4   magnesium                     178 non-null    float64\n",
      " 5   total_phenols                 178 non-null    float64\n",
      " 6   flavanoids                    178 non-null    float64\n",
      " 7   nonflavanoid_phenols          178 non-null    float64\n",
      " 8   proanthocyanins               178 non-null    float64\n",
      " 9   color_intensity               178 non-null    float64\n",
      " 10  hue                           178 non-null    float64\n",
      " 11  od280/od315_of_diluted_wines  178 non-null    float64\n",
      " 12  proline                       178 non-null    float64\n",
      "dtypes: float64(13)\n",
      "memory usage: 18.2 KB\n"
     ]
    }
   ],
   "source": [
    "wine_data.info()"
   ]
  },
  {
   "cell_type": "code",
   "execution_count": 7,
   "metadata": {},
   "outputs": [
    {
     "data": {
      "text/plain": [
       "0      0\n",
       "1      0\n",
       "2      0\n",
       "3      0\n",
       "4      0\n",
       "      ..\n",
       "173    2\n",
       "174    2\n",
       "175    2\n",
       "176    2\n",
       "177    2\n",
       "Name: target, Length: 178, dtype: int32"
      ]
     },
     "execution_count": 7,
     "metadata": {},
     "output_type": "execute_result"
    }
   ],
   "source": [
    "wine_labels"
   ]
  },
  {
   "cell_type": "code",
   "execution_count": 8,
   "metadata": {},
   "outputs": [
    {
     "name": "stdout",
     "output_type": "stream",
     "text": [
      "<class 'pandas.core.series.Series'>\n",
      "RangeIndex: 178 entries, 0 to 177\n",
      "Series name: target\n",
      "Non-Null Count  Dtype\n",
      "--------------  -----\n",
      "178 non-null    int32\n",
      "dtypes: int32(1)\n",
      "memory usage: 840.0 bytes\n"
     ]
    }
   ],
   "source": [
    "wine_labels.info()"
   ]
  },
  {
   "cell_type": "code",
   "execution_count": 9,
   "metadata": {},
   "outputs": [],
   "source": [
    "# 1 point\n",
    "def scale(X):\n",
    "    # your code here\n",
    "    normalized_X = (X - np.mean(X)) / (np.std(X)) \n",
    "    return normalized_X"
   ]
  },
  {
   "cell_type": "code",
   "execution_count": 10,
   "metadata": {},
   "outputs": [
    {
     "name": "stderr",
     "output_type": "stream",
     "text": [
      "p:\\python projects\\ai_curces\\venv\\lib\\site-packages\\numpy\\core\\fromnumeric.py:3472: FutureWarning: In a future version, DataFrame.mean(axis=None) will return a scalar mean over the entire DataFrame. To retain the old behavior, use 'frame.mean(axis=0)' or just 'frame.mean()'\n",
      "  return mean(axis=axis, dtype=dtype, out=out, **kwargs)\n"
     ]
    }
   ],
   "source": [
    "assert np.allclose(np.array(scale(wine_data)), StandardScaler().fit_transform(wine_data))"
   ]
  },
  {
   "cell_type": "markdown",
   "metadata": {},
   "source": [
    "### Pipeline Version (2 points)"
   ]
  },
  {
   "cell_type": "code",
   "execution_count": 11,
   "metadata": {},
   "outputs": [],
   "source": [
    "# 2 points\n",
    "from sklearn.base import BaseEstimator, TransformerMixin\n",
    "\n",
    "class CustomScaler(BaseEstimator, TransformerMixin):\n",
    "\n",
    "    def __init__(self, columns=None, copy=True, with_mean=True, with_std=True):\n",
    "        # your code here\n",
    "        self.columns= columns\n",
    "        self.copy = copy\n",
    "        self.with_mean = with_mean\n",
    "        self.with_std = with_std\n",
    "      \n",
    "    def fit(self, X, y=None):\n",
    "        # your code here\n",
    "        X = X.to_numpy()\n",
    "        self.means_ = X.mean(axis = 0, keepdims=True)\n",
    "        self.with_std = X.std(axis = 0, keepdims=True)\n",
    "        return self\n",
    "\n",
    "    def transform(self, X, y=None, copy=None):\n",
    "        # your code here\n",
    "        X = (X.to_numpy() - self.means_) / self.with_std        \n",
    "        return X"
   ]
  },
  {
   "cell_type": "code",
   "execution_count": 12,
   "metadata": {},
   "outputs": [],
   "source": [
    "assert np.allclose(CustomScaler().fit_transform(wine_data), StandardScaler().fit_transform(wine_data))"
   ]
  },
  {
   "cell_type": "markdown",
   "metadata": {},
   "source": [
    "## Exercise  2 - Visualization (3 points)"
   ]
  },
  {
   "cell_type": "markdown",
   "metadata": {},
   "source": [
    "As noted earlier, standardization/normalization of data can be crucial for some distance-based ML methods.\n",
    "\n",
    "Let’s generate some toy example of unnormalized data and visualize the importance of this process once more:"
   ]
  },
  {
   "cell_type": "code",
   "execution_count": 13,
   "metadata": {},
   "outputs": [
    {
     "data": {
      "text/plain": [
       "array([[ 2.06540773,  0.36879148],\n",
       "       [-0.6344725 , -2.05479393],\n",
       "       [-2.95357559, -0.68503288],\n",
       "       ...,\n",
       "       [14.26387536,  4.58812297],\n",
       "       [12.09502925,  4.62697262],\n",
       "       [14.20812253,  4.86351734]])"
      ]
     },
     "execution_count": 13,
     "metadata": {},
     "output_type": "execute_result"
    }
   ],
   "source": [
    "feature_0 = np.random.randn(1000) * 10   \n",
    "feature_1 = np.concatenate([np.random.randn(500), np.random.randn(500) + 5])\n",
    "data = np.column_stack([feature_0, feature_1])\n",
    "data "
   ]
  },
  {
   "cell_type": "code",
   "execution_count": 14,
   "metadata": {},
   "outputs": [
    {
     "data": {
      "image/png": "[encoded data removed]",
      "text/plain": [
       "<Figure size 288x288 with 1 Axes>"
      ]
     },
     "metadata": {},
     "output_type": "display_data"
    }
   ],
   "source": [
    "plot_scatter(data[:, 0], data[:, 1], auto_scaled=True, title='Data (different axes units!)')"
   ]
  },
  {
   "cell_type": "markdown",
   "metadata": {},
   "source": [
    "**NOTE:** on the plot above axes are scaled differently and we can clearly see two potential *classes/clusters*. In fact `matplotlib` performed `autoscaling` (which is basically can be considered as `MinMaxScaling` of original data) just for better visualization purposes.\n",
    "\n",
    "Let's turn this feature off and visualize the original data on the plot with equally scaled axes:"
   ]
  },
  {
   "cell_type": "code",
   "execution_count": 15,
   "metadata": {},
   "outputs": [
    {
     "data": {
      "image/png": "[encoded data removed]",
      "text/plain": [
       "<Figure size 288x288 with 1 Axes>"
      ]
     },
     "metadata": {},
     "output_type": "display_data"
    }
   ],
   "source": [
    "plot_scatter(data[:, 0], data[:, 1], auto_scaled=False , title='Data (equal axes units!)')"
   ]
  },
  {
   "cell_type": "markdown",
   "metadata": {},
   "source": [
    "This picture is clearly less interpretable, but much closer to \"how distance-based algorithm see the original data\": separability of data is hardly noticable only because the variation (std) of x-feature is much bigger in absolute numbers."
   ]
  },
  {
   "cell_type": "markdown",
   "metadata": {},
   "source": [
    "Perform `StandardScaling` and `MinMaxScaling` of original data; visualize results for each case (**use `plot_scatter` with `auto_scaled=False`**):"
   ]
  },
  {
   "cell_type": "markdown",
   "metadata": {},
   "source": [
    "### MinMaxScaling (0.5 point)"
   ]
  },
  {
   "cell_type": "code",
   "execution_count": 16,
   "metadata": {},
   "outputs": [],
   "source": [
    "## your code\n",
    "scaler = MinMaxScaler()\n",
    "clusters_arr0 = scaler.fit_transform(data)"
   ]
  },
  {
   "cell_type": "code",
   "execution_count": 17,
   "metadata": {},
   "outputs": [
    {
     "data": {
      "image/png": "[encoded data removed]",
      "text/plain": [
       "<Figure size 288x288 with 1 Axes>"
      ]
     },
     "metadata": {},
     "output_type": "display_data"
    }
   ],
   "source": [
    "plot_scatter(clusters_arr0 [:, 0], clusters_arr0 [:, 1], auto_scaled=False, title='Data (MinMaxScalled!)', )"
   ]
  },
  {
   "cell_type": "markdown",
   "metadata": {},
   "source": [
    "Отдельно хочу посмотреть что будет с данными если в auto_scaled=True"
   ]
  },
  {
   "cell_type": "code",
   "execution_count": 18,
   "metadata": {},
   "outputs": [
    {
     "data": {
      "image/png": "[encoded data removed]",
      "text/plain": [
       "<Figure size 288x288 with 1 Axes>"
      ]
     },
     "metadata": {},
     "output_type": "display_data"
    }
   ],
   "source": [
    "plot_scatter(clusters_arr0[:, 0], clusters_arr0[:, 1], auto_scaled=True, title='Data (MinMaxScalled!)')"
   ]
  },
  {
   "cell_type": "markdown",
   "metadata": {},
   "source": [
    "Тут ничего не поменялось"
   ]
  },
  {
   "cell_type": "code",
   "execution_count": 19,
   "metadata": {},
   "outputs": [],
   "source": [
    "clusters_arr0 = (data - data.min()) / (data.max() - data.min())"
   ]
  },
  {
   "cell_type": "code",
   "execution_count": 20,
   "metadata": {},
   "outputs": [
    {
     "data": {
      "image/png": "[encoded data removed]",
      "text/plain": [
       "<Figure size 288x288 with 1 Axes>"
      ]
     },
     "metadata": {},
     "output_type": "display_data"
    },
    {
     "data": {
      "image/png": "[encoded data removed]",
      "text/plain": [
       "<Figure size 288x288 with 1 Axes>"
      ]
     },
     "metadata": {},
     "output_type": "display_data"
    }
   ],
   "source": [
    "plot_scatter(clusters_arr0[:, 0], clusters_arr0[:, 1], auto_scaled=True, title='Data (MinMaxScalled!)')\n",
    "plot_scatter(clusters_arr0[:, 0], clusters_arr0[:, 1], auto_scaled=False, title='Data (MinMaxScalled!)')"
   ]
  },
  {
   "cell_type": "markdown",
   "metadata": {},
   "source": [
    "А тут видно что изменилось"
   ]
  },
  {
   "cell_type": "markdown",
   "metadata": {},
   "source": [
    "### StandardScaler (0.5 point)"
   ]
  },
  {
   "cell_type": "code",
   "execution_count": 21,
   "metadata": {},
   "outputs": [],
   "source": [
    "scaler = StandardScaler()\n",
    "clusters_arr1 = scaler.fit_transform(data)"
   ]
  },
  {
   "cell_type": "code",
   "execution_count": 22,
   "metadata": {},
   "outputs": [
    {
     "data": {
      "image/png": "[encoded data removed]",
      "text/plain": [
       "<Figure size 288x288 with 1 Axes>"
      ]
     },
     "metadata": {},
     "output_type": "display_data"
    }
   ],
   "source": [
    "plot_scatter(clusters_arr1[:, 0], clusters_arr1[:, 1], auto_scaled=False, title='Data (StaddartScaler!)')"
   ]
  },
  {
   "cell_type": "markdown",
   "metadata": {},
   "source": [
    "Также отдельно интересно глянуть на другой вариант"
   ]
  },
  {
   "cell_type": "code",
   "execution_count": 23,
   "metadata": {},
   "outputs": [
    {
     "data": {
      "image/png": "[encoded data removed]",
      "text/plain": [
       "<Figure size 288x288 with 1 Axes>"
      ]
     },
     "metadata": {},
     "output_type": "display_data"
    }
   ],
   "source": [
    "plot_scatter(clusters_arr1[:, 0], clusters_arr1[:, 1], auto_scaled=True, title='Data (StaddartScaler!)')"
   ]
  },
  {
   "cell_type": "markdown",
   "metadata": {},
   "source": [
    "### (Bonus) K-means (2 points)"
   ]
  },
  {
   "cell_type": "markdown",
   "metadata": {},
   "source": [
    "Illustrate the impact of scaling on basic distance-based clustering algorithm [K-means](https://towardsdatascience.com/understanding-k-means-clustering-in-machine-learning-6a6e67336aa1) using `data` generated above.\n",
    "\n",
    "**NOTE:** basically, you don't need understanding K-means algorithm here, you just need to:\n",
    "\n",
    "1) run algorithm (with k=2, k - number of clusters/classes) on unscaled data    \n",
    "2) run algorithm (with k=2) on scaled data    \n",
    "3) plot results: highlight different clusters using different colors.\n",
    "\n",
    "You can use this [question](https://stats.stackexchange.com/questions/89809/is-it-important-to-scale-data-before-clustering/89813) as a hint, but I recommend you to plot results using `plot_scatter` with `equal_scaled=True`: it might help you to intuitively understand the reasons of such scaling impact.\n"
   ]
  },
  {
   "cell_type": "code",
   "execution_count": 24,
   "metadata": {},
   "outputs": [],
   "source": [
    "## your code\n",
    "from sklearn.cluster import KMeans\n",
    "clt = KMeans(n_clusters=2, random_state=30)\n",
    "model_0 = clt.fit_transform(data)\n",
    "model_1 = clt.fit_transform(clusters_arr0)\n",
    "model_2 = clt.fit_transform(clusters_arr1)"
   ]
  },
  {
   "cell_type": "code",
   "execution_count": 25,
   "metadata": {},
   "outputs": [
    {
     "data": {
      "image/png": "[encoded data removed]",
      "text/plain": [
       "<Figure size 288x288 with 1 Axes>"
      ]
     },
     "metadata": {},
     "output_type": "display_data"
    },
    {
     "data": {
      "image/png": "[encoded data removed]",
      "text/plain": [
       "<Figure size 288x288 with 1 Axes>"
      ]
     },
     "metadata": {},
     "output_type": "display_data"
    },
    {
     "data": {
      "image/png": "[encoded data removed]",
      "text/plain": [
       "<Figure size 288x288 with 1 Axes>"
      ]
     },
     "metadata": {},
     "output_type": "display_data"
    }
   ],
   "source": [
    "plot_scatter(model_0[:, 0], model_0[:, 1], auto_scaled=True)\n",
    "plot_scatter(model_1[:, 0], model_1[:, 1], auto_scaled=True)\n",
    "plot_scatter(model_2[:, 0], model_2[:, 1], auto_scaled=True)"
   ]
  },
  {
   "cell_type": "markdown",
   "metadata": {},
   "source": [
    "Другой вариант, т.к. поканерешил еще как лучше "
   ]
  },
  {
   "cell_type": "code",
   "execution_count": 26,
   "metadata": {},
   "outputs": [],
   "source": [
    "from sklearn.cluster import KMeans\n",
    "kmeans_ = KMeans(2)"
   ]
  },
  {
   "cell_type": "code",
   "execution_count": 27,
   "metadata": {},
   "outputs": [],
   "source": [
    "feature_0 = np.random.randn(1000) * 10\n",
    "feature_0 = np.concatenate([np.random.randn(500), np.random.randn(500) + 5])"
   ]
  },
  {
   "cell_type": "code",
   "execution_count": 28,
   "metadata": {},
   "outputs": [
    {
     "name": "stdout",
     "output_type": "stream",
     "text": [
      "data_2: \n",
      "[[ 0.86013828  0.36879148]\n",
      " [-0.66852064 -2.05479393]\n",
      " [ 0.25190566 -0.68503288]\n",
      " ...\n",
      " [ 4.64912918  4.58812297]\n",
      " [ 4.00291678  4.62697262]\n",
      " [ 5.65800853  4.86351734]]\n"
     ]
    }
   ],
   "source": [
    "data_2 = np.column_stack([feature_0, feature_1])\n",
    "print(f'data_2: \\n{data_2}')"
   ]
  },
  {
   "cell_type": "code",
   "execution_count": 29,
   "metadata": {},
   "outputs": [
    {
     "data": {
      "text/plain": [
       "Text(0.5, 1.0, 'Used KMeans with normalization')"
      ]
     },
     "execution_count": 29,
     "metadata": {},
     "output_type": "execute_result"
    },
    {
     "data": {
      "image/png": "[encoded data removed]",
      "text/plain": [
       "<Figure size 432x288 with 3 Axes>"
      ]
     },
     "metadata": {},
     "output_type": "display_data"
    }
   ],
   "source": [
    "plot, axes = plt.subplots(3, 1)\n",
    "axes[0].scatter(feature_0, feature_1,  cmap='bwr')\n",
    "axes[0].set_title('Data')\n",
    "\n",
    "\n",
    "\n",
    "# KMeans без нормализации\n",
    "clusters_1 = kmeans_.fit_predict(np.array([feature_0, feature_1]).T)\n",
    "axes[1].scatter(feature_0, feature_1, c=clusters_1, cmap='bwr')\n",
    "axes[1].set_title('Used KMeans without normalization')\n",
    "\n",
    "\n",
    "# KMeans c нормализацией\n",
    "clusters_2 = kmeans_.fit_predict(np.array([feature_0 / 10, feature_1]).T)\n",
    "axes[2].scatter(feature_0, feature_1, c=clusters_2, cmap='bwr')\n",
    "axes[2].set_title('Used KMeans with normalization')"
   ]
  },
  {
   "cell_type": "markdown",
   "metadata": {},
   "source": [
    "## Exercise  3 - Preprocessing Pipeline (2 points)"
   ]
  },
  {
   "cell_type": "code",
   "execution_count": 30,
   "metadata": {},
   "outputs": [],
   "source": [
    "wine_train, wine_val, wine_labels_train, wine_labels_val = train_test_split(wine_data, wine_labels, \n",
    "                                                                            test_size=0.3, random_state=42)"
   ]
  },
  {
   "cell_type": "markdown",
   "metadata": {},
   "source": [
    "Train model (for example, `LogisticRegression(solver='liblinear', penalty='l1')` on raw `wine_train` data; then train same model after data scaling; then add feature selection (and train model again on scaled data). For each experiment all required preprocessing steps (if any) should be wrapped into sklearn pipeline.\n",
    "\n",
    "Measure `accuracy` of all 3 approaches on `wine_val` dataset. Describe and explain results."
   ]
  },
  {
   "cell_type": "code",
   "execution_count": 31,
   "metadata": {},
   "outputs": [],
   "source": [
    "## your code\n",
    "data_scal_train = np.column_stack([wine_train, wine_labels_train])\n",
    "data_scal_val = np.column_stack([wine_val, wine_labels_val])"
   ]
  },
  {
   "cell_type": "code",
   "execution_count": 32,
   "metadata": {},
   "outputs": [
    {
     "data": {
      "text/plain": [
       "LogisticRegression(penalty='l1', solver='liblinear')"
      ]
     },
     "execution_count": 32,
     "metadata": {},
     "output_type": "execute_result"
    }
   ],
   "source": [
    "lr_1 = LogisticRegression(solver='liblinear', penalty='l1')\n",
    "lr_1.fit(wine_train, wine_labels_train)"
   ]
  },
  {
   "cell_type": "code",
   "execution_count": 33,
   "metadata": {},
   "outputs": [
    {
     "name": "stdout",
     "output_type": "stream",
     "text": [
      "Accurasy for not prepared train data: 0.967741935483871\n",
      "Accurasy for not prepared validation data: 0.9814814814814815\n"
     ]
    }
   ],
   "source": [
    "predict_train_1_0 = lr_1.predict(wine_train)\n",
    "predict_train_1_1 = lr_1.predict_proba(wine_train)\n",
    "print(f'Accurasy for not prepared train data: {lr_1.score(wine_train, wine_labels_train)}')\n",
    "\n",
    "\n",
    "predict_val_1_0 = lr_1.predict(wine_val)\n",
    "predict_val_1_1 = lr_1.predict_proba(wine_val)\n",
    "print(f'Accurasy for not prepared validation data: {lr_1.score(wine_val, wine_labels_val)}')"
   ]
  },
  {
   "cell_type": "code",
   "execution_count": 34,
   "metadata": {},
   "outputs": [],
   "source": [
    "scaler = MinMaxScaler()\n",
    "wine_train_scaled = scaler.fit_transform(wine_train)\n",
    "wine_val_scaled = scaler.fit_transform(wine_val)"
   ]
  },
  {
   "cell_type": "code",
   "execution_count": 35,
   "metadata": {},
   "outputs": [],
   "source": [
    "wine_train_scaled = (wine_train_scaled -wine_train_scaled.min()) / (wine_train_scaled.max() - wine_train_scaled.min())\n",
    "wine_val_scaled = (wine_val_scaled - wine_val_scaled.min()) / (wine_val_scaled.max() - wine_val_scaled.min())"
   ]
  },
  {
   "cell_type": "code",
   "execution_count": 36,
   "metadata": {},
   "outputs": [
    {
     "data": {
      "text/plain": [
       "array([[0.64736842, 0.54989817, 0.44385027, ..., 0.26829268, 0.2014652 ,\n",
       "        0.23798266],\n",
       "       [0.38947368, 0.17107943, 0.3315508 , ..., 0.45528455, 0.84249084,\n",
       "        0.31048069],\n",
       "       [0.34210526, 0.0203666 , 0.31550802, ..., 0.47154472, 0.38095238,\n",
       "        0.37194641],\n",
       "       ...,\n",
       "       [0.88157895, 0.19959267, 0.54545455, ..., 0.58536585, 0.63369963,\n",
       "        1.        ],\n",
       "       [0.43684211, 0.13034623, 0.48128342, ..., 0.3902439 , 0.28937729,\n",
       "        0.17100079],\n",
       "       [0.34473684, 0.31771894, 0.58823529, ..., 0.2601626 , 0.77289377,\n",
       "        0.12608353]])"
      ]
     },
     "execution_count": 36,
     "metadata": {},
     "output_type": "execute_result"
    }
   ],
   "source": [
    "wine_train_scaled"
   ]
  },
  {
   "cell_type": "code",
   "execution_count": 37,
   "metadata": {},
   "outputs": [
    {
     "data": {
      "text/plain": [
       "array([[0.76109215, 0.49475891, 0.74137931, 0.0173913 , 0.84444444,\n",
       "        0.62211982, 0.73760933, 0.        , 0.52083333, 0.32593857,\n",
       "        0.53333333, 0.81746032, 0.38961988],\n",
       "       [0.9556314 , 0.6918239 , 0.63793103, 0.33913043, 0.73333333,\n",
       "        0.69124424, 0.62682216, 0.2826087 , 0.35      , 0.33788396,\n",
       "        0.41333333, 0.80555556, 0.56140351],\n",
       "       [0.51877133, 0.43396226, 0.86206897, 0.52173913, 0.4       ,\n",
       "        0.0875576 , 0.        , 0.7826087 , 0.14166667, 0.28327645,\n",
       "        0.28      , 0.40079365, 0.21052632],\n",
       "       [0.79180887, 0.15932914, 0.86206897, 0.65217391, 0.51111111,\n",
       "        0.76036866, 0.80174927, 0.26086957, 0.82083333, 0.37713311,\n",
       "        0.84      , 0.55952381, 0.71125731],\n",
       "       [0.32764505, 0.09014675, 0.18965517, 0.4       , 0.        ,\n",
       "        0.35023041, 0.43731778, 0.2173913 , 0.2625    , 0.29010239,\n",
       "        0.74666667, 0.86507937, 0.14473684],\n",
       "       [0.98634812, 0.24737945, 0.87931034, 0.43478261, 0.93333333,\n",
       "        0.66820276, 0.7696793 , 0.34782609, 0.65      , 0.41979522,\n",
       "        0.68      , 0.53571429, 0.70760234],\n",
       "       [0.20136519, 0.5639413 , 0.25862069, 0.34782609, 0.2       ,\n",
       "        0.29953917, 0.33236152, 0.43478261, 0.60833333, 0.        ,\n",
       "        0.49333333, 0.69444444, 0.18421053],\n",
       "       [0.67918089, 0.66457023, 0.67241379, 0.69565217, 0.53333333,\n",
       "        0.20737327, 0.0728863 , 0.56521739, 0.41666667, 0.51365188,\n",
       "        0.18666667, 0.1031746 , 0.32017544],\n",
       "       [0.06825939, 0.1278826 , 0.86206897, 0.43478261, 0.35555556,\n",
       "        0.640553  , 0.70553936, 0.26086957, 0.86666667, 0.1168942 ,\n",
       "        0.53333333, 0.77777778, 0.26900585],\n",
       "       [0.66552901, 0.38155136, 0.56034483, 0.43478261, 0.24444444,\n",
       "        0.02304147, 0.        , 0.43478261, 0.09583333, 0.36860068,\n",
       "        0.18666667, 0.46428571, 0.34210526],\n",
       "       [0.71331058, 0.22431866, 0.78448276, 0.43478261, 0.4       ,\n",
       "        0.5437788 , 0.61516035, 0.23913043, 0.52083333, 0.19112628,\n",
       "        0.74666667, 1.        , 0.38961988],\n",
       "       [0.71331058, 0.49895178, 0.79310345, 0.7826087 , 1.        ,\n",
       "        0.02304147, 0.31195335, 0.10869565, 0.35      , 0.62457338,\n",
       "        0.04      , 0.        , 0.1374269 ],\n",
       "       [0.68259386, 0.64989518, 0.36206897, 0.33043478, 0.26666667,\n",
       "        0.50691244, 0.63556851, 0.2173913 , 0.44583333, 0.2559727 ,\n",
       "        0.46666667, 0.67460317, 0.52850877],\n",
       "       [0.46416382, 0.5639413 , 0.24137931, 0.08695652, 0.04444444,\n",
       "        0.12903226, 0.21865889, 0.56521739, 0.175     , 0.18088737,\n",
       "        0.18666667, 0.32539683, 0.04385965],\n",
       "       [0.75767918, 0.22431866, 0.86206897, 0.19130435, 0.75555556,\n",
       "        0.69124424, 0.70262391, 0.2826087 , 0.4375    , 0.51365188,\n",
       "        0.96      , 0.62698413, 0.72953216],\n",
       "       [0.37883959, 0.35429769, 0.40517241, 0.52173913, 0.22222222,\n",
       "        0.55299539, 0.51603499, 0.19565217, 0.3375    , 0.06143345,\n",
       "        0.45333333, 0.58730159, 0.00950292],\n",
       "       [0.        , 0.        , 0.68965517, 0.52173913, 0.22222222,\n",
       "        0.52073733, 0.44023324, 0.54347826, 0.42916667, 0.15358362,\n",
       "        0.72      , 0.40079365, 0.08918129],\n",
       "       [0.22866894, 0.08176101, 0.69827586, 0.7826087 , 0.        ,\n",
       "        0.29953917, 0.3148688 , 0.5       , 0.4125    , 0.07849829,\n",
       "        1.        , 0.56349206, 0.23245614],\n",
       "       [0.83617747, 0.1278826 , 0.49137931, 0.08695652, 0.44444444,\n",
       "        0.75115207, 0.77259475, 0.10869565, 0.6       , 0.50682594,\n",
       "        0.6       , 0.89285714, 0.53581871],\n",
       "       [0.22866894, 0.13626834, 0.68965517, 0.65217391, 0.13333333,\n",
       "        0.55760369, 0.52186589, 0.56521739, 0.2625    , 0.13822526,\n",
       "        0.49333333, 0.75      , 0.05336257],\n",
       "       [0.94880546, 0.17819706, 0.67241379, 0.13043478, 0.66666667,\n",
       "        0.89861751, 1.        , 0.32608696, 0.60416667, 0.6331058 ,\n",
       "        0.89333333, 0.6031746 , 1.        ],\n",
       "       [0.58020478, 0.05660377, 0.        , 0.        , 0.        ,\n",
       "        0.75115207, 0.78134111, 0.19565217, 0.77916667, 0.34300341,\n",
       "        0.74666667, 0.74603175, 0.13888889],\n",
       "       [0.31399317, 0.0754717 , 0.5       , 0.08695652, 0.51111111,\n",
       "        0.32258065, 0.17201166, 1.        , 0.        , 0.16979522,\n",
       "        0.92      , 0.1468254 , 0.26900585],\n",
       "       [0.67918089, 0.80922432, 1.        , 0.86956522, 0.75555556,\n",
       "        0.29032258, 0.13411079, 0.2173913 , 0.29166667, 0.61604096,\n",
       "        0.14666667, 0.24603175, 0.23245614],\n",
       "       [0.46416382, 0.34591195, 0.5       , 0.39130435, 0.17777778,\n",
       "        0.01843318, 0.00291545, 0.67391304, 0.09583333, 0.7354948 ,\n",
       "        0.01333333, 0.13095238, 0.11549708],\n",
       "       [0.80887372, 0.42348008, 0.51724138, 0.60869565, 0.26666667,\n",
       "        0.        , 0.05247813, 0.52173913, 0.25833333, 0.70819113,\n",
       "        0.18666667, 0.15079365, 0.22149123],\n",
       "       [0.3447099 , 0.18238994, 0.42241379, 0.65217391, 0.66666667,\n",
       "        0.29953917, 0.46355685, 0.36956522, 0.5       , 0.0665529 ,\n",
       "        0.66666667, 0.65873016, 0.02412281],\n",
       "       [0.32764505, 0.09853249, 0.74137931, 0.26956522, 0.44444444,\n",
       "        0.49308756, 0.62682216, 0.43478261, 0.69583333, 0.28327645,\n",
       "        0.84      , 0.3968254 , 0.26754386],\n",
       "       [0.22866894, 0.22851153, 0.53448276, 0.30434783, 0.06666667,\n",
       "        0.11520737, 0.29154519, 0.76086957, 0.5125    , 0.09556314,\n",
       "        0.69333333, 0.38492063, 0.12280702],\n",
       "       [0.7337884 , 0.20754717, 0.65517241, 0.47826087, 0.84444444,\n",
       "        0.74193548, 0.66472303, 0.06521739, 0.85      , 0.42406143,\n",
       "        0.56      , 0.68650794, 0.59064327],\n",
       "       [0.89078498, 0.19706499, 0.43965517, 0.08695652, 0.4       ,\n",
       "        0.59907834, 0.5335277 , 0.19565217, 0.65416667, 0.29180887,\n",
       "        0.64      , 0.90873016, 0.52850877],\n",
       "       [0.32764505, 0.18658281, 0.51724138, 0.82608696, 0.22222222,\n",
       "        0.40092166, 0.56851312, 0.5       , 0.62083333, 0.07167235,\n",
       "        0.44      , 0.58730159, 0.02192982],\n",
       "       [0.59726962, 0.5932914 , 0.38793103, 0.52173913, 0.53333333,\n",
       "        0.06912442, 0.01457726, 0.56521739, 0.37083333, 0.23208191,\n",
       "        0.05333333, 0.15079365, 0.37865497],\n",
       "       [0.74061433, 0.19287212, 0.56896552, 0.35652174, 0.62222222,\n",
       "        0.69585253, 0.78425656, 0.10869565, 0.64166667, 0.47952218,\n",
       "        0.70666667, 0.62698413, 0.87938596],\n",
       "       [0.79863481, 0.20754717, 0.61206897, 0.08695652, 0.24444444,\n",
       "        0.57603687, 0.65889213, 0.26086957, 0.58333333, 0.36860068,\n",
       "        0.78666667, 0.63492063, 0.73684211],\n",
       "       [0.84300341, 0.24109015, 0.76724138, 0.        , 0.51111111,\n",
       "        0.87557604, 0.89212828, 0.        , 0.5375    , 0.35409556,\n",
       "        0.42666667, 0.8968254 , 0.57236842],\n",
       "       [1.        , 0.19706499, 0.86206897, 0.86956522, 0.44444444,\n",
       "        0.66820276, 0.2361516 , 0.7826087 , 0.95416667, 1.        ,\n",
       "        0.01333333, 0.26190476, 0.25438596],\n",
       "       [0.38225256, 1.        , 0.81034483, 0.86956522, 0.4       ,\n",
       "        0.20276498, 0.02915452, 1.        , 0.2875    , 0.31740614,\n",
       "        0.34666667, 0.1547619 , 0.14839181],\n",
       "       [0.32764505, 0.06918239, 0.34482759, 0.30434783, 0.22222222,\n",
       "        1.        , 0.94752187, 0.15217391, 0.64166667, 0.27474403,\n",
       "        0.64      , 0.58333333, 0.25438596],\n",
       "       [0.70648464, 0.19496855, 0.81034483, 0.65217391, 0.24444444,\n",
       "        0.57603687, 0.17492711, 0.76086957, 0.78333333, 0.89334471,\n",
       "        0.01333333, 0.19047619, 0.2251462 ],\n",
       "       [0.5665529 , 0.15932914, 0.34482759, 0.04347826, 0.44444444,\n",
       "        0.48387097, 0.62390671, 0.23913043, 0.4       , 0.20648464,\n",
       "        0.82666667, 0.5515873 , 0.51754386],\n",
       "       [0.27645051, 0.11530398, 0.20689655, 0.34782609, 0.31111111,\n",
       "        0.46543779, 0.44897959, 0.47826087, 0.69583333, 0.12116041,\n",
       "        0.4       , 0.68253968, 0.        ],\n",
       "       [0.43003413, 0.05031447, 0.46551724, 0.26086957, 0.46666667,\n",
       "        0.39170507, 0.41982507, 0.2826087 , 0.4375    , 0.11433447,\n",
       "        0.89333333, 0.73809524, 0.10087719],\n",
       "       [0.65870307, 0.04192872, 0.56896552, 0.17391304, 0.71111111,\n",
       "        0.5437788 , 0.23323615, 0.82608696, 0.00416667, 0.1612628 ,\n",
       "        0.61333333, 0.25      , 0.32017544],\n",
       "       [0.75426621, 0.88259958, 0.56034483, 0.43478261, 0.31111111,\n",
       "        0.29953917, 0.08746356, 0.65217391, 0.25416667, 0.2662116 ,\n",
       "        0.46666667, 0.29761905, 0.17397661],\n",
       "       [0.59726962, 0.33962264, 0.8362069 , 0.31304348, 0.51111111,\n",
       "        0.66820276, 0.79883382, 0.2826087 , 1.        , 0.37542662,\n",
       "        0.62666667, 0.74206349, 0.63815789],\n",
       "       [0.22866894, 0.28092243, 0.        , 0.2173913 , 0.42222222,\n",
       "        0.40552995, 0.48688047, 0.19565217, 0.4125    , 0.17235495,\n",
       "        0.94666667, 0.65873016, 0.29093567],\n",
       "       [0.3447099 , 0.77358491, 0.88793103, 1.        , 0.53333333,\n",
       "        0.39170507, 0.47521866, 0.56521739, 0.54166667, 0.06825939,\n",
       "        0.48      , 0.72222222, 0.03874269],\n",
       "       [0.39931741, 0.11530398, 0.34482759, 0.43478261, 0.55555556,\n",
       "        0.05990783, 0.02332362, 0.7826087 , 0.4125    , 0.53924915,\n",
       "        0.02666667, 0.09920635, 0.23976608],\n",
       "       [0.82593857, 0.19077568, 0.77586207, 0.19130435, 0.35555556,\n",
       "        0.50691244, 0.72594752, 0.10869565, 0.78333333, 0.36860068,\n",
       "        0.90666667, 0.82142857, 0.69663743],\n",
       "       [0.55290102, 0.03354298, 0.00862069, 0.08695652, 0.17777778,\n",
       "        0.2764977 , 0.44606414, 0.15217391, 0.4375    , 0.28327645,\n",
       "        0.84      , 0.46825397, 0.05847953],\n",
       "       [0.95904437, 0.20125786, 0.51724138, 0.11304348, 0.88888889,\n",
       "        0.85253456, 0.72886297, 0.19565217, 0.675     , 0.43515358,\n",
       "        0.50666667, 0.79761905, 0.48099415],\n",
       "       [0.67576792, 0.21593291, 0.79310345, 0.09565217, 0.33333333,\n",
       "        0.69124424, 0.71137026, 0.36956522, 0.43333333, 0.3003413 ,\n",
       "        0.48      , 0.76190476, 0.64546784],\n",
       "       [0.62116041, 0.53668763, 0.5       , 0.30434783, 0.44444444,\n",
       "        0.20737327, 0.09620991, 0.95652174, 0.60833333, 0.7883959 ,\n",
       "        0.        , 0.08333333, 0.26535088]])"
      ]
     },
     "execution_count": 37,
     "metadata": {},
     "output_type": "execute_result"
    }
   ],
   "source": [
    "wine_val_scaled"
   ]
  },
  {
   "cell_type": "code",
   "execution_count": 38,
   "metadata": {},
   "outputs": [
    {
     "data": {
      "text/plain": [
       "LogisticRegression(penalty='l1', solver='liblinear')"
      ]
     },
     "execution_count": 38,
     "metadata": {},
     "output_type": "execute_result"
    }
   ],
   "source": [
    "lr_1.fit(wine_train_scaled, wine_labels_train)"
   ]
  },
  {
   "cell_type": "code",
   "execution_count": 39,
   "metadata": {},
   "outputs": [
    {
     "name": "stdout",
     "output_type": "stream",
     "text": [
      "Accurasy for prepared train data: 0.967741935483871\n"
     ]
    }
   ],
   "source": [
    "predict_train_2_0 = lr_1.predict(wine_train_scaled)\n",
    "predict_train_2_1 = lr_1.predict_proba(wine_train_scaled)\n",
    "print(f'Accurasy for prepared train data: {lr_1.score(wine_train_scaled, wine_labels_train)}')"
   ]
  },
  {
   "cell_type": "code",
   "execution_count": 40,
   "metadata": {},
   "outputs": [
    {
     "data": {
      "text/plain": [
       "LogisticRegression(penalty='l1', solver='liblinear')"
      ]
     },
     "execution_count": 40,
     "metadata": {},
     "output_type": "execute_result"
    }
   ],
   "source": [
    "lr_1.fit(wine_val_scaled, wine_labels_val)"
   ]
  },
  {
   "cell_type": "code",
   "execution_count": 41,
   "metadata": {},
   "outputs": [
    {
     "name": "stdout",
     "output_type": "stream",
     "text": [
      "Accurasy for prepared validation data: 1.0\n"
     ]
    }
   ],
   "source": [
    "predict_val_3_0 = lr_1.predict(wine_val_scaled)\n",
    "predict_val_3_1 = lr_1.predict_proba(wine_val_scaled)\n",
    "print(f'Accurasy for prepared validation data: {lr_1.score(wine_val_scaled, wine_labels_val)}')"
   ]
  },
  {
   "cell_type": "markdown",
   "metadata": {},
   "source": [
    "Сейчас данные в моем понимании не будут стандартизироваться но пройдут предобработку."
   ]
  },
  {
   "cell_type": "code",
   "execution_count": 42,
   "metadata": {},
   "outputs": [],
   "source": [
    "scaler = StandardScaler()\n",
    "wine_train_scaled = scaler.fit_transform(wine_train)\n",
    "wine_val_scaled = scaler.fit_transform(wine_val)"
   ]
  },
  {
   "cell_type": "code",
   "execution_count": 43,
   "metadata": {},
   "outputs": [
    {
     "data": {
      "text/plain": [
       "LogisticRegression(penalty='l1', solver='liblinear')"
      ]
     },
     "execution_count": 43,
     "metadata": {},
     "output_type": "execute_result"
    }
   ],
   "source": [
    "lr_1.fit(wine_train_scaled, wine_labels_train)"
   ]
  },
  {
   "cell_type": "code",
   "execution_count": 44,
   "metadata": {},
   "outputs": [
    {
     "name": "stdout",
     "output_type": "stream",
     "text": [
      "Accurasy for prepared train data: 1.0\n"
     ]
    }
   ],
   "source": [
    "predict_train_4_0 = lr_1.predict(wine_train_scaled)\n",
    "predict_train_4_1 = lr_1.predict_proba(wine_train_scaled)\n",
    "print(f'Accurasy for prepared train data: {lr_1.score(wine_train_scaled, wine_labels_train)}')"
   ]
  },
  {
   "cell_type": "code",
   "execution_count": 45,
   "metadata": {},
   "outputs": [
    {
     "data": {
      "text/plain": [
       "LogisticRegression(penalty='l1', solver='liblinear')"
      ]
     },
     "execution_count": 45,
     "metadata": {},
     "output_type": "execute_result"
    }
   ],
   "source": [
    "lr_1.fit(wine_val_scaled, wine_labels_val)"
   ]
  },
  {
   "cell_type": "code",
   "execution_count": 46,
   "metadata": {},
   "outputs": [
    {
     "name": "stdout",
     "output_type": "stream",
     "text": [
      "Accurasy for prepared validation data: 1.0\n"
     ]
    }
   ],
   "source": [
    "predict_val_3_0 = lr_1.predict(wine_val_scaled)\n",
    "predict_val_3_1 = lr_1.predict_proba(wine_val_scaled)\n",
    "print(f'Accurasy for prepared validation data: {lr_1.score(wine_val_scaled, wine_labels_val)}')"
   ]
  },
  {
   "cell_type": "code",
   "execution_count": 47,
   "metadata": {},
   "outputs": [],
   "source": [
    "from sklearn.svm import SVC"
   ]
  },
  {
   "cell_type": "code",
   "execution_count": 48,
   "metadata": {},
   "outputs": [],
   "source": [
    "pipe = Pipeline([('scaler', StandardScaler()), ('svc', SVC())])"
   ]
  },
  {
   "cell_type": "code",
   "execution_count": 49,
   "metadata": {},
   "outputs": [
    {
     "name": "stdout",
     "output_type": "stream",
     "text": [
      "accurasy with pipeline with not prepared data = 0.9814814814814815\n"
     ]
    }
   ],
   "source": [
    "pipe.fit(wine_train,wine_labels_train)\n",
    "print(f'accurasy with pipeline with not prepared data = {pipe.score(wine_val,wine_labels_val)}')"
   ]
  },
  {
   "cell_type": "code",
   "execution_count": 50,
   "metadata": {},
   "outputs": [
    {
     "name": "stdout",
     "output_type": "stream",
     "text": [
      "accurasy with pipeline with prepared data = 0.9814814814814815\n"
     ]
    }
   ],
   "source": [
    "pipe.fit(wine_train_scaled, wine_labels_train)\n",
    "print(f'accurasy with pipeline with prepared data = {pipe.score(wine_val_scaled, wine_labels_val)}')"
   ]
  },
  {
   "cell_type": "markdown",
   "metadata": {},
   "source": [
    "Как мы видим, предобработку данных в пайплайн делать не обязательно, это лишнее."
   ]
  },
  {
   "cell_type": "markdown",
   "metadata": {},
   "source": [
    "## Exercise 4 - manual PCA (5 points)\n",
    "The task is to solve PCA as an optimization problem, without explicitly doing eigen value decomposition.\n",
    "In the most general setting PCA is minimization of reconstruction error of a projection of given rank $q$\n",
    "\n",
    "$$\\min_{\\mu, \\lambda_1,\\ldots, \\lambda_n, \\mathbf{V}_q} \\sum_{i=1}^n ||x_i - \\mu - \\mathbf{V}_q \\lambda_i||^2$$\n",
    "\n",
    "With a number of steps that can be found here https://stats.stackexchange.com/a/10260 this task transforms to\n",
    " $$\\max_{u_i} \\sum_{i=1}^q u_i^T \\mathbf{S} u_i$$\n",
    " where $\\mathbf{S}$ is the sample covariance matrix (after standartization) and $u_1, \\ldots, u_q$ are the $q$ are orthonormal columns in $\\mathbf{V}_q$.\n",
    " Let us solve this optimization problem with `scipy.optimize` library.\n",
    " \n",
    " Additional 2 point are given for visualization of the results."
   ]
  },
  {
   "cell_type": "markdown",
   "metadata": {},
   "source": [
    "### PCA (3 points)"
   ]
  },
  {
   "cell_type": "code",
   "execution_count": 51,
   "metadata": {},
   "outputs": [],
   "source": [
    "wine_data, wine_labels = wine_sklearn['data'], wine_sklearn['target']"
   ]
  },
  {
   "cell_type": "code",
   "execution_count": 52,
   "metadata": {},
   "outputs": [
    {
     "data": {
      "text/html": [
       "<div>\n",
       "<style scoped>\n",
       "    .dataframe tbody tr th:only-of-type {\n",
       "        vertical-align: middle;\n",
       "    }\n",
       "\n",
       "    .dataframe tbody tr th {\n",
       "        vertical-align: top;\n",
       "    }\n",
       "\n",
       "    .dataframe thead th {\n",
       "        text-align: right;\n",
       "    }\n",
       "</style>\n",
       "<table border=\"1\" class=\"dataframe\">\n",
       "  <thead>\n",
       "    <tr style=\"text-align: right;\">\n",
       "      <th></th>\n",
       "      <th>alcohol</th>\n",
       "      <th>malic_acid</th>\n",
       "      <th>ash</th>\n",
       "      <th>alcalinity_of_ash</th>\n",
       "      <th>magnesium</th>\n",
       "      <th>total_phenols</th>\n",
       "      <th>flavanoids</th>\n",
       "      <th>nonflavanoid_phenols</th>\n",
       "      <th>proanthocyanins</th>\n",
       "      <th>color_intensity</th>\n",
       "      <th>hue</th>\n",
       "      <th>od280/od315_of_diluted_wines</th>\n",
       "      <th>proline</th>\n",
       "    </tr>\n",
       "  </thead>\n",
       "  <tbody>\n",
       "    <tr>\n",
       "      <th>0</th>\n",
       "      <td>14.23</td>\n",
       "      <td>1.71</td>\n",
       "      <td>2.43</td>\n",
       "      <td>15.6</td>\n",
       "      <td>127.0</td>\n",
       "      <td>2.80</td>\n",
       "      <td>3.06</td>\n",
       "      <td>0.28</td>\n",
       "      <td>2.29</td>\n",
       "      <td>5.64</td>\n",
       "      <td>1.04</td>\n",
       "      <td>3.92</td>\n",
       "      <td>1065.0</td>\n",
       "    </tr>\n",
       "    <tr>\n",
       "      <th>1</th>\n",
       "      <td>13.20</td>\n",
       "      <td>1.78</td>\n",
       "      <td>2.14</td>\n",
       "      <td>11.2</td>\n",
       "      <td>100.0</td>\n",
       "      <td>2.65</td>\n",
       "      <td>2.76</td>\n",
       "      <td>0.26</td>\n",
       "      <td>1.28</td>\n",
       "      <td>4.38</td>\n",
       "      <td>1.05</td>\n",
       "      <td>3.40</td>\n",
       "      <td>1050.0</td>\n",
       "    </tr>\n",
       "    <tr>\n",
       "      <th>2</th>\n",
       "      <td>13.16</td>\n",
       "      <td>2.36</td>\n",
       "      <td>2.67</td>\n",
       "      <td>18.6</td>\n",
       "      <td>101.0</td>\n",
       "      <td>2.80</td>\n",
       "      <td>3.24</td>\n",
       "      <td>0.30</td>\n",
       "      <td>2.81</td>\n",
       "      <td>5.68</td>\n",
       "      <td>1.03</td>\n",
       "      <td>3.17</td>\n",
       "      <td>1185.0</td>\n",
       "    </tr>\n",
       "    <tr>\n",
       "      <th>3</th>\n",
       "      <td>14.37</td>\n",
       "      <td>1.95</td>\n",
       "      <td>2.50</td>\n",
       "      <td>16.8</td>\n",
       "      <td>113.0</td>\n",
       "      <td>3.85</td>\n",
       "      <td>3.49</td>\n",
       "      <td>0.24</td>\n",
       "      <td>2.18</td>\n",
       "      <td>7.80</td>\n",
       "      <td>0.86</td>\n",
       "      <td>3.45</td>\n",
       "      <td>1480.0</td>\n",
       "    </tr>\n",
       "    <tr>\n",
       "      <th>4</th>\n",
       "      <td>13.24</td>\n",
       "      <td>2.59</td>\n",
       "      <td>2.87</td>\n",
       "      <td>21.0</td>\n",
       "      <td>118.0</td>\n",
       "      <td>2.80</td>\n",
       "      <td>2.69</td>\n",
       "      <td>0.39</td>\n",
       "      <td>1.82</td>\n",
       "      <td>4.32</td>\n",
       "      <td>1.04</td>\n",
       "      <td>2.93</td>\n",
       "      <td>735.0</td>\n",
       "    </tr>\n",
       "    <tr>\n",
       "      <th>...</th>\n",
       "      <td>...</td>\n",
       "      <td>...</td>\n",
       "      <td>...</td>\n",
       "      <td>...</td>\n",
       "      <td>...</td>\n",
       "      <td>...</td>\n",
       "      <td>...</td>\n",
       "      <td>...</td>\n",
       "      <td>...</td>\n",
       "      <td>...</td>\n",
       "      <td>...</td>\n",
       "      <td>...</td>\n",
       "      <td>...</td>\n",
       "    </tr>\n",
       "    <tr>\n",
       "      <th>173</th>\n",
       "      <td>13.71</td>\n",
       "      <td>5.65</td>\n",
       "      <td>2.45</td>\n",
       "      <td>20.5</td>\n",
       "      <td>95.0</td>\n",
       "      <td>1.68</td>\n",
       "      <td>0.61</td>\n",
       "      <td>0.52</td>\n",
       "      <td>1.06</td>\n",
       "      <td>7.70</td>\n",
       "      <td>0.64</td>\n",
       "      <td>1.74</td>\n",
       "      <td>740.0</td>\n",
       "    </tr>\n",
       "    <tr>\n",
       "      <th>174</th>\n",
       "      <td>13.40</td>\n",
       "      <td>3.91</td>\n",
       "      <td>2.48</td>\n",
       "      <td>23.0</td>\n",
       "      <td>102.0</td>\n",
       "      <td>1.80</td>\n",
       "      <td>0.75</td>\n",
       "      <td>0.43</td>\n",
       "      <td>1.41</td>\n",
       "      <td>7.30</td>\n",
       "      <td>0.70</td>\n",
       "      <td>1.56</td>\n",
       "      <td>750.0</td>\n",
       "    </tr>\n",
       "    <tr>\n",
       "      <th>175</th>\n",
       "      <td>13.27</td>\n",
       "      <td>4.28</td>\n",
       "      <td>2.26</td>\n",
       "      <td>20.0</td>\n",
       "      <td>120.0</td>\n",
       "      <td>1.59</td>\n",
       "      <td>0.69</td>\n",
       "      <td>0.43</td>\n",
       "      <td>1.35</td>\n",
       "      <td>10.20</td>\n",
       "      <td>0.59</td>\n",
       "      <td>1.56</td>\n",
       "      <td>835.0</td>\n",
       "    </tr>\n",
       "    <tr>\n",
       "      <th>176</th>\n",
       "      <td>13.17</td>\n",
       "      <td>2.59</td>\n",
       "      <td>2.37</td>\n",
       "      <td>20.0</td>\n",
       "      <td>120.0</td>\n",
       "      <td>1.65</td>\n",
       "      <td>0.68</td>\n",
       "      <td>0.53</td>\n",
       "      <td>1.46</td>\n",
       "      <td>9.30</td>\n",
       "      <td>0.60</td>\n",
       "      <td>1.62</td>\n",
       "      <td>840.0</td>\n",
       "    </tr>\n",
       "    <tr>\n",
       "      <th>177</th>\n",
       "      <td>14.13</td>\n",
       "      <td>4.10</td>\n",
       "      <td>2.74</td>\n",
       "      <td>24.5</td>\n",
       "      <td>96.0</td>\n",
       "      <td>2.05</td>\n",
       "      <td>0.76</td>\n",
       "      <td>0.56</td>\n",
       "      <td>1.35</td>\n",
       "      <td>9.20</td>\n",
       "      <td>0.61</td>\n",
       "      <td>1.60</td>\n",
       "      <td>560.0</td>\n",
       "    </tr>\n",
       "  </tbody>\n",
       "</table>\n",
       "<p>178 rows × 13 columns</p>\n",
       "</div>"
      ],
      "text/plain": [
       "     alcohol  malic_acid   ash  alcalinity_of_ash  magnesium  total_phenols  \\\n",
       "0      14.23        1.71  2.43               15.6      127.0           2.80   \n",
       "1      13.20        1.78  2.14               11.2      100.0           2.65   \n",
       "2      13.16        2.36  2.67               18.6      101.0           2.80   \n",
       "3      14.37        1.95  2.50               16.8      113.0           3.85   \n",
       "4      13.24        2.59  2.87               21.0      118.0           2.80   \n",
       "..       ...         ...   ...                ...        ...            ...   \n",
       "173    13.71        5.65  2.45               20.5       95.0           1.68   \n",
       "174    13.40        3.91  2.48               23.0      102.0           1.80   \n",
       "175    13.27        4.28  2.26               20.0      120.0           1.59   \n",
       "176    13.17        2.59  2.37               20.0      120.0           1.65   \n",
       "177    14.13        4.10  2.74               24.5       96.0           2.05   \n",
       "\n",
       "     flavanoids  nonflavanoid_phenols  proanthocyanins  color_intensity   hue  \\\n",
       "0          3.06                  0.28             2.29             5.64  1.04   \n",
       "1          2.76                  0.26             1.28             4.38  1.05   \n",
       "2          3.24                  0.30             2.81             5.68  1.03   \n",
       "3          3.49                  0.24             2.18             7.80  0.86   \n",
       "4          2.69                  0.39             1.82             4.32  1.04   \n",
       "..          ...                   ...              ...              ...   ...   \n",
       "173        0.61                  0.52             1.06             7.70  0.64   \n",
       "174        0.75                  0.43             1.41             7.30  0.70   \n",
       "175        0.69                  0.43             1.35            10.20  0.59   \n",
       "176        0.68                  0.53             1.46             9.30  0.60   \n",
       "177        0.76                  0.56             1.35             9.20  0.61   \n",
       "\n",
       "     od280/od315_of_diluted_wines  proline  \n",
       "0                            3.92   1065.0  \n",
       "1                            3.40   1050.0  \n",
       "2                            3.17   1185.0  \n",
       "3                            3.45   1480.0  \n",
       "4                            2.93    735.0  \n",
       "..                            ...      ...  \n",
       "173                          1.74    740.0  \n",
       "174                          1.56    750.0  \n",
       "175                          1.56    835.0  \n",
       "176                          1.62    840.0  \n",
       "177                          1.60    560.0  \n",
       "\n",
       "[178 rows x 13 columns]"
      ]
     },
     "execution_count": 52,
     "metadata": {},
     "output_type": "execute_result"
    }
   ],
   "source": [
    "wine_data"
   ]
  },
  {
   "cell_type": "markdown",
   "metadata": {},
   "source": [
    "Find a covariance matrix of standartized data and assing it to S."
   ]
  },
  {
   "cell_type": "code",
   "execution_count": 53,
   "metadata": {},
   "outputs": [],
   "source": [
    "## your code\n",
    "\n",
    "Standarter = StandardScaler()\n",
    "X_standarted = Standarter.fit_transform(wine_data)\n",
    "S = np.cov(X_standarted.T)"
   ]
  },
  {
   "cell_type": "code",
   "execution_count": 54,
   "metadata": {},
   "outputs": [
    {
     "name": "stdout",
     "output_type": "stream",
     "text": [
      "Стандартизированный вектор S: [[ 1.00564972  0.09493026  0.21273976 -0.31198788  0.27232816  0.29073446\n",
      "   0.23815287 -0.15681042  0.13747022  0.549451   -0.07215255  0.07275191\n",
      "   0.64735687]\n",
      " [ 0.09493026  1.00564972  0.16497228  0.29013035 -0.05488343 -0.3370606\n",
      "  -0.41332866  0.29463237 -0.22199334  0.25039204 -0.56446685 -0.37079354\n",
      "  -0.19309537]\n",
      " [ 0.21273976  0.16497228  1.00564972  0.44587209  0.28820583  0.12970824\n",
      "   0.11572743  0.1872826   0.00970647  0.2603499  -0.07508874  0.00393333\n",
      "   0.22488969]\n",
      " [-0.31198788  0.29013035  0.44587209  1.00564972 -0.0838039  -0.32292752\n",
      "  -0.353355    0.36396647 -0.19844168  0.01883781 -0.27550299 -0.27833221\n",
      "  -0.44308618]\n",
      " [ 0.27232816 -0.05488343  0.28820583 -0.0838039   1.00564972  0.21561254\n",
      "   0.19688989 -0.25774204  0.23777643  0.20107967  0.05571118  0.06637684\n",
      "   0.39557317]\n",
      " [ 0.29073446 -0.3370606   0.12970824 -0.32292752  0.21561254  1.00564972\n",
      "   0.86944804 -0.45247731  0.61587304 -0.05544792  0.43613151  0.70390388\n",
      "   0.50092909]\n",
      " [ 0.23815287 -0.41332866  0.11572743 -0.353355    0.19688989  0.86944804\n",
      "   1.00564972 -0.54093859  0.65637929 -0.17335329  0.54654907  0.79164133\n",
      "   0.49698518]\n",
      " [-0.15681042  0.29463237  0.1872826   0.36396647 -0.25774204 -0.45247731\n",
      "  -0.54093859  1.00564972 -0.36791202  0.13984265 -0.26412347 -0.50611293\n",
      "  -0.31314443]\n",
      " [ 0.13747022 -0.22199334  0.00970647 -0.19844168  0.23777643  0.61587304\n",
      "   0.65637929 -0.36791202  1.00564972 -0.02539259  0.29721399  0.52199968\n",
      "   0.33228346]\n",
      " [ 0.549451    0.25039204  0.2603499   0.01883781  0.20107967 -0.05544792\n",
      "  -0.17335329  0.13984265 -0.02539259  1.00564972 -0.52476129 -0.43123763\n",
      "   0.31788599]\n",
      " [-0.07215255 -0.56446685 -0.07508874 -0.27550299  0.05571118  0.43613151\n",
      "   0.54654907 -0.26412347  0.29721399 -0.52476129  1.00564972  0.56866303\n",
      "   0.23751782]\n",
      " [ 0.07275191 -0.37079354  0.00393333 -0.27833221  0.06637684  0.70390388\n",
      "   0.79164133 -0.50611293  0.52199968 -0.43123763  0.56866303  1.00564972\n",
      "   0.31452809]\n",
      " [ 0.64735687 -0.19309537  0.22488969 -0.44308618  0.39557317  0.50092909\n",
      "   0.49698518 -0.31314443  0.33228346  0.31788599  0.23751782  0.31452809\n",
      "   1.00564972]]\n"
     ]
    }
   ],
   "source": [
    "print(f'Стандартизированный вектор S: {S}')"
   ]
  },
  {
   "cell_type": "markdown",
   "metadata": {},
   "source": [
    "If your code is correct, the following assert should be Ok."
   ]
  },
  {
   "cell_type": "code",
   "execution_count": 55,
   "metadata": {},
   "outputs": [],
   "source": [
    "assert np.allclose(np.linalg.norm(S), 5.787241159764733)"
   ]
  },
  {
   "cell_type": "code",
   "execution_count": 56,
   "metadata": {},
   "outputs": [],
   "source": [
    "from scipy.optimize import minimize\n",
    "\n",
    "def objective(x):\n",
    "    # your code: write objective of the problem (don't forget that scipy does min while we need max)\n",
    "    \n",
    "    return  1 - (x.T @ S @ x)\n",
    "\n",
    "def norm_constraint(x):\n",
    "    # your code: constaraint norm of x to be 1, function should return 0 if constraint holds\n",
    "    if np.linalg.norm(x) == 1:\n",
    "        return 0\n",
    "    else:\n",
    "        return 1 - x.T.dot(x) \n",
    "\n",
    "con1 = {'type': 'eq', 'fun': norm_constraint}\n",
    "\n",
    "x0 = np.zeros((13, 1))# your code: initial vector to start optimization\n",
    "\n",
    "sol = minimize(objective, \n",
    "               x0, \n",
    "               constraints = [con1]\n",
    "              )\n",
    "x0 = sol.x"
   ]
  },
  {
   "cell_type": "code",
   "execution_count": 57,
   "metadata": {},
   "outputs": [
    {
     "name": "stdout",
     "output_type": "stream",
     "text": [
      "x0 = [ 0.14430074 -0.24519603 -0.00207491 -0.23930028  0.14198332  0.39463543\n",
      "  0.42295239 -0.2985627   0.31341802 -0.08857822  0.29669698  0.37615864\n",
      "  0.28681229]\n"
     ]
    }
   ],
   "source": [
    "print(f'x0 = {x0}')"
   ]
  },
  {
   "cell_type": "markdown",
   "metadata": {},
   "source": [
    "Hurray! We have first vector! Let's do another one."
   ]
  },
  {
   "cell_type": "code",
   "execution_count": 58,
   "metadata": {},
   "outputs": [],
   "source": [
    "def orthogonality_constraint(x):\n",
    "    # your code: x should be orthogonal to x0, function should return 0 if constraint holds\n",
    "\n",
    "    if x.T @ x0 == 0:\n",
    "        return 0\n",
    "    else:\n",
    "        return -(x.T) @ x0\n",
    "    \n",
    "    \n",
    "con2 = {'type': 'eq', 'fun': orthogonality_constraint}\n",
    "\n",
    "x1 = np.zeros((13, 1))# your code: initial vector to start optimization\n",
    "\n",
    "sol = minimize(objective, \n",
    "               x1, \n",
    "               constraints = [con1, con2] )\n",
    "\n",
    "x1 = sol.x"
   ]
  },
  {
   "cell_type": "code",
   "execution_count": 59,
   "metadata": {},
   "outputs": [
    {
     "name": "stdout",
     "output_type": "stream",
     "text": [
      "x1 = [ 0.48362866  0.22491448  0.31607809 -0.0105804   0.29964063  0.06504696\n",
      " -0.00335736  0.02879125  0.03929888  0.53000639 -0.27923971 -0.16453162\n",
      "  0.36489337]\n"
     ]
    }
   ],
   "source": [
    "print(f'x1 = {x1}')"
   ]
  },
  {
   "cell_type": "markdown",
   "metadata": {},
   "source": [
    "If your solution is correct, the following asserts should be Ok."
   ]
  },
  {
   "cell_type": "code",
   "execution_count": 60,
   "metadata": {},
   "outputs": [],
   "source": [
    "assert np.allclose(x0 @ S @ x0, 4.732436977583595)\n",
    "assert np.allclose(x1 @ S @ x1, 2.5110809296451233)"
   ]
  },
  {
   "cell_type": "markdown",
   "metadata": {},
   "source": [
    "### Visualization (2 points)"
   ]
  },
  {
   "cell_type": "markdown",
   "metadata": {},
   "source": [
    "Visualize the points after applying custom dimension reduction with 2 components."
   ]
  },
  {
   "cell_type": "code",
   "execution_count": 61,
   "metadata": {},
   "outputs": [],
   "source": [
    "x = X_standarted @ x0\n",
    "y = X_standarted @ x1"
   ]
  },
  {
   "cell_type": "code",
   "execution_count": 62,
   "metadata": {},
   "outputs": [
    {
     "name": "stderr",
     "output_type": "stream",
     "text": [
      "p:\\python projects\\ai_curces\\venv\\lib\\site-packages\\seaborn\\_decorators.py:36: FutureWarning: Pass the following variables as keyword args: x, y. From version 0.12, the only valid positional argument will be `data`, and passing other arguments without an explicit keyword will result in an error or misinterpretation.\n",
      "  warnings.warn(\n"
     ]
    },
    {
     "data": {
      "text/plain": [
       "[Text(0.5, 1.0, 'Points after applying custom dimension reduction with 2 components'),\n",
       " Text(0.5, 0, 'X_standarted @ x0'),\n",
       " Text(0, 0.5, 'X_standarted @ x1')]"
      ]
     },
     "execution_count": 62,
     "metadata": {},
     "output_type": "execute_result"
    },
    {
     "data": {
      "image/png": "[encoded data removed]",
      "text/plain": [
       "<Figure size 432x288 with 1 Axes>"
      ]
     },
     "metadata": {},
     "output_type": "display_data"
    }
   ],
   "source": [
    "ax = sns.scatterplot(x, y,\n",
    "                palette=\"deep\",\n",
    "                color=\".2\",\n",
    "                marker=\"^\",\n",
    "                legend='full')\n",
    "\n",
    "ax.set(title= \"Points after applying custom dimension reduction with 2 components\",\n",
    "       xlabel='X_standarted @ x0', \n",
    "       ylabel= 'X_standarted @ x1')"
   ]
  },
  {
   "cell_type": "markdown",
   "metadata": {},
   "source": [
    "## Exercise 5 - Boruta (3 points)\n",
    "\n",
    "Let us classify handwritten digits 0, 1 and 2. \n",
    "To make task not so easy the images are binarized (no shadows of gray present) as it happens with xerocopied documents.\n",
    "\n",
    "Let us also find out to which parts of an image there's no need to look in order to clasify three digits of interest."
   ]
  },
  {
   "cell_type": "code",
   "execution_count": 63,
   "metadata": {},
   "outputs": [],
   "source": [
    "X, y = load_digits(n_class=3, return_X_y=True, as_frame=True)\n",
    "X = (X>10).astype(int)"
   ]
  },
  {
   "cell_type": "code",
   "execution_count": 64,
   "metadata": {},
   "outputs": [
    {
     "data": {
      "image/png": "[encoded data removed]",
      "text/plain": [
       "<Figure size 720x288 with 3 Axes>"
      ]
     },
     "metadata": {},
     "output_type": "display_data"
    }
   ],
   "source": [
    "f, ax = plt.subplots(1,3,figsize=(10,4))\n",
    "for i in range(3):\n",
    "    ax[i].imshow(X.iloc[i].values.reshape(8,8))\n",
    "    ax[i].set_title(f\"This is digit {y[i]}.\")\n",
    "plt.suptitle(\"First three images.\")\n",
    "plt.show()"
   ]
  },
  {
   "cell_type": "markdown",
   "metadata": {},
   "source": [
    "Split data into train and test, let test size be 30% of the dataset and fix random state to 42:"
   ]
  },
  {
   "cell_type": "code",
   "execution_count": 65,
   "metadata": {},
   "outputs": [],
   "source": [
    "X_train, X_val, y_train, y_val = train_test_split(X, y, test_size=0.3, random_state=42)     ## your code here"
   ]
  },
  {
   "cell_type": "code",
   "execution_count": 66,
   "metadata": {},
   "outputs": [],
   "source": [
    "assert y_val.shape[0] == 162\n",
    "assert y_val.sum() == 169"
   ]
  },
  {
   "cell_type": "markdown",
   "metadata": {},
   "source": [
    "Fit a RandomForestClassifier with max_depth=13 and evaluate it's performance:"
   ]
  },
  {
   "cell_type": "code",
   "execution_count": 67,
   "metadata": {},
   "outputs": [
    {
     "name": "stdout",
     "output_type": "stream",
     "text": [
      "0.9876543209876543\n"
     ]
    }
   ],
   "source": [
    "clf = RandomForestClassifier(max_depth=13)\n",
    "\n",
    "Rand_Forest_0 = clf.fit(X_train, y_train)\n",
    "# your code here\n",
    "\n",
    "acc = Rand_Forest_0.score(X_val, y_val) # your code here\n",
    "print(acc)\n",
    "# Rand_Forest_0.score(X_val, y_val)"
   ]
  },
  {
   "cell_type": "code",
   "execution_count": 68,
   "metadata": {},
   "outputs": [],
   "source": [
    "assert acc > 0.98"
   ]
  },
  {
   "cell_type": "markdown",
   "metadata": {},
   "source": [
    "Now we will use Boruta to find redundand pixels. If the package is not installed in your system, uncomment and run the following cell."
   ]
  },
  {
   "cell_type": "code",
   "execution_count": 69,
   "metadata": {},
   "outputs": [],
   "source": [
    "# ! pip install boruta"
   ]
  },
  {
   "cell_type": "code",
   "execution_count": 70,
   "metadata": {},
   "outputs": [
    {
     "name": "stdout",
     "output_type": "stream",
     "text": [
      "Doesn't pass the test:  pixel_0_0  - Ranking:  25\n",
      "Doesn't pass the test:  pixel_0_1  - Ranking:  25\n",
      "Passes the test:  pixel_0_2  - Ranking:  1\n",
      "Passes the test:  pixel_0_3  - Ranking:  1\n",
      "Passes the test:  pixel_0_4  - Ranking:  1\n",
      "Passes the test:  pixel_0_5  - Ranking:  1\n",
      "Doesn't pass the test:  pixel_0_6  - Ranking:  25\n",
      "Doesn't pass the test:  pixel_0_7  - Ranking:  25\n",
      "Doesn't pass the test:  pixel_1_0  - Ranking:  25\n",
      "Doesn't pass the test:  pixel_1_1  - Ranking:  8\n",
      "Passes the test:  pixel_1_2  - Ranking:  1\n",
      "Doesn't pass the test:  pixel_1_3  - Ranking:  4\n",
      "Doesn't pass the test:  pixel_1_4  - Ranking:  2\n",
      "Passes the test:  pixel_1_5  - Ranking:  1\n",
      "Doesn't pass the test:  pixel_1_6  - Ranking:  13\n",
      "Doesn't pass the test:  pixel_1_7  - Ranking:  25\n",
      "Doesn't pass the test:  pixel_2_0  - Ranking:  25\n",
      "Doesn't pass the test:  pixel_2_1  - Ranking:  7\n",
      "Passes the test:  pixel_2_2  - Ranking:  1\n",
      "Passes the test:  pixel_2_3  - Ranking:  1\n",
      "Passes the test:  pixel_2_4  - Ranking:  1\n",
      "Passes the test:  pixel_2_5  - Ranking:  1\n",
      "Doesn't pass the test:  pixel_2_6  - Ranking:  11\n",
      "Doesn't pass the test:  pixel_2_7  - Ranking:  25\n",
      "Doesn't pass the test:  pixel_3_0  - Ranking:  25\n",
      "Doesn't pass the test:  pixel_3_1  - Ranking:  9\n",
      "Passes the test:  pixel_3_2  - Ranking:  1\n",
      "Passes the test:  pixel_3_3  - Ranking:  1\n",
      "Passes the test:  pixel_3_4  - Ranking:  1\n",
      "Passes the test:  pixel_3_5  - Ranking:  1\n",
      "Doesn't pass the test:  pixel_3_6  - Ranking:  15\n",
      "Doesn't pass the test:  pixel_3_7  - Ranking:  25\n",
      "Doesn't pass the test:  pixel_4_0  - Ranking:  25\n",
      "Doesn't pass the test:  pixel_4_1  - Ranking:  25\n",
      "Passes the test:  pixel_4_2  - Ranking:  1\n",
      "Passes the test:  pixel_4_3  - Ranking:  1\n",
      "Passes the test:  pixel_4_4  - Ranking:  1\n",
      "Passes the test:  pixel_4_5  - Ranking:  1\n",
      "Doesn't pass the test:  pixel_4_6  - Ranking:  11\n",
      "Doesn't pass the test:  pixel_4_7  - Ranking:  25\n",
      "Doesn't pass the test:  pixel_5_0  - Ranking:  25\n",
      "Doesn't pass the test:  pixel_5_1  - Ranking:  25\n",
      "Passes the test:  pixel_5_2  - Ranking:  1\n",
      "Passes the test:  pixel_5_3  - Ranking:  1\n",
      "Passes the test:  pixel_5_4  - Ranking:  1\n",
      "Passes the test:  pixel_5_5  - Ranking:  1\n",
      "Doesn't pass the test:  pixel_5_6  - Ranking:  6\n",
      "Doesn't pass the test:  pixel_5_7  - Ranking:  25\n",
      "Doesn't pass the test:  pixel_6_0  - Ranking:  25\n",
      "Doesn't pass the test:  pixel_6_1  - Ranking:  10\n",
      "Passes the test:  pixel_6_2  - Ranking:  1\n",
      "Passes the test:  pixel_6_3  - Ranking:  1\n",
      "Passes the test:  pixel_6_4  - Ranking:  1\n",
      "Passes the test:  pixel_6_5  - Ranking:  1\n",
      "Passes the test:  pixel_6_6  - Ranking:  1\n",
      "Doesn't pass the test:  pixel_6_7  - Ranking:  14\n",
      "Doesn't pass the test:  pixel_7_0  - Ranking:  25\n",
      "Doesn't pass the test:  pixel_7_1  - Ranking:  25\n",
      "Passes the test:  pixel_7_2  - Ranking:  1\n",
      "Passes the test:  pixel_7_3  - Ranking:  1\n",
      "Doesn't pass the test:  pixel_7_4  - Ranking:  3\n",
      "Passes the test:  pixel_7_5  - Ranking:  1\n",
      "Passes the test:  pixel_7_6  - Ranking:  1\n",
      "Doesn't pass the test:  pixel_7_7  - Ranking:  5\n"
     ]
    }
   ],
   "source": [
    "from boruta import BorutaPy\n",
    "\n",
    "feat_selector = BorutaPy(RandomForestClassifier(max_depth=13), \n",
    "                         n_estimators='auto', \n",
    "                         verbose=0, \n",
    "                         max_iter=100,\n",
    "                         random_state=42)\n",
    "\n",
    "\n",
    "\n",
    "\n",
    "# your code here: do run the boruta\n",
    "feat_selector.fit(np.array(X_train), np.array(y_train))\n",
    "\n",
    "for i in range(len(feat_selector.support_)):\n",
    "    if feat_selector.support_[i]:\n",
    "        print(\"Passes the test: \", X.columns[i],\n",
    "              \" - Ranking: \", feat_selector.ranking_[i])\n",
    "    else:\n",
    "        print(\"Doesn't pass the test: \",\n",
    "              X.columns[i], \" - Ranking: \", feat_selector.ranking_[i])"
   ]
  },
  {
   "cell_type": "code",
   "execution_count": 71,
   "metadata": {},
   "outputs": [],
   "source": [
    "X_boruta = X_train.columns[feat_selector.support_].to_list()\n",
    "y_boruta = y_train.to_list()"
   ]
  },
  {
   "cell_type": "code",
   "execution_count": 72,
   "metadata": {},
   "outputs": [],
   "source": [
    "rf = RandomForestClassifier(n_jobs=-1, n_estimators=500, oob_score=True, max_depth=6)"
   ]
  },
  {
   "cell_type": "code",
   "execution_count": 73,
   "metadata": {},
   "outputs": [],
   "source": [
    "feat_selector = BorutaPy(rf, n_estimators='auto', verbose=2, random_state=42)"
   ]
  },
  {
   "cell_type": "code",
   "execution_count": 74,
   "metadata": {},
   "outputs": [
    {
     "data": {
      "text/plain": [
       "['pixel_0_2',\n",
       " 'pixel_0_3',\n",
       " 'pixel_0_4',\n",
       " 'pixel_0_5',\n",
       " 'pixel_1_2',\n",
       " 'pixel_1_5',\n",
       " 'pixel_2_2',\n",
       " 'pixel_2_3',\n",
       " 'pixel_2_4',\n",
       " 'pixel_2_5',\n",
       " 'pixel_3_2',\n",
       " 'pixel_3_3',\n",
       " 'pixel_3_4',\n",
       " 'pixel_3_5',\n",
       " 'pixel_4_2',\n",
       " 'pixel_4_3',\n",
       " 'pixel_4_4',\n",
       " 'pixel_4_5',\n",
       " 'pixel_5_2',\n",
       " 'pixel_5_3',\n",
       " 'pixel_5_4',\n",
       " 'pixel_5_5',\n",
       " 'pixel_6_2',\n",
       " 'pixel_6_3',\n",
       " 'pixel_6_4',\n",
       " 'pixel_6_5',\n",
       " 'pixel_6_6',\n",
       " 'pixel_7_2',\n",
       " 'pixel_7_3',\n",
       " 'pixel_7_5',\n",
       " 'pixel_7_6']"
      ]
     },
     "execution_count": 74,
     "metadata": {},
     "output_type": "execute_result"
    }
   ],
   "source": [
    "X_boruta"
   ]
  },
  {
   "cell_type": "code",
   "execution_count": 75,
   "metadata": {},
   "outputs": [
    {
     "data": {
      "text/plain": [
       "[0,\n",
       " 1,\n",
       " 2,\n",
       " 2,\n",
       " 0,\n",
       " 1,\n",
       " 2,\n",
       " 1,\n",
       " 0,\n",
       " 1,\n",
       " 2,\n",
       " 2,\n",
       " 1,\n",
       " 2,\n",
       " 1,\n",
       " 1,\n",
       " 0,\n",
       " 2,\n",
       " 0,\n",
       " 0,\n",
       " 0,\n",
       " 0,\n",
       " 2,\n",
       " 0,\n",
       " 0,\n",
       " 0,\n",
       " 2,\n",
       " 0,\n",
       " 1,\n",
       " 0,\n",
       " 1,\n",
       " 1,\n",
       " 2,\n",
       " 1,\n",
       " 0,\n",
       " 2,\n",
       " 0,\n",
       " 1,\n",
       " 0,\n",
       " 2,\n",
       " 1,\n",
       " 2,\n",
       " 1,\n",
       " 0,\n",
       " 1,\n",
       " 2,\n",
       " 1,\n",
       " 2,\n",
       " 1,\n",
       " 1,\n",
       " 1,\n",
       " 1,\n",
       " 0,\n",
       " 1,\n",
       " 1,\n",
       " 2,\n",
       " 1,\n",
       " 0,\n",
       " 0,\n",
       " 2,\n",
       " 2,\n",
       " 2,\n",
       " 2,\n",
       " 1,\n",
       " 1,\n",
       " 2,\n",
       " 0,\n",
       " 1,\n",
       " 2,\n",
       " 0,\n",
       " 1,\n",
       " 2,\n",
       " 2,\n",
       " 0,\n",
       " 2,\n",
       " 1,\n",
       " 0,\n",
       " 1,\n",
       " 1,\n",
       " 2,\n",
       " 0,\n",
       " 0,\n",
       " 1,\n",
       " 1,\n",
       " 2,\n",
       " 2,\n",
       " 1,\n",
       " 2,\n",
       " 2,\n",
       " 2,\n",
       " 2,\n",
       " 2,\n",
       " 0,\n",
       " 2,\n",
       " 0,\n",
       " 0,\n",
       " 2,\n",
       " 0,\n",
       " 1,\n",
       " 1,\n",
       " 2,\n",
       " 0,\n",
       " 1,\n",
       " 1,\n",
       " 2,\n",
       " 0,\n",
       " 0,\n",
       " 2,\n",
       " 2,\n",
       " 0,\n",
       " 0,\n",
       " 1,\n",
       " 1,\n",
       " 0,\n",
       " 0,\n",
       " 0,\n",
       " 0,\n",
       " 1,\n",
       " 2,\n",
       " 1,\n",
       " 1,\n",
       " 0,\n",
       " 0,\n",
       " 0,\n",
       " 0,\n",
       " 0,\n",
       " 2,\n",
       " 2,\n",
       " 1,\n",
       " 2,\n",
       " 0,\n",
       " 2,\n",
       " 1,\n",
       " 1,\n",
       " 1,\n",
       " 2,\n",
       " 0,\n",
       " 0,\n",
       " 2,\n",
       " 0,\n",
       " 2,\n",
       " 2,\n",
       " 2,\n",
       " 2,\n",
       " 0,\n",
       " 2,\n",
       " 1,\n",
       " 2,\n",
       " 0,\n",
       " 2,\n",
       " 2,\n",
       " 0,\n",
       " 1,\n",
       " 1,\n",
       " 0,\n",
       " 2,\n",
       " 0,\n",
       " 0,\n",
       " 1,\n",
       " 2,\n",
       " 1,\n",
       " 0,\n",
       " 2,\n",
       " 0,\n",
       " 1,\n",
       " 0,\n",
       " 0,\n",
       " 2,\n",
       " 1,\n",
       " 2,\n",
       " 0,\n",
       " 1,\n",
       " 2,\n",
       " 2,\n",
       " 2,\n",
       " 2,\n",
       " 0,\n",
       " 2,\n",
       " 1,\n",
       " 2,\n",
       " 2,\n",
       " 0,\n",
       " 1,\n",
       " 2,\n",
       " 1,\n",
       " 0,\n",
       " 1,\n",
       " 2,\n",
       " 1,\n",
       " 2,\n",
       " 0,\n",
       " 2,\n",
       " 0,\n",
       " 0,\n",
       " 1,\n",
       " 1,\n",
       " 2,\n",
       " 1,\n",
       " 0,\n",
       " 0,\n",
       " 1,\n",
       " 2,\n",
       " 2,\n",
       " 0,\n",
       " 0,\n",
       " 2,\n",
       " 2,\n",
       " 0,\n",
       " 2,\n",
       " 1,\n",
       " 0,\n",
       " 0,\n",
       " 0,\n",
       " 1,\n",
       " 0,\n",
       " 2,\n",
       " 0,\n",
       " 0,\n",
       " 1,\n",
       " 0,\n",
       " 0,\n",
       " 2,\n",
       " 1,\n",
       " 1,\n",
       " 0,\n",
       " 1,\n",
       " 0,\n",
       " 1,\n",
       " 0,\n",
       " 0,\n",
       " 2,\n",
       " 2,\n",
       " 2,\n",
       " 2,\n",
       " 2,\n",
       " 0,\n",
       " 2,\n",
       " 1,\n",
       " 0,\n",
       " 1,\n",
       " 2,\n",
       " 1,\n",
       " 1,\n",
       " 2,\n",
       " 2,\n",
       " 0,\n",
       " 0,\n",
       " 1,\n",
       " 0,\n",
       " 1,\n",
       " 0,\n",
       " 1,\n",
       " 2,\n",
       " 0,\n",
       " 1,\n",
       " 0,\n",
       " 2,\n",
       " 2,\n",
       " 0,\n",
       " 0,\n",
       " 1,\n",
       " 0,\n",
       " 0,\n",
       " 1,\n",
       " 1,\n",
       " 1,\n",
       " 2,\n",
       " 1,\n",
       " 0,\n",
       " 1,\n",
       " 2,\n",
       " 0,\n",
       " 1,\n",
       " 2,\n",
       " 1,\n",
       " 2,\n",
       " 0,\n",
       " 1,\n",
       " 2,\n",
       " 1,\n",
       " 2,\n",
       " 1,\n",
       " 2,\n",
       " 2,\n",
       " 2,\n",
       " 0,\n",
       " 2,\n",
       " 1,\n",
       " 0,\n",
       " 2,\n",
       " 1,\n",
       " 1,\n",
       " 0,\n",
       " 1,\n",
       " 0,\n",
       " 2,\n",
       " 1,\n",
       " 2,\n",
       " 0,\n",
       " 0,\n",
       " 2,\n",
       " 2,\n",
       " 0,\n",
       " 1,\n",
       " 1,\n",
       " 1,\n",
       " 1,\n",
       " 1,\n",
       " 2,\n",
       " 1,\n",
       " 0,\n",
       " 0,\n",
       " 1,\n",
       " 0,\n",
       " 0,\n",
       " 1,\n",
       " 1,\n",
       " 0,\n",
       " 1,\n",
       " 0,\n",
       " 0,\n",
       " 1,\n",
       " 0,\n",
       " 0,\n",
       " 0,\n",
       " 2,\n",
       " 2,\n",
       " 0,\n",
       " 2,\n",
       " 1,\n",
       " 0,\n",
       " 2,\n",
       " 0,\n",
       " 1,\n",
       " 0,\n",
       " 0,\n",
       " 0,\n",
       " 0,\n",
       " 2,\n",
       " 1,\n",
       " 1,\n",
       " 0,\n",
       " 0,\n",
       " 1,\n",
       " 1,\n",
       " 0,\n",
       " 0,\n",
       " 1,\n",
       " 0,\n",
       " 1,\n",
       " 2,\n",
       " 2,\n",
       " 1,\n",
       " 1,\n",
       " 2,\n",
       " 1,\n",
       " 1,\n",
       " 1,\n",
       " 2,\n",
       " 0,\n",
       " 0,\n",
       " 1,\n",
       " 1,\n",
       " 0,\n",
       " 2,\n",
       " 2,\n",
       " 1,\n",
       " 1,\n",
       " 1,\n",
       " 2,\n",
       " 1,\n",
       " 2,\n",
       " 2,\n",
       " 1,\n",
       " 2]"
      ]
     },
     "execution_count": 75,
     "metadata": {},
     "output_type": "execute_result"
    }
   ],
   "source": [
    "y_boruta"
   ]
  },
  {
   "cell_type": "code",
   "execution_count": 78,
   "metadata": {},
   "outputs": [
    {
     "name": "stdout",
     "output_type": "stream",
     "text": [
      "Iteration: \t1 / 100\n",
      "Confirmed: \t0\n",
      "Tentative: \t64\n",
      "Rejected: \t0\n",
      "Iteration: \t2 / 100\n",
      "Confirmed: \t0\n",
      "Tentative: \t64\n",
      "Rejected: \t0\n",
      "Iteration: \t3 / 100\n",
      "Confirmed: \t0\n",
      "Tentative: \t64\n",
      "Rejected: \t0\n",
      "Iteration: \t4 / 100\n",
      "Confirmed: \t0\n",
      "Tentative: \t64\n",
      "Rejected: \t0\n",
      "Iteration: \t5 / 100\n",
      "Confirmed: \t0\n",
      "Tentative: \t64\n",
      "Rejected: \t0\n",
      "Iteration: \t6 / 100\n",
      "Confirmed: \t0\n",
      "Tentative: \t64\n",
      "Rejected: \t0\n",
      "Iteration: \t7 / 100\n",
      "Confirmed: \t0\n",
      "Tentative: \t64\n",
      "Rejected: \t0\n",
      "Iteration: \t8 / 100\n",
      "Confirmed: \t32\n",
      "Tentative: \t5\n",
      "Rejected: \t27\n",
      "Iteration: \t9 / 100\n",
      "Confirmed: \t32\n",
      "Tentative: \t5\n",
      "Rejected: \t27\n",
      "Iteration: \t10 / 100\n",
      "Confirmed: \t32\n",
      "Tentative: \t5\n",
      "Rejected: \t27\n",
      "Iteration: \t11 / 100\n",
      "Confirmed: \t32\n",
      "Tentative: \t5\n",
      "Rejected: \t27\n",
      "Iteration: \t12 / 100\n",
      "Confirmed: \t32\n",
      "Tentative: \t5\n",
      "Rejected: \t27\n",
      "Iteration: \t13 / 100\n",
      "Confirmed: \t32\n",
      "Tentative: \t5\n",
      "Rejected: \t27\n",
      "Iteration: \t14 / 100\n",
      "Confirmed: \t32\n",
      "Tentative: \t5\n",
      "Rejected: \t27\n",
      "Iteration: \t15 / 100\n",
      "Confirmed: \t32\n",
      "Tentative: \t5\n",
      "Rejected: \t27\n",
      "Iteration: \t16 / 100\n",
      "Confirmed: \t32\n",
      "Tentative: \t5\n",
      "Rejected: \t27\n",
      "Iteration: \t17 / 100\n",
      "Confirmed: \t32\n",
      "Tentative: \t5\n",
      "Rejected: \t27\n",
      "Iteration: \t18 / 100\n",
      "Confirmed: \t32\n",
      "Tentative: \t5\n",
      "Rejected: \t27\n",
      "Iteration: \t19 / 100\n",
      "Confirmed: \t32\n",
      "Tentative: \t5\n",
      "Rejected: \t27\n",
      "Iteration: \t20 / 100\n",
      "Confirmed: \t32\n",
      "Tentative: \t5\n",
      "Rejected: \t27\n",
      "Iteration: \t21 / 100\n",
      "Confirmed: \t32\n",
      "Tentative: \t5\n",
      "Rejected: \t27\n",
      "Iteration: \t22 / 100\n",
      "Confirmed: \t32\n",
      "Tentative: \t5\n",
      "Rejected: \t27\n",
      "Iteration: \t23 / 100\n",
      "Confirmed: \t32\n",
      "Tentative: \t5\n",
      "Rejected: \t27\n",
      "Iteration: \t24 / 100\n",
      "Confirmed: \t32\n",
      "Tentative: \t5\n",
      "Rejected: \t27\n",
      "Iteration: \t25 / 100\n",
      "Confirmed: \t32\n",
      "Tentative: \t5\n",
      "Rejected: \t27\n",
      "Iteration: \t26 / 100\n",
      "Confirmed: \t32\n",
      "Tentative: \t5\n",
      "Rejected: \t27\n",
      "Iteration: \t27 / 100\n",
      "Confirmed: \t32\n",
      "Tentative: \t5\n",
      "Rejected: \t27\n",
      "Iteration: \t28 / 100\n",
      "Confirmed: \t32\n",
      "Tentative: \t5\n",
      "Rejected: \t27\n",
      "Iteration: \t29 / 100\n",
      "Confirmed: \t32\n",
      "Tentative: \t5\n",
      "Rejected: \t27\n",
      "Iteration: \t30 / 100\n",
      "Confirmed: \t32\n",
      "Tentative: \t5\n",
      "Rejected: \t27\n",
      "Iteration: \t31 / 100\n",
      "Confirmed: \t32\n",
      "Tentative: \t5\n",
      "Rejected: \t27\n",
      "Iteration: \t32 / 100\n",
      "Confirmed: \t32\n",
      "Tentative: \t5\n",
      "Rejected: \t27\n",
      "Iteration: \t33 / 100\n",
      "Confirmed: \t32\n",
      "Tentative: \t5\n",
      "Rejected: \t27\n",
      "Iteration: \t34 / 100\n",
      "Confirmed: \t32\n",
      "Tentative: \t5\n",
      "Rejected: \t27\n",
      "Iteration: \t35 / 100\n",
      "Confirmed: \t32\n",
      "Tentative: \t5\n",
      "Rejected: \t27\n",
      "Iteration: \t36 / 100\n",
      "Confirmed: \t32\n",
      "Tentative: \t5\n",
      "Rejected: \t27\n",
      "Iteration: \t37 / 100\n",
      "Confirmed: \t32\n",
      "Tentative: \t5\n",
      "Rejected: \t27\n",
      "Iteration: \t38 / 100\n",
      "Confirmed: \t32\n",
      "Tentative: \t5\n",
      "Rejected: \t27\n",
      "Iteration: \t39 / 100\n",
      "Confirmed: \t32\n",
      "Tentative: \t5\n",
      "Rejected: \t27\n",
      "Iteration: \t40 / 100\n",
      "Confirmed: \t32\n",
      "Tentative: \t5\n",
      "Rejected: \t27\n",
      "Iteration: \t41 / 100\n",
      "Confirmed: \t32\n",
      "Tentative: \t5\n",
      "Rejected: \t27\n",
      "Iteration: \t42 / 100\n",
      "Confirmed: \t32\n",
      "Tentative: \t5\n",
      "Rejected: \t27\n",
      "Iteration: \t43 / 100\n",
      "Confirmed: \t32\n",
      "Tentative: \t5\n",
      "Rejected: \t27\n",
      "Iteration: \t44 / 100\n",
      "Confirmed: \t32\n",
      "Tentative: \t5\n",
      "Rejected: \t27\n",
      "Iteration: \t45 / 100\n",
      "Confirmed: \t32\n",
      "Tentative: \t5\n",
      "Rejected: \t27\n",
      "Iteration: \t46 / 100\n",
      "Confirmed: \t32\n",
      "Tentative: \t5\n",
      "Rejected: \t27\n",
      "Iteration: \t47 / 100\n",
      "Confirmed: \t32\n",
      "Tentative: \t5\n",
      "Rejected: \t27\n",
      "Iteration: \t48 / 100\n",
      "Confirmed: \t32\n",
      "Tentative: \t5\n",
      "Rejected: \t27\n",
      "Iteration: \t49 / 100\n",
      "Confirmed: \t32\n",
      "Tentative: \t5\n",
      "Rejected: \t27\n",
      "Iteration: \t50 / 100\n",
      "Confirmed: \t32\n",
      "Tentative: \t5\n",
      "Rejected: \t27\n",
      "Iteration: \t51 / 100\n",
      "Confirmed: \t32\n",
      "Tentative: \t5\n",
      "Rejected: \t27\n",
      "Iteration: \t52 / 100\n",
      "Confirmed: \t32\n",
      "Tentative: \t5\n",
      "Rejected: \t27\n",
      "Iteration: \t53 / 100\n",
      "Confirmed: \t32\n",
      "Tentative: \t5\n",
      "Rejected: \t27\n",
      "Iteration: \t54 / 100\n",
      "Confirmed: \t32\n",
      "Tentative: \t5\n",
      "Rejected: \t27\n",
      "Iteration: \t55 / 100\n",
      "Confirmed: \t32\n",
      "Tentative: \t5\n",
      "Rejected: \t27\n",
      "Iteration: \t56 / 100\n",
      "Confirmed: \t32\n",
      "Tentative: \t5\n",
      "Rejected: \t27\n",
      "Iteration: \t57 / 100\n",
      "Confirmed: \t32\n",
      "Tentative: \t4\n",
      "Rejected: \t28\n",
      "Iteration: \t58 / 100\n",
      "Confirmed: \t32\n",
      "Tentative: \t4\n",
      "Rejected: \t28\n",
      "Iteration: \t59 / 100\n",
      "Confirmed: \t32\n",
      "Tentative: \t4\n",
      "Rejected: \t28\n",
      "Iteration: \t60 / 100\n",
      "Confirmed: \t32\n",
      "Tentative: \t4\n",
      "Rejected: \t28\n",
      "Iteration: \t61 / 100\n",
      "Confirmed: \t32\n",
      "Tentative: \t4\n",
      "Rejected: \t28\n",
      "Iteration: \t62 / 100\n",
      "Confirmed: \t32\n",
      "Tentative: \t4\n",
      "Rejected: \t28\n",
      "Iteration: \t63 / 100\n",
      "Confirmed: \t32\n",
      "Tentative: \t4\n",
      "Rejected: \t28\n",
      "Iteration: \t64 / 100\n",
      "Confirmed: \t32\n",
      "Tentative: \t4\n",
      "Rejected: \t28\n",
      "Iteration: \t65 / 100\n",
      "Confirmed: \t32\n",
      "Tentative: \t3\n",
      "Rejected: \t29\n",
      "Iteration: \t66 / 100\n",
      "Confirmed: \t32\n",
      "Tentative: \t3\n",
      "Rejected: \t29\n",
      "Iteration: \t67 / 100\n",
      "Confirmed: \t32\n",
      "Tentative: \t3\n",
      "Rejected: \t29\n",
      "Iteration: \t68 / 100\n",
      "Confirmed: \t32\n",
      "Tentative: \t3\n",
      "Rejected: \t29\n",
      "Iteration: \t69 / 100\n",
      "Confirmed: \t32\n",
      "Tentative: \t3\n",
      "Rejected: \t29\n",
      "Iteration: \t70 / 100\n",
      "Confirmed: \t32\n",
      "Tentative: \t3\n",
      "Rejected: \t29\n",
      "Iteration: \t71 / 100\n",
      "Confirmed: \t32\n",
      "Tentative: \t3\n",
      "Rejected: \t29\n",
      "Iteration: \t72 / 100\n",
      "Confirmed: \t32\n",
      "Tentative: \t3\n",
      "Rejected: \t29\n",
      "Iteration: \t73 / 100\n",
      "Confirmed: \t32\n",
      "Tentative: \t3\n",
      "Rejected: \t29\n",
      "Iteration: \t74 / 100\n",
      "Confirmed: \t32\n",
      "Tentative: \t3\n",
      "Rejected: \t29\n",
      "Iteration: \t75 / 100\n",
      "Confirmed: \t32\n",
      "Tentative: \t3\n",
      "Rejected: \t29\n",
      "Iteration: \t76 / 100\n",
      "Confirmed: \t32\n",
      "Tentative: \t3\n",
      "Rejected: \t29\n",
      "Iteration: \t77 / 100\n",
      "Confirmed: \t32\n",
      "Tentative: \t2\n",
      "Rejected: \t30\n",
      "Iteration: \t78 / 100\n",
      "Confirmed: \t32\n",
      "Tentative: \t2\n",
      "Rejected: \t30\n",
      "Iteration: \t79 / 100\n",
      "Confirmed: \t32\n",
      "Tentative: \t2\n",
      "Rejected: \t30\n",
      "Iteration: \t80 / 100\n",
      "Confirmed: \t33\n",
      "Tentative: \t1\n",
      "Rejected: \t30\n",
      "Iteration: \t81 / 100\n",
      "Confirmed: \t33\n",
      "Tentative: \t1\n",
      "Rejected: \t30\n",
      "Iteration: \t82 / 100\n",
      "Confirmed: \t33\n",
      "Tentative: \t1\n",
      "Rejected: \t30\n",
      "Iteration: \t83 / 100\n",
      "Confirmed: \t33\n",
      "Tentative: \t1\n",
      "Rejected: \t30\n",
      "Iteration: \t84 / 100\n",
      "Confirmed: \t33\n",
      "Tentative: \t1\n",
      "Rejected: \t30\n",
      "Iteration: \t85 / 100\n",
      "Confirmed: \t33\n",
      "Tentative: \t1\n",
      "Rejected: \t30\n",
      "Iteration: \t86 / 100\n",
      "Confirmed: \t33\n",
      "Tentative: \t1\n",
      "Rejected: \t30\n",
      "Iteration: \t87 / 100\n",
      "Confirmed: \t33\n",
      "Tentative: \t1\n",
      "Rejected: \t30\n",
      "Iteration: \t88 / 100\n",
      "Confirmed: \t33\n",
      "Tentative: \t1\n",
      "Rejected: \t30\n",
      "Iteration: \t89 / 100\n",
      "Confirmed: \t33\n",
      "Tentative: \t1\n",
      "Rejected: \t30\n",
      "Iteration: \t90 / 100\n",
      "Confirmed: \t33\n",
      "Tentative: \t1\n",
      "Rejected: \t30\n",
      "Iteration: \t91 / 100\n",
      "Confirmed: \t33\n",
      "Tentative: \t1\n",
      "Rejected: \t30\n",
      "Iteration: \t92 / 100\n",
      "Confirmed: \t33\n",
      "Tentative: \t1\n",
      "Rejected: \t30\n",
      "Iteration: \t93 / 100\n",
      "Confirmed: \t33\n",
      "Tentative: \t1\n",
      "Rejected: \t30\n",
      "Iteration: \t94 / 100\n",
      "Confirmed: \t33\n",
      "Tentative: \t1\n",
      "Rejected: \t30\n",
      "Iteration: \t95 / 100\n",
      "Confirmed: \t33\n",
      "Tentative: \t1\n",
      "Rejected: \t30\n",
      "Iteration: \t96 / 100\n",
      "Confirmed: \t33\n",
      "Tentative: \t1\n",
      "Rejected: \t30\n",
      "Iteration: \t97 / 100\n",
      "Confirmed: \t33\n",
      "Tentative: \t1\n",
      "Rejected: \t30\n",
      "Iteration: \t98 / 100\n",
      "Confirmed: \t33\n",
      "Tentative: \t1\n",
      "Rejected: \t30\n",
      "Iteration: \t99 / 100\n",
      "Confirmed: \t33\n",
      "Tentative: \t1\n",
      "Rejected: \t30\n",
      "\n",
      "\n",
      "BorutaPy finished running.\n",
      "\n",
      "Iteration: \t100 / 100\n",
      "Confirmed: \t33\n",
      "Tentative: \t0\n",
      "Rejected: \t30\n"
     ]
    },
    {
     "data": {
      "text/plain": [
       "BorutaPy(estimator=RandomForestClassifier(max_depth=6, n_estimators=137,\n",
       "                                          n_jobs=-1, oob_score=True,\n",
       "                                          random_state=RandomState(MT19937) at 0x1E1D9BFED40),\n",
       "         n_estimators='auto',\n",
       "         random_state=RandomState(MT19937) at 0x1E1D9BFED40, verbose=2)"
      ]
     },
     "execution_count": 78,
     "metadata": {},
     "output_type": "execute_result"
    }
   ],
   "source": [
    "feat_selector.fit(np.array(X_train), np.array(y_train))"
   ]
  },
  {
   "cell_type": "markdown",
   "metadata": {},
   "source": [
    "Let us print redundant pixels as a mask. Does the result looks similar to mine (or to Among us chracters)? "
   ]
  },
  {
   "cell_type": "code",
   "execution_count": 79,
   "metadata": {},
   "outputs": [
    {
     "data": {
      "image/png": "[encoded data removed]",
      "text/plain": [
       "<Figure size 432x288 with 1 Axes>"
      ]
     },
     "metadata": {},
     "output_type": "display_data"
    }
   ],
   "source": [
    "mask = np.array(feat_selector.support_).reshape(8,8)\n",
    "plt.imshow(mask);"
   ]
  },
  {
   "cell_type": "markdown",
   "metadata": {},
   "source": [
    "At the end let us redo  classification but only with selected features"
   ]
  },
  {
   "cell_type": "code",
   "execution_count": 97,
   "metadata": {},
   "outputs": [
    {
     "name": "stdout",
     "output_type": "stream",
     "text": [
      "Test accuracy = 1.0\n",
      "Validation accuracy = 0.9938271604938271\n"
     ]
    }
   ],
   "source": [
    "clf = RandomForestClassifier(max_depth=13)\n",
    "\n",
    "# your code here\n",
    "clf.fit(X_train, y_train)\n",
    "\n",
    "\"\"\"acc = Rand_Forest_0.score(X_val, y_val) # your code here\n",
    "print(acc)\"\"\"\n",
    "\n",
    "acc =clf.score(X_val, y_val) # your code here\n",
    "print(f'Test accuracy = {clf.score(X_train, y_train)}')\n",
    "print(f'Validation accuracy = {acc}')\n"
   ]
  },
  {
   "cell_type": "code",
   "execution_count": 98,
   "metadata": {},
   "outputs": [],
   "source": [
    "assert acc > 0.99"
   ]
  },
  {
   "cell_type": "markdown",
   "metadata": {},
   "source": [
    "# Materials & References"
   ]
  },
  {
   "cell_type": "markdown",
   "metadata": {},
   "source": [
    "1. General article about feature engineering and selection (main reference):\n",
    "https://github.com/Yorko/mlcourse.ai/blob/master/jupyter_english/topic06_features_regression/topic6_feature_engineering_feature_selection.ipynb\n",
    "\n",
    "2. Feature engineering/preprocessing, using scikit-learn API (great code examples, but really brief explanation):    \n",
    "https://scikit-learn.org/stable/modules/preprocessing\n",
    "\n",
    "3. Feature scaling/normalization:     \n",
    "https://towardsdatascience.com/all-about-feature-scaling-bcc0ad75cb35\n",
    "\n",
    "4. Log Transform/power transform:    \n",
    "https://medium.com/@kyawsawhtoon/log-transformation-purpose-and-interpretation-9444b4b049c9\n",
    "\n",
    "6. Missing values preprocessing using scikit-learn API (great code examples, great explanation):    \n",
    "https://scikit-learn.org/stable/modules/impute.html\n",
    "\n",
    "7. Feature selection scikit-learn API (great code examples, great explanation):   \n",
    "https://scikit-learn.org/stable/modules/feature_selection.html\n",
    "\n",
    "8. Melbourne housing dataset source:    \n",
    "https://www.kaggle.com/anthonypino/melbourne-housing-market"
   ]
  }
 ],
 "metadata": {
  "kernelspec": {
   "display_name": "Python 3 (ipykernel)",
   "language": "python",
   "name": "python3"
  },
  "language_info": {
   "codemirror_mode": {
    "name": "ipython",
    "version": 3
   },
   "file_extension": ".py",
   "mimetype": "text/x-python",
   "name": "python",
   "nbconvert_exporter": "python",
   "pygments_lexer": "ipython3",
   "version": "3.8.0"
  },
  "toc": {
   "base_numbering": "1",
   "nav_menu": {},
   "number_sections": true,
   "sideBar": true,
   "skip_h1_title": false,
   "title_cell": "Table of Contents",
   "title_sidebar": "Contents",
   "toc_cell": false,
   "toc_position": {
    "height": "calc(100% - 180px)",
    "left": "10px",
    "top": "150px",
    "width": "165px"
   },
   "toc_section_display": true,
   "toc_window_display": true
  }
 },
 "nbformat": 4,
 "nbformat_minor": 4
}
